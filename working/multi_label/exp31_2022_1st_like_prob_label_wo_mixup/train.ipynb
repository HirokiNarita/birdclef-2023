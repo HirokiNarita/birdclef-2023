{
 "cells": [
  {
   "cell_type": "markdown",
   "metadata": {},
   "source": [
    "imprements by https://www.kaggle.com/code/awsaf49/birdclef23-effnet-fsr-cutmixup-train"
   ]
  },
  {
   "cell_type": "markdown",
   "metadata": {},
   "source": [
    "# Impoert library"
   ]
  },
  {
   "cell_type": "code",
   "execution_count": 1,
   "metadata": {},
   "outputs": [],
   "source": [
    "import os\n",
    "import random\n",
    "import json\n",
    "from glob import glob\n",
    "from pathlib import Path\n",
    "import yaml\n",
    "from tqdm import tqdm\n",
    "import IPython.display as ipd\n",
    "\n",
    "import numpy as np\n",
    "import pandas as pd\n",
    "\n",
    "import matplotlib as mpl\n",
    "cmap = mpl.cm.get_cmap('coolwarm')\n",
    "import matplotlib.pyplot as plt\n",
    "\n",
    "import librosa\n",
    "import wandb\n",
    "from sklearn import metrics\n",
    "\n",
    "import torch\n",
    "from torch import nn\n",
    "from torch.nn import functional as F\n",
    "from torch.cuda.amp import autocast, GradScaler\n",
    "\n",
    "from timm.scheduler import CosineLRScheduler"
   ]
  },
  {
   "cell_type": "code",
   "execution_count": 2,
   "metadata": {},
   "outputs": [],
   "source": [
    "from config import CFG\n",
    "from pytorch_model import BirdCLEF23Net\n",
    "from pytorch_wav2logmel import Wav2Logmel\n",
    "import pytorch_modeler as modeler\n",
    "import pytorch_preprocessing as prep\n",
    "import common as com"
   ]
  },
  {
   "cell_type": "code",
   "execution_count": 3,
   "metadata": {},
   "outputs": [
    {
     "name": "stdout",
     "output_type": "stream",
     "text": [
      "cuda:0\n",
      "Debug : False\n"
     ]
    }
   ],
   "source": [
    "modeler.set_seed(CFG.seed)\n",
    "# setting\n",
    "device = torch.device(\"cuda:0\" if torch.cuda.is_available() else \"cpu\")\n",
    "print(device)\n",
    "print('Debug :', CFG.debug)"
   ]
  },
  {
   "cell_type": "markdown",
   "metadata": {},
   "source": [
    "# Wandb"
   ]
  },
  {
   "cell_type": "code",
   "execution_count": 4,
   "metadata": {},
   "outputs": [
    {
     "name": "stderr",
     "output_type": "stream",
     "text": [
      "\u001b[34m\u001b[1mwandb\u001b[0m: Currently logged in as: \u001b[33mhirokin1999\u001b[0m. Use \u001b[1m`wandb login --relogin`\u001b[0m to force relogin\n",
      "\u001b[34m\u001b[1mwandb\u001b[0m: \u001b[33mWARNING\u001b[0m If you're specifying your api key in code, ensure this code is not shared publicly.\n",
      "\u001b[34m\u001b[1mwandb\u001b[0m: \u001b[33mWARNING\u001b[0m Consider setting the WANDB_API_KEY environment variable, or running `wandb login` from the command line.\n",
      "\u001b[34m\u001b[1mwandb\u001b[0m: Appending key for api.wandb.ai to your netrc file: /root/.netrc\n"
     ]
    },
    {
     "name": "stdout",
     "output_type": "stream",
     "text": [
      "local mode\n"
     ]
    }
   ],
   "source": [
    "# Try to get the API key from Kaggle secrets\n",
    "try:\n",
    "    from kaggle_secrets import UserSecretsClient\n",
    "    user_secrets = UserSecretsClient()\n",
    "    api_key = user_secrets.get_secret(\"WANDB\")\n",
    "    # Login to wandb with the API key\n",
    "    wandb.login(key=api_key)\n",
    "    print('kaggle notebook mode')\n",
    "except:\n",
    "    key_path = '/kaggle/input/wandb_key.txt'\n",
    "    p = Path(key_path)\n",
    "    api_key = p.read_text()\n",
    "    wandb.login(key=api_key)\n",
    "    print('local mode')"
   ]
  },
  {
   "cell_type": "code",
   "execution_count": 5,
   "metadata": {},
   "outputs": [
    {
     "name": "stdout",
     "output_type": "stream",
     "text": [
      "2023-05-23 15:28:48\n"
     ]
    }
   ],
   "source": [
    "from datetime import datetime\n",
    "import pytz\n",
    "\n",
    "# 日本時間のタイムゾーンを設定\n",
    "jst = pytz.timezone('Asia/Tokyo')\n",
    "\n",
    "# 現在時刻を取得し、日本時間に変換\n",
    "now = datetime.now(jst)\n",
    "\n",
    "# 現在時刻を文字列に変換\n",
    "now_str = now.strftime('%Y-%m-%d %H:%M:%S')\n",
    "\n",
    "print(now_str)"
   ]
  },
  {
   "cell_type": "code",
   "execution_count": 6,
   "metadata": {},
   "outputs": [],
   "source": [
    "import yaml\n",
    "from tqdm import tqdm\n",
    "\n",
    "def wandb_init(fold):\n",
    "    config = {k: v for k, v in dict(vars(CFG)).items() if '__' not in k}\n",
    "    config.update({\"fold\": int(fold)})\n",
    "    yaml.dump(config, open(f'./config fold-{fold}.yaml', 'w'), )\n",
    "    config = yaml.load(open(f'./config fold-{fold}.yaml', 'r'), Loader=yaml.FullLoader)\n",
    "    run = wandb.init(project=\"birdclef-2023-public\",\n",
    "                     name=f\"fold-{fold}|dim-{CFG.img_size[1]}x{CFG.img_size[0]}|model-{CFG.model_name}|{now_str}\",\n",
    "                     config=config,\n",
    "                     group=CFG.comment,\n",
    "                     save_code=True, )\n",
    "    return run\n",
    "\n",
    "\n",
    "def log_wandb(valid_df):\n",
    "    save_df = valid_df.query(\"miss==True\")\n",
    "    save_df.loc[:, 'pred_name'] = save_df.pred.map(CFG.label2name)\n",
    "    save_df.loc[:, 'target_name'] = save_df.target.map(CFG.label2name)\n",
    "    if CFG.debug:\n",
    "        save_df = save_df.iloc[:CFG.batch_size * CFG.valid_bs]\n",
    "    noimg_cols = [*CFG.tab_cols, 'target', 'pred', 'target_name', 'pred_name']\n",
    "    save_df = save_df.loc[:, noimg_cols]\n",
    "\n",
    "    data = []\n",
    "    for idx, row in tqdm(save_df.iterrows(), total=len(save_df), desc='wandb ', position=0, leave=True):\n",
    "        filepath = '/kaggle/input/birdclef-2023/train_audio/' + row.filename\n",
    "        audio, sr = librosa.load(filepath, sr=None)\n",
    "        data += [[*row.tolist(), wandb.Audio(audio, caption=row.filename, sample_rate=sr)]]\n",
    "    wandb_table = wandb.Table(data=data, columns=[*noimg_cols, 'audio'])\n",
    "    wandb.log({'best': scores,\n",
    "               'table': wandb_table,\n",
    "               })"
   ]
  },
  {
   "cell_type": "markdown",
   "metadata": {},
   "source": [
    "# Data Frame"
   ]
  },
  {
   "cell_type": "code",
   "execution_count": 7,
   "metadata": {},
   "outputs": [
    {
     "name": "stderr",
     "output_type": "stream",
     "text": [
      "/opt/conda/lib/python3.7/site-packages/ipykernel_launcher.py:2: FutureWarning: The default value of regex will change from True to False in a future version.\n",
      "  \n"
     ]
    },
    {
     "data": {
      "text/html": [
       "<div>\n",
       "<style scoped>\n",
       "    .dataframe tbody tr th:only-of-type {\n",
       "        vertical-align: middle;\n",
       "    }\n",
       "\n",
       "    .dataframe tbody tr th {\n",
       "        vertical-align: top;\n",
       "    }\n",
       "\n",
       "    .dataframe thead th {\n",
       "        text-align: right;\n",
       "    }\n",
       "</style>\n",
       "<table border=\"1\" class=\"dataframe\">\n",
       "  <thead>\n",
       "    <tr style=\"text-align: right;\">\n",
       "      <th></th>\n",
       "      <th>primary_label</th>\n",
       "      <th>secondary_labels</th>\n",
       "      <th>type</th>\n",
       "      <th>latitude</th>\n",
       "      <th>longitude</th>\n",
       "      <th>scientific_name</th>\n",
       "      <th>common_name</th>\n",
       "      <th>author</th>\n",
       "      <th>license</th>\n",
       "      <th>rating</th>\n",
       "      <th>url</th>\n",
       "      <th>filename</th>\n",
       "      <th>filepath</th>\n",
       "      <th>target</th>\n",
       "      <th>birdclef</th>\n",
       "      <th>xc_id</th>\n",
       "    </tr>\n",
       "  </thead>\n",
       "  <tbody>\n",
       "    <tr>\n",
       "      <th>0</th>\n",
       "      <td>abethr1</td>\n",
       "      <td>[]</td>\n",
       "      <td>['song']</td>\n",
       "      <td>4.3906</td>\n",
       "      <td>38.2788</td>\n",
       "      <td>Turdus tephronotus</td>\n",
       "      <td>African Bare-eyed Thrush</td>\n",
       "      <td>Rolf A. de By</td>\n",
       "      <td>Creative Commons Attribution-NonCommercial-Sha...</td>\n",
       "      <td>4.0</td>\n",
       "      <td>https://www.xeno-canto.org/128013</td>\n",
       "      <td>abethr1/XC128013.ogg</td>\n",
       "      <td>/kaggle/input/birdclef-2023/train_audio_wav/ab...</td>\n",
       "      <td>0</td>\n",
       "      <td>23</td>\n",
       "      <td>XC128013</td>\n",
       "    </tr>\n",
       "    <tr>\n",
       "      <th>1</th>\n",
       "      <td>abethr1</td>\n",
       "      <td>[]</td>\n",
       "      <td>['call']</td>\n",
       "      <td>-2.9524</td>\n",
       "      <td>38.2921</td>\n",
       "      <td>Turdus tephronotus</td>\n",
       "      <td>African Bare-eyed Thrush</td>\n",
       "      <td>James Bradley</td>\n",
       "      <td>Creative Commons Attribution-NonCommercial-Sha...</td>\n",
       "      <td>3.5</td>\n",
       "      <td>https://www.xeno-canto.org/363501</td>\n",
       "      <td>abethr1/XC363501.ogg</td>\n",
       "      <td>/kaggle/input/birdclef-2023/train_audio_wav/ab...</td>\n",
       "      <td>0</td>\n",
       "      <td>23</td>\n",
       "      <td>XC363501</td>\n",
       "    </tr>\n",
       "  </tbody>\n",
       "</table>\n",
       "</div>"
      ],
      "text/plain": [
       "  primary_label secondary_labels      type  latitude  longitude  \\\n",
       "0       abethr1               []  ['song']    4.3906    38.2788   \n",
       "1       abethr1               []  ['call']   -2.9524    38.2921   \n",
       "\n",
       "      scientific_name               common_name         author  \\\n",
       "0  Turdus tephronotus  African Bare-eyed Thrush  Rolf A. de By   \n",
       "1  Turdus tephronotus  African Bare-eyed Thrush  James Bradley   \n",
       "\n",
       "                                             license  rating  \\\n",
       "0  Creative Commons Attribution-NonCommercial-Sha...     4.0   \n",
       "1  Creative Commons Attribution-NonCommercial-Sha...     3.5   \n",
       "\n",
       "                                 url              filename  \\\n",
       "0  https://www.xeno-canto.org/128013  abethr1/XC128013.ogg   \n",
       "1  https://www.xeno-canto.org/363501  abethr1/XC363501.ogg   \n",
       "\n",
       "                                            filepath  target birdclef  \\\n",
       "0  /kaggle/input/birdclef-2023/train_audio_wav/ab...       0       23   \n",
       "1  /kaggle/input/birdclef-2023/train_audio_wav/ab...       0       23   \n",
       "\n",
       "      xc_id  \n",
       "0  XC128013  \n",
       "1  XC363501  "
      ]
     },
     "execution_count": 7,
     "metadata": {},
     "output_type": "execute_result"
    }
   ],
   "source": [
    "df = pd.read_csv(f'{CFG.BASE_PATH}/train_metadata.csv')\n",
    "filename = df['filename'].str.replace('.ogg', '.wav')\n",
    "df['filepath'] = CFG.BASE_PATH + '/train_audio_wav/' + filename\n",
    "df['target'] = df.primary_label.map(CFG.name2label)\n",
    "df['birdclef'] = '23'\n",
    "#df['filename'] = df.filepath.map(lambda x: x.split('/')[-1])\n",
    "df['xc_id'] = df.filepath.map(lambda x: x.split('/')[-1].split('.')[0])\n",
    "df.head(2)"
   ]
  },
  {
   "cell_type": "code",
   "execution_count": 8,
   "metadata": {},
   "outputs": [
    {
     "name": "stdout",
     "output_type": "stream",
     "text": [
      "# Samples for Pre-Training: 588\n"
     ]
    },
    {
     "data": {
      "image/png": "[encoded data removed]",
      "text/plain": [
       "<Figure size 576x288 with 1 Axes>"
      ]
     },
     "metadata": {
      "needs_background": "light"
     },
     "output_type": "display_data"
    }
   ],
   "source": [
    "# BirdCLEF-2020\n",
    "df_20 = pd.read_csv(f'{CFG.BASE_PATH_20}/train.csv')\n",
    "df_20['primary_label'] = df_20['ebird_code']\n",
    "df_20['filepath'] = CFG.BASE_PATH_20 + '/train_audio/' + df_20.primary_label + '/' + df_20.filename\n",
    "df_20['scientific_name'] = df_20['sci_name']\n",
    "df_20['common_name'] = df_20['species']\n",
    "df_20['target'] = df_20.primary_label.map(CFG.name2label_pre)\n",
    "df_20['birdclef'] = '20'\n",
    "#assert tf.io.gfile.exists(df_20.filepath.iloc[0])\n",
    "\n",
    "# Xeno-Canto Extend by @vopani\n",
    "df_xam = pd.read_csv(f'{CFG.BASE_PATH_xam}/train_extended.csv')\n",
    "df_xam['filepath'] = CFG.BASE_PATH_xam + '/A-M/' + df_xam.ebird_code + '/' + df_xam.filename\n",
    "df_xnz = pd.read_csv(f'{CFG.BASE_PATH_xnz}/train_extended.csv')\n",
    "df_xnz['filepath'] = CFG.BASE_PATH_xnz + '/N-Z/' + df_xnz.ebird_code + '/' + df_xnz.filename\n",
    "df_xc = pd.concat([df_xam, df_xnz], axis=0, ignore_index=True)\n",
    "df_xc['primary_label'] = df_xc['ebird_code']\n",
    "df_xc['scientific_name'] = df_xc['sci_name']\n",
    "df_xc['common_name'] = df_xc['species']\n",
    "df_xc['target'] = df_xc.primary_label.map(CFG.name2label_pre)\n",
    "df_xc['birdclef'] = 'xc'\n",
    "#assert tf.io.gfile.exists(df_xc.filepath.iloc[0])\n",
    "\n",
    "# BirdCLEF-2021\n",
    "df_21 = pd.read_csv(f'{CFG.BASE_PATH_21}/train_metadata.csv')\n",
    "df_21['filepath'] = CFG.BASE_PATH_21 + '/train_short_audio/' + df_21.primary_label + '/' + df_21.filename\n",
    "df_21['target'] = df_21.primary_label.map(CFG.name2label_pre)\n",
    "df_21['birdclef'] = '21'\n",
    "corrupt_paths = [f'{CFG.BASE_PATH_21}/train_short_audio/houwre/XC590621.ogg',\n",
    "                 f'{CFG.BASE_PATH_21}/train_short_audio/cogdov/XC579430.ogg']\n",
    "df_21 = df_21[~df_21.filepath.isin(corrupt_paths)] # remove all zero audios\n",
    "#assert tf.io.gfile.exists(df_21.filepath.iloc[0])\n",
    "\n",
    "# BirdCLEF-2022\n",
    "df_22 = pd.read_csv(f'{CFG.BASE_PATH_22}/train_metadata.csv')\n",
    "df_22['filepath'] = CFG.BASE_PATH_22 + '/train_audio/' + df_22.filename\n",
    "df_22['target'] = df_22.primary_label.map(CFG.name2label_pre)\n",
    "df_22['birdclef'] = '22'\n",
    "#assert tf.io.gfile.exists(df_22.filepath.iloc[0])\n",
    "\n",
    "# Merge 2021 and 2022 for pretraining\n",
    "df_pre = pd.concat([df_20, df_21, df_22, df_xc], axis=0, ignore_index=True)\n",
    "df_pre['filename'] = df_pre.filepath.map(lambda x: x.split('/')[-1])\n",
    "df_pre['xc_id'] = df_pre.filepath.map(lambda x: x.split('/')[-1].split('.')[0])\n",
    "nodup_idx = df_pre[['xc_id','primary_label','author']].drop_duplicates().index\n",
    "df_pre = df_pre.loc[nodup_idx].reset_index(drop=True)\n",
    "\n",
    "# # Remove duplicates\n",
    "df_pre = df_pre[~df_pre.xc_id.isin(df.xc_id)].reset_index(drop=True)\n",
    "corrupt_mp3s = json.load(open('/kaggle/input/birdclef-2023-dataset/corrupt_mp3_files.json','r'))\n",
    "corrupt_mp3s = [path.replace('/kaggle/input','/kaggle/input/birdclef-2023-dataset') for path in corrupt_mp3s]\n",
    "df_pre = df_pre[~df_pre.filepath.isin(corrupt_mp3s)]\n",
    "df_pre = df_pre[['filename','filepath','primary_label','secondary_labels',\n",
    "                 'rating','author','file_type','xc_id','scientific_name',\n",
    "                'common_name','target','birdclef','bird_seen']]\n",
    "\n",
    "# rename\n",
    "df_pre['filepath']=df_pre['filepath'].str.replace('train_audio', 'train_audio_mono_wav')\n",
    "df_pre['filepath']=df_pre['filepath'].str.replace('train_short_audio', 'train_short_audio_mono_wav')\n",
    "df_pre['filepath']=df_pre['filepath'].str.replace('A-M', 'A-M_wav')\n",
    "df_pre['filepath']=df_pre['filepath'].str.replace('mp3', 'wav')\n",
    "df_pre['filepath']=df_pre['filepath'].str.replace('ogg', 'wav')\n",
    "# fillna\n",
    "df_pre=df_pre.fillna('')\n",
    "# to 23 class_names\n",
    "df_pre = df_pre[df_pre['primary_label'].isin(CFG.class_names)]\n",
    "df_pre = df_pre.reset_index(drop=True)\n",
    "df_pre['target'] = df_pre.primary_label.map(CFG.name2label)\n",
    "df_pre['secondary_labels'] = '[]'\n",
    "\n",
    "# Display rows\n",
    "print(\"# Samples for Pre-Training: {:,}\".format(len(df_pre)))\n",
    "df_pre.head(2).style.set_caption(\"Pre-Training Data\").set_table_styles([{\n",
    "    'selector': 'caption',\n",
    "    'props': [\n",
    "        ('color', 'blue'),\n",
    "        ('font-size', '16px')\n",
    "    ]\n",
    "}])\n",
    "\n",
    "# Show distribution\n",
    "plt.figure(figsize=(8, 4))\n",
    "df_pre.birdclef.value_counts().plot.bar(color=[cmap(0.0),cmap(0.25), cmap(0.65), cmap(0.9)])\n",
    "plt.xlabel(\"Dataset\")\n",
    "plt.ylabel(\"Count\")\n",
    "plt.title(\"Dataset distribution for Pre-Training\")\n",
    "plt.show()"
   ]
  },
  {
   "cell_type": "code",
   "execution_count": 9,
   "metadata": {},
   "outputs": [
    {
     "name": "stderr",
     "output_type": "stream",
     "text": [
      "/opt/conda/lib/python3.7/site-packages/sklearn/model_selection/_split.py:680: UserWarning: The least populated class in y has only 1 members, which is less than n_splits=5.\n",
      "  UserWarning,\n"
     ]
    }
   ],
   "source": [
    "# Import required packages\n",
    "from sklearn.model_selection import StratifiedKFold\n",
    "\n",
    "# Initialize the StratifiedKFold object with 5 splits and shuffle the data\n",
    "skf = StratifiedKFold(n_splits=5, shuffle=True, random_state=CFG.seed)\n",
    "\n",
    "# Reset the index of the dataframe\n",
    "df = df.reset_index(drop=True)\n",
    "\n",
    "# Create a new column in the dataframe to store the fold number for each row\n",
    "df[\"fold\"] = -1\n",
    "\n",
    "# Iterate over the folds and assign the corresponding fold number to each row in the dataframe\n",
    "for fold, (train_idx, val_idx) in enumerate(skf.split(df, df['primary_label'])):\n",
    "    df.loc[val_idx, 'fold'] = fold"
   ]
  },
  {
   "cell_type": "code",
   "execution_count": 10,
   "metadata": {},
   "outputs": [
    {
     "data": {
      "text/html": [
       "<div>\n",
       "<style scoped>\n",
       "    .dataframe tbody tr th:only-of-type {\n",
       "        vertical-align: middle;\n",
       "    }\n",
       "\n",
       "    .dataframe tbody tr th {\n",
       "        vertical-align: top;\n",
       "    }\n",
       "\n",
       "    .dataframe thead th {\n",
       "        text-align: right;\n",
       "    }\n",
       "</style>\n",
       "<table border=\"1\" class=\"dataframe\">\n",
       "  <thead>\n",
       "    <tr style=\"text-align: right;\">\n",
       "      <th></th>\n",
       "      <th>filename</th>\n",
       "      <th>filepath</th>\n",
       "      <th>primary_label</th>\n",
       "      <th>secondary_labels</th>\n",
       "      <th>rating</th>\n",
       "      <th>author</th>\n",
       "      <th>file_type</th>\n",
       "      <th>xc_id</th>\n",
       "      <th>scientific_name</th>\n",
       "      <th>common_name</th>\n",
       "      <th>target</th>\n",
       "      <th>birdclef</th>\n",
       "      <th>bird_seen</th>\n",
       "    </tr>\n",
       "  </thead>\n",
       "  <tbody>\n",
       "    <tr>\n",
       "      <th>0</th>\n",
       "      <td>XC139728.mp3</td>\n",
       "      <td>/kaggle/input/birdclef-2023-dataset/birdsong-r...</td>\n",
       "      <td>barswa</td>\n",
       "      <td>[]</td>\n",
       "      <td>5.0</td>\n",
       "      <td>Paul Driver</td>\n",
       "      <td>mp3</td>\n",
       "      <td>XC139728</td>\n",
       "      <td>Hirundo rustica</td>\n",
       "      <td>Barn Swallow</td>\n",
       "      <td>20</td>\n",
       "      <td>20</td>\n",
       "      <td>yes</td>\n",
       "    </tr>\n",
       "    <tr>\n",
       "      <th>1</th>\n",
       "      <td>XC142466.mp3</td>\n",
       "      <td>/kaggle/input/birdclef-2023-dataset/birdsong-r...</td>\n",
       "      <td>barswa</td>\n",
       "      <td>[]</td>\n",
       "      <td>5.0</td>\n",
       "      <td>Francesco Sottile</td>\n",
       "      <td>mp3</td>\n",
       "      <td>XC142466</td>\n",
       "      <td>Hirundo rustica</td>\n",
       "      <td>Barn Swallow</td>\n",
       "      <td>20</td>\n",
       "      <td>20</td>\n",
       "      <td>yes</td>\n",
       "    </tr>\n",
       "    <tr>\n",
       "      <th>2</th>\n",
       "      <td>XC142632.mp3</td>\n",
       "      <td>/kaggle/input/birdclef-2023-dataset/birdsong-r...</td>\n",
       "      <td>barswa</td>\n",
       "      <td>[]</td>\n",
       "      <td>5.0</td>\n",
       "      <td>Erik Roels</td>\n",
       "      <td>mp3</td>\n",
       "      <td>XC142632</td>\n",
       "      <td>Hirundo rustica</td>\n",
       "      <td>Barn Swallow</td>\n",
       "      <td>20</td>\n",
       "      <td>20</td>\n",
       "      <td>yes</td>\n",
       "    </tr>\n",
       "    <tr>\n",
       "      <th>3</th>\n",
       "      <td>XC142731.mp3</td>\n",
       "      <td>/kaggle/input/birdclef-2023-dataset/birdsong-r...</td>\n",
       "      <td>barswa</td>\n",
       "      <td>[]</td>\n",
       "      <td>5.0</td>\n",
       "      <td>Erik Roels</td>\n",
       "      <td>mp3</td>\n",
       "      <td>XC142731</td>\n",
       "      <td>Hirundo rustica</td>\n",
       "      <td>Barn Swallow</td>\n",
       "      <td>20</td>\n",
       "      <td>20</td>\n",
       "      <td>yes</td>\n",
       "    </tr>\n",
       "    <tr>\n",
       "      <th>4</th>\n",
       "      <td>XC142977.mp3</td>\n",
       "      <td>/kaggle/input/birdclef-2023-dataset/birdsong-r...</td>\n",
       "      <td>barswa</td>\n",
       "      <td>[]</td>\n",
       "      <td>5.0</td>\n",
       "      <td>Erik Roels</td>\n",
       "      <td>mp3</td>\n",
       "      <td>XC142977</td>\n",
       "      <td>Hirundo rustica</td>\n",
       "      <td>Barn Swallow</td>\n",
       "      <td>20</td>\n",
       "      <td>20</td>\n",
       "      <td>yes</td>\n",
       "    </tr>\n",
       "    <tr>\n",
       "      <th>...</th>\n",
       "      <td>...</td>\n",
       "      <td>...</td>\n",
       "      <td>...</td>\n",
       "      <td>...</td>\n",
       "      <td>...</td>\n",
       "      <td>...</td>\n",
       "      <td>...</td>\n",
       "      <td>...</td>\n",
       "      <td>...</td>\n",
       "      <td>...</td>\n",
       "      <td>...</td>\n",
       "      <td>...</td>\n",
       "      <td>...</td>\n",
       "    </tr>\n",
       "    <tr>\n",
       "      <th>583</th>\n",
       "      <td>XC316378.mp3</td>\n",
       "      <td>/kaggle/input/birdclef-2023-dataset/xeno-canto...</td>\n",
       "      <td>barswa</td>\n",
       "      <td>[]</td>\n",
       "      <td>1.0</td>\n",
       "      <td>Cedric Mroczko</td>\n",
       "      <td>mp3</td>\n",
       "      <td>XC316378</td>\n",
       "      <td>Hirundo rustica</td>\n",
       "      <td>Barn Swallow</td>\n",
       "      <td>20</td>\n",
       "      <td>xc</td>\n",
       "      <td>yes</td>\n",
       "    </tr>\n",
       "    <tr>\n",
       "      <th>584</th>\n",
       "      <td>XC561783.mp3</td>\n",
       "      <td>/kaggle/input/birdclef-2023-dataset/xeno-canto...</td>\n",
       "      <td>greegr</td>\n",
       "      <td>[]</td>\n",
       "      <td>4.5</td>\n",
       "      <td>Kent Livezey</td>\n",
       "      <td>mp3</td>\n",
       "      <td>XC561783</td>\n",
       "      <td>Ardea alba</td>\n",
       "      <td>Great Egret</td>\n",
       "      <td>106</td>\n",
       "      <td>xc</td>\n",
       "      <td>yes</td>\n",
       "    </tr>\n",
       "    <tr>\n",
       "      <th>585</th>\n",
       "      <td>XC561777.mp3</td>\n",
       "      <td>/kaggle/input/birdclef-2023-dataset/xeno-canto...</td>\n",
       "      <td>greegr</td>\n",
       "      <td>[]</td>\n",
       "      <td>4.5</td>\n",
       "      <td>Kent Livezey</td>\n",
       "      <td>mp3</td>\n",
       "      <td>XC561777</td>\n",
       "      <td>Ardea alba</td>\n",
       "      <td>Great Egret</td>\n",
       "      <td>106</td>\n",
       "      <td>xc</td>\n",
       "      <td>yes</td>\n",
       "    </tr>\n",
       "    <tr>\n",
       "      <th>586</th>\n",
       "      <td>XC548833.mp3</td>\n",
       "      <td>/kaggle/input/birdclef-2023-dataset/xeno-canto...</td>\n",
       "      <td>greegr</td>\n",
       "      <td>[]</td>\n",
       "      <td>4.5</td>\n",
       "      <td>Kent Livezey</td>\n",
       "      <td>mp3</td>\n",
       "      <td>XC548833</td>\n",
       "      <td>Ardea alba</td>\n",
       "      <td>Great Egret</td>\n",
       "      <td>106</td>\n",
       "      <td>xc</td>\n",
       "      <td>yes</td>\n",
       "    </tr>\n",
       "    <tr>\n",
       "      <th>587</th>\n",
       "      <td>XC393118.mp3</td>\n",
       "      <td>/kaggle/input/birdclef-2023-dataset/xeno-canto...</td>\n",
       "      <td>greegr</td>\n",
       "      <td>[]</td>\n",
       "      <td>3.5</td>\n",
       "      <td>Kent Livezey</td>\n",
       "      <td>mp3</td>\n",
       "      <td>XC393118</td>\n",
       "      <td>Ardea alba</td>\n",
       "      <td>Great Egret</td>\n",
       "      <td>106</td>\n",
       "      <td>xc</td>\n",
       "      <td>yes</td>\n",
       "    </tr>\n",
       "  </tbody>\n",
       "</table>\n",
       "<p>588 rows × 13 columns</p>\n",
       "</div>"
      ],
      "text/plain": [
       "         filename                                           filepath  \\\n",
       "0    XC139728.mp3  /kaggle/input/birdclef-2023-dataset/birdsong-r...   \n",
       "1    XC142466.mp3  /kaggle/input/birdclef-2023-dataset/birdsong-r...   \n",
       "2    XC142632.mp3  /kaggle/input/birdclef-2023-dataset/birdsong-r...   \n",
       "3    XC142731.mp3  /kaggle/input/birdclef-2023-dataset/birdsong-r...   \n",
       "4    XC142977.mp3  /kaggle/input/birdclef-2023-dataset/birdsong-r...   \n",
       "..            ...                                                ...   \n",
       "583  XC316378.mp3  /kaggle/input/birdclef-2023-dataset/xeno-canto...   \n",
       "584  XC561783.mp3  /kaggle/input/birdclef-2023-dataset/xeno-canto...   \n",
       "585  XC561777.mp3  /kaggle/input/birdclef-2023-dataset/xeno-canto...   \n",
       "586  XC548833.mp3  /kaggle/input/birdclef-2023-dataset/xeno-canto...   \n",
       "587  XC393118.mp3  /kaggle/input/birdclef-2023-dataset/xeno-canto...   \n",
       "\n",
       "    primary_label secondary_labels  rating             author file_type  \\\n",
       "0          barswa               []     5.0        Paul Driver       mp3   \n",
       "1          barswa               []     5.0  Francesco Sottile       mp3   \n",
       "2          barswa               []     5.0         Erik Roels       mp3   \n",
       "3          barswa               []     5.0         Erik Roels       mp3   \n",
       "4          barswa               []     5.0         Erik Roels       mp3   \n",
       "..            ...              ...     ...                ...       ...   \n",
       "583        barswa               []     1.0     Cedric Mroczko       mp3   \n",
       "584        greegr               []     4.5       Kent Livezey       mp3   \n",
       "585        greegr               []     4.5       Kent Livezey       mp3   \n",
       "586        greegr               []     4.5       Kent Livezey       mp3   \n",
       "587        greegr               []     3.5       Kent Livezey       mp3   \n",
       "\n",
       "        xc_id  scientific_name   common_name  target birdclef bird_seen  \n",
       "0    XC139728  Hirundo rustica  Barn Swallow      20       20       yes  \n",
       "1    XC142466  Hirundo rustica  Barn Swallow      20       20       yes  \n",
       "2    XC142632  Hirundo rustica  Barn Swallow      20       20       yes  \n",
       "3    XC142731  Hirundo rustica  Barn Swallow      20       20       yes  \n",
       "4    XC142977  Hirundo rustica  Barn Swallow      20       20       yes  \n",
       "..        ...              ...           ...     ...      ...       ...  \n",
       "583  XC316378  Hirundo rustica  Barn Swallow      20       xc       yes  \n",
       "584  XC561783       Ardea alba   Great Egret     106       xc       yes  \n",
       "585  XC561777       Ardea alba   Great Egret     106       xc       yes  \n",
       "586  XC548833       Ardea alba   Great Egret     106       xc       yes  \n",
       "587  XC393118       Ardea alba   Great Egret     106       xc       yes  \n",
       "\n",
       "[588 rows x 13 columns]"
      ]
     },
     "execution_count": 10,
     "metadata": {},
     "output_type": "execute_result"
    }
   ],
   "source": [
    "df_pre"
   ]
  },
  {
   "cell_type": "markdown",
   "metadata": {},
   "source": [
    "# Training"
   ]
  },
  {
   "cell_type": "code",
   "execution_count": 11,
   "metadata": {},
   "outputs": [],
   "source": [
    "import gc\n",
    "def gc_collect():\n",
    "    gc.collect()\n",
    "    torch.cuda.empty_cache()"
   ]
  },
  {
   "cell_type": "code",
   "execution_count": 12,
   "metadata": {},
   "outputs": [],
   "source": [
    "def drop_weight(weight):\n",
    "    target_string='model.classifier'\n",
    "    drop_keys = [key for key in weight.keys() if target_string in key]\n",
    "    target_string='att_block'\n",
    "    drop_keys += [key for key in weight.keys() if target_string in key]\n",
    "    for key in drop_keys:\n",
    "        if key in weight:\n",
    "            del weight[key]\n",
    "    return weight\n",
    "\n",
    "# def name2onehot(multi_label_names: torch.Tensor):\n",
    "#     multi_label_names = [ast.literal_eval(multi_label_name) for multi_label_name in multi_label_names]\n",
    "#     multi_label_onehot=mlb.transform(multi_label_names)\n",
    "#     multi_label_onehot=torch.tensor(multi_label_onehot).float()\n",
    "#     return multi_label_onehot"
   ]
  },
  {
   "cell_type": "code",
   "execution_count": null,
   "metadata": {
    "tags": []
   },
   "outputs": [
    {
     "data": {
      "text/html": [
       "wandb version 0.15.3 is available!  To upgrade, please run:\n",
       " $ pip install wandb --upgrade"
      ],
      "text/plain": [
       "<IPython.core.display.HTML object>"
      ]
     },
     "metadata": {},
     "output_type": "display_data"
    },
    {
     "data": {
      "text/html": [
       "Tracking run with wandb version 0.12.21"
      ],
      "text/plain": [
       "<IPython.core.display.HTML object>"
      ]
     },
     "metadata": {},
     "output_type": "display_data"
    },
    {
     "data": {
      "text/html": [
       "Run data is saved locally in <code>/kaggle/working/multi_label/exp31_2022_1st_like_prob_label_wo_mixup/wandb/run-20230523_062852-15tb95z8</code>"
      ],
      "text/plain": [
       "<IPython.core.display.HTML object>"
      ]
     },
     "metadata": {},
     "output_type": "display_data"
    },
    {
     "data": {
      "text/html": [
       "Syncing run <strong><a href=\"https://wandb.ai/hirokin1999/birdclef-2023-public/runs/15tb95z8\" target=\"_blank\">fold-0|dim-1001x128|model-tf_efficientnet_b1_ns|2023-05-23 15:28:48</a></strong> to <a href=\"https://wandb.ai/hirokin1999/birdclef-2023-public\" target=\"_blank\">Weights & Biases</a> (<a href=\"https://wandb.me/run\" target=\"_blank\">docs</a>)<br/>"
      ],
      "text/plain": [
       "<IPython.core.display.HTML object>"
      ]
     },
     "metadata": {},
     "output_type": "display_data"
    },
    {
     "name": "stdout",
     "output_type": "stream",
     "text": [
      "load pre-trained model :  /kaggle/working/multi_label/exp22_primary_label_2022_1st_like/fold-0.pth\n",
      "<All keys matched successfully>\n",
      "#########################\n",
      "#### Training\n",
      "#### Fold: 1 | Image Size: (128, 1001) | Model: tf_efficientnet_b1_ns | Batch Size: 64 | Scheduler: cos\n",
      "#### Num Train: 20,215 | Num Valid: 3,381\n"
     ]
    },
    {
     "name": "stderr",
     "output_type": "stream",
     "text": [
      "100%|██████████| 316/316 [05:03<00:00,  1.04it/s]\n",
      "100%|██████████| 27/27 [00:24<00:00,  1.11it/s]\n"
     ]
    },
    {
     "name": "stdout",
     "output_type": "stream",
     "text": [
      "Epoch: 1 | Train Loss: 2.7730002339127697 | Val Loss: 1.4253970517052545 | Val Padded_cmAP : 0.8991035816107337\n"
     ]
    },
    {
     "name": "stderr",
     "output_type": "stream",
     "text": [
      "100%|██████████| 316/316 [05:11<00:00,  1.01it/s]\n",
      "100%|██████████| 27/27 [00:28<00:00,  1.04s/it]\n"
     ]
    },
    {
     "name": "stdout",
     "output_type": "stream",
     "text": [
      "Epoch: 2 | Train Loss: 2.5734129631066622 | Val Loss: 1.4120124225263242 | Val Padded_cmAP : 0.9007272930216205\n"
     ]
    },
    {
     "name": "stderr",
     "output_type": "stream",
     "text": [
      "100%|██████████| 316/316 [05:33<00:00,  1.06s/it]\n",
      "100%|██████████| 27/27 [00:24<00:00,  1.12it/s]\n"
     ]
    },
    {
     "name": "stdout",
     "output_type": "stream",
     "text": [
      "Epoch: 3 | Train Loss: 2.4997636174099354 | Val Loss: 1.3830104326760326 | Val Padded_cmAP : 0.9003572125861822\n"
     ]
    },
    {
     "name": "stderr",
     "output_type": "stream",
     "text": [
      "100%|██████████| 316/316 [04:57<00:00,  1.06it/s]\n",
      "100%|██████████| 27/27 [00:24<00:00,  1.12it/s]\n"
     ]
    },
    {
     "name": "stdout",
     "output_type": "stream",
     "text": [
      "Epoch: 4 | Train Loss: 2.4578217460384852 | Val Loss: 1.4067131887983393 | Val Padded_cmAP : 0.9007737394392852\n"
     ]
    },
    {
     "name": "stderr",
     "output_type": "stream",
     "text": [
      "100%|██████████| 316/316 [04:59<00:00,  1.06it/s]\n",
      "100%|██████████| 27/27 [00:24<00:00,  1.12it/s]\n"
     ]
    },
    {
     "name": "stdout",
     "output_type": "stream",
     "text": [
      "Epoch: 5 | Train Loss: 2.4031191985063916 | Val Loss: 1.3944076597690582 | Val Padded_cmAP : 0.9015418580222295\n"
     ]
    },
    {
     "name": "stderr",
     "output_type": "stream",
     "text": [
      "100%|██████████| 316/316 [04:56<00:00,  1.06it/s]\n",
      "100%|██████████| 27/27 [00:24<00:00,  1.11it/s]\n"
     ]
    },
    {
     "name": "stdout",
     "output_type": "stream",
     "text": [
      "Epoch: 6 | Train Loss: 2.3862340046635158 | Val Loss: 1.4437110655837588 | Val Padded_cmAP : 0.8997914403434049\n"
     ]
    },
    {
     "name": "stderr",
     "output_type": "stream",
     "text": [
      "100%|██████████| 316/316 [05:00<00:00,  1.05it/s]\n",
      "100%|██████████| 27/27 [00:23<00:00,  1.13it/s]\n"
     ]
    },
    {
     "name": "stdout",
     "output_type": "stream",
     "text": [
      "Epoch: 7 | Train Loss: 2.32856228004528 | Val Loss: 1.4277462694380019 | Val Padded_cmAP : 0.9007028779592451\n"
     ]
    },
    {
     "name": "stderr",
     "output_type": "stream",
     "text": [
      "100%|██████████| 316/316 [05:07<00:00,  1.03it/s]\n",
      "100%|██████████| 27/27 [00:23<00:00,  1.13it/s]\n"
     ]
    },
    {
     "name": "stdout",
     "output_type": "stream",
     "text": [
      "Epoch: 8 | Train Loss: 2.3025182711927195 | Val Loss: 1.4911767343680065 | Val Padded_cmAP : 0.8984731075900027\n"
     ]
    },
    {
     "name": "stderr",
     "output_type": "stream",
     "text": [
      "100%|██████████| 316/316 [05:10<00:00,  1.02it/s]\n",
      "100%|██████████| 27/27 [00:23<00:00,  1.13it/s]\n"
     ]
    },
    {
     "name": "stdout",
     "output_type": "stream",
     "text": [
      "Epoch: 9 | Train Loss: 2.303164016974123 | Val Loss: 1.4310834650640134 | Val Padded_cmAP : 0.9006261800128882\n"
     ]
    },
    {
     "name": "stderr",
     "output_type": "stream",
     "text": [
      "100%|██████████| 316/316 [05:09<00:00,  1.02it/s]\n",
      "100%|██████████| 27/27 [00:24<00:00,  1.12it/s]\n"
     ]
    },
    {
     "name": "stdout",
     "output_type": "stream",
     "text": [
      "Epoch: 10 | Train Loss: 2.2697896214225626 | Val Loss: 1.4285612768597074 | Val Padded_cmAP : 0.9021674935474933\n"
     ]
    },
    {
     "name": "stderr",
     "output_type": "stream",
     "text": [
      "100%|██████████| 316/316 [05:06<00:00,  1.03it/s]\n",
      "100%|██████████| 27/27 [00:23<00:00,  1.13it/s]\n"
     ]
    },
    {
     "name": "stdout",
     "output_type": "stream",
     "text": [
      "Epoch: 11 | Train Loss: 2.2734682390206977 | Val Loss: 1.4206838961000796 | Val Padded_cmAP : 0.9015883061283885\n"
     ]
    },
    {
     "name": "stderr",
     "output_type": "stream",
     "text": [
      "100%|██████████| 316/316 [05:18<00:00,  1.01s/it]\n",
      "100%|██████████| 27/27 [00:24<00:00,  1.11it/s]\n"
     ]
    },
    {
     "name": "stdout",
     "output_type": "stream",
     "text": [
      "Epoch: 12 | Train Loss: 2.243276563249057 | Val Loss: 1.4161993386568847 | Val Padded_cmAP : 0.9015029959474163\n"
     ]
    },
    {
     "name": "stderr",
     "output_type": "stream",
     "text": [
      "100%|██████████| 316/316 [05:23<00:00,  1.02s/it]\n",
      "100%|██████████| 27/27 [00:24<00:00,  1.12it/s]\n"
     ]
    },
    {
     "name": "stdout",
     "output_type": "stream",
     "text": [
      "Epoch: 13 | Train Loss: 2.226284198368652 | Val Loss: 1.486172482923225 | Val Padded_cmAP : 0.9004652086071647\n"
     ]
    },
    {
     "name": "stderr",
     "output_type": "stream",
     "text": [
      "100%|██████████| 316/316 [05:16<00:00,  1.00s/it]\n",
      "100%|██████████| 27/27 [00:23<00:00,  1.13it/s]\n"
     ]
    },
    {
     "name": "stdout",
     "output_type": "stream",
     "text": [
      "Epoch: 14 | Train Loss: 2.1955187735678274 | Val Loss: 1.4943733380900488 | Val Padded_cmAP : 0.9010855836335886\n"
     ]
    },
    {
     "name": "stderr",
     "output_type": "stream",
     "text": [
      "100%|██████████| 316/316 [05:21<00:00,  1.02s/it]\n",
      "100%|██████████| 27/27 [00:23<00:00,  1.13it/s]\n"
     ]
    },
    {
     "name": "stdout",
     "output_type": "stream",
     "text": [
      "Epoch: 15 | Train Loss: 2.184197755931299 | Val Loss: 1.4324004296903257 | Val Padded_cmAP : 0.901965798685486\n"
     ]
    },
    {
     "name": "stderr",
     "output_type": "stream",
     "text": [
      "100%|██████████| 316/316 [05:29<00:00,  1.04s/it]\n",
      "100%|██████████| 27/27 [00:23<00:00,  1.13it/s]\n"
     ]
    },
    {
     "name": "stdout",
     "output_type": "stream",
     "text": [
      "Epoch: 16 | Train Loss: 2.1837707878668096 | Val Loss: 1.4650189170130976 | Val Padded_cmAP : 0.901491137029212\n"
     ]
    },
    {
     "name": "stderr",
     "output_type": "stream",
     "text": [
      "100%|██████████| 316/316 [05:20<00:00,  1.02s/it]\n",
      "100%|██████████| 27/27 [00:23<00:00,  1.13it/s]\n"
     ]
    },
    {
     "name": "stdout",
     "output_type": "stream",
     "text": [
      "Epoch: 17 | Train Loss: 2.1562729998479915 | Val Loss: 1.4493729262440294 | Val Padded_cmAP : 0.9023016428447523\n"
     ]
    },
    {
     "name": "stderr",
     "output_type": "stream",
     "text": [
      "100%|██████████| 316/316 [05:14<00:00,  1.01it/s]\n",
      "100%|██████████| 27/27 [00:24<00:00,  1.12it/s]\n"
     ]
    },
    {
     "name": "stdout",
     "output_type": "stream",
     "text": [
      "Epoch: 18 | Train Loss: 2.142924857290485 | Val Loss: 1.4538392899213013 | Val Padded_cmAP : 0.9018382831708018\n"
     ]
    },
    {
     "name": "stderr",
     "output_type": "stream",
     "text": [
      "100%|██████████| 316/316 [05:16<00:00,  1.00s/it]\n",
      "100%|██████████| 27/27 [00:23<00:00,  1.13it/s]\n"
     ]
    },
    {
     "name": "stdout",
     "output_type": "stream",
     "text": [
      "Epoch: 19 | Train Loss: 2.152122411546828 | Val Loss: 1.4456453731766454 | Val Padded_cmAP : 0.9022221729501412\n"
     ]
    },
    {
     "name": "stderr",
     "output_type": "stream",
     "text": [
      "100%|██████████| 316/316 [05:20<00:00,  1.01s/it]\n",
      "100%|██████████| 27/27 [00:24<00:00,  1.12it/s]\n"
     ]
    },
    {
     "name": "stdout",
     "output_type": "stream",
     "text": [
      "Epoch: 20 | Train Loss: 2.142902553458757 | Val Loss: 1.4325656294822693 | Val Padded_cmAP : 0.9025866695364576\n",
      "# Loading best model\n",
      "# Infering OOF\n"
     ]
    },
    {
     "name": "stderr",
     "output_type": "stream",
     "text": [
      "100%|██████████| 27/27 [00:21<00:00,  1.26it/s]\n",
      "/opt/conda/lib/python3.7/site-packages/pandas/core/frame.py:3678: PerformanceWarning: DataFrame is highly fragmented.  This is usually the result of calling `frame.insert` many times, which has poor performance.  Consider joining all columns at once using pd.concat(axis=1) instead.  To get a de-fragmented frame, use `newframe = frame.copy()`\n",
      "  self[col] = igetitem(value, i)\n",
      "/opt/conda/lib/python3.7/site-packages/pandas/core/indexing.py:1667: SettingWithCopyWarning: \n",
      "A value is trying to be set on a copy of a slice from a DataFrame.\n",
      "Try using .loc[row_indexer,col_indexer] = value instead\n",
      "\n",
      "See the caveats in the documentation: https://pandas.pydata.org/pandas-docs/stable/user_guide/indexing.html#returning-a-view-versus-a-copy\n",
      "  self.obj[key] = value\n"
     ]
    },
    {
     "name": "stdout",
     "output_type": "stream",
     "text": [
      "\n",
      ">>> FOLD 1 Primary_Padded_cmAP = 0.903\n",
      "# WandB\n"
     ]
    },
    {
     "name": "stderr",
     "output_type": "stream",
     "text": [
      "wandb : 100%|██████████| 656/656 [00:44<00:00, 14.88it/s]\n"
     ]
    },
    {
     "data": {
      "text/html": [
       "Waiting for W&B process to finish... <strong style=\"color:green\">(success).</strong>"
      ],
      "text/plain": [
       "<IPython.core.display.HTML object>"
      ]
     },
     "metadata": {},
     "output_type": "display_data"
    },
    {
     "data": {
      "application/vnd.jupyter.widget-view+json": {
       "model_id": "",
       "version_major": 2,
       "version_minor": 0
      },
      "text/plain": [
       "VBox(children=(Label(value='1770.962 MB of 1771.003 MB uploaded (0.000 MB deduped)\\r'), FloatProgress(value=0.…"
      ]
     },
     "metadata": {},
     "output_type": "display_data"
    },
    {
     "data": {
      "text/html": [
       "<style>\n",
       "    table.wandb td:nth-child(1) { padding: 0 10px; text-align: left ; width: auto;} td:nth-child(2) {text-align: left ; width: 100%}\n",
       "    .wandb-row { display: flex; flex-direction: row; flex-wrap: wrap; justify-content: flex-start; width: 100% }\n",
       "    .wandb-col { display: flex; flex-direction: column; flex-basis: 100%; flex: 1; padding: 10px; }\n",
       "    </style>\n",
       "<div class=\"wandb-row\"><div class=\"wandb-col\"><h3>Run history:</h3><br/><table class=\"wandb\"><tr><td>epoch</td><td>▁▁▂▂▂▃▃▄▄▄▅▅▅▆▆▇▇▇███</td></tr><tr><td>loss</td><td>▅▇▅█▂▇▃▅▄▂▄▂▄█▅▄▆▃▅▄▃▅▄▅▆▅▄▄▃▄▄▃▃▄▃▁▃▂▅▅</td></tr><tr><td>lr</td><td>▃▄▅▆▇████▇▇▆▆▅▄▄▃▂▂▁</td></tr><tr><td>num_train</td><td>▁</td></tr><tr><td>num_valid</td><td>▁</td></tr><tr><td>primary_cmAP</td><td>▁</td></tr><tr><td>train_loss</td><td>█▆▅▄▄▄▃▃▃▂▂▂▂▂▁▁▁▁▁▁</td></tr><tr><td>valid_loss</td><td>▄▃▁▂▂▅▄█▄▄▃▃▇█▄▆▅▅▅▄</td></tr><tr><td>valid_padded_cmAP</td><td>▂▅▄▅▆▃▅▁▅▇▆▆▄▅▇▆█▇▇█</td></tr></table><br/></div><div class=\"wandb-col\"><h3>Run summary:</h3><br/><table class=\"wandb\"><tr><td>epoch</td><td>20</td></tr><tr><td>loss</td><td>1.36664</td></tr><tr><td>lr</td><td>3e-05</td></tr><tr><td>num_train</td><td>20215</td></tr><tr><td>num_valid</td><td>3381</td></tr><tr><td>primary_cmAP</td><td>0.90259</td></tr><tr><td>train_loss</td><td>2.1429</td></tr><tr><td>valid_loss</td><td>1.43257</td></tr><tr><td>valid_padded_cmAP</td><td>0.90259</td></tr></table><br/></div></div>"
      ],
      "text/plain": [
       "<IPython.core.display.HTML object>"
      ]
     },
     "metadata": {},
     "output_type": "display_data"
    },
    {
     "data": {
      "text/html": [
       "Synced <strong style=\"color:#cdcd00\">fold-0|dim-1001x128|model-tf_efficientnet_b1_ns|2023-05-23 15:28:48</strong>: <a href=\"https://wandb.ai/hirokin1999/birdclef-2023-public/runs/15tb95z8\" target=\"_blank\">https://wandb.ai/hirokin1999/birdclef-2023-public/runs/15tb95z8</a><br/>Synced 5 W&B file(s), 1 media file(s), 664 artifact file(s) and 1 other file(s)"
      ],
      "text/plain": [
       "<IPython.core.display.HTML object>"
      ]
     },
     "metadata": {},
     "output_type": "display_data"
    },
    {
     "data": {
      "text/html": [
       "Find logs at: <code>./wandb/run-20230523_062852-15tb95z8/logs</code>"
      ],
      "text/plain": [
       "<IPython.core.display.HTML object>"
      ]
     },
     "metadata": {},
     "output_type": "display_data"
    },
    {
     "data": {
      "text/html": [
       "wandb version 0.15.3 is available!  To upgrade, please run:\n",
       " $ pip install wandb --upgrade"
      ],
      "text/plain": [
       "<IPython.core.display.HTML object>"
      ]
     },
     "metadata": {},
     "output_type": "display_data"
    },
    {
     "data": {
      "text/html": [
       "Tracking run with wandb version 0.12.21"
      ],
      "text/plain": [
       "<IPython.core.display.HTML object>"
      ]
     },
     "metadata": {},
     "output_type": "display_data"
    },
    {
     "data": {
      "text/html": [
       "Run data is saved locally in <code>/kaggle/working/multi_label/exp31_2022_1st_like_prob_label_wo_mixup/wandb/run-20230523_082320-kqoktr3p</code>"
      ],
      "text/plain": [
       "<IPython.core.display.HTML object>"
      ]
     },
     "metadata": {},
     "output_type": "display_data"
    },
    {
     "data": {
      "text/html": [
       "Syncing run <strong><a href=\"https://wandb.ai/hirokin1999/birdclef-2023-public/runs/kqoktr3p\" target=\"_blank\">fold-1|dim-1001x128|model-tf_efficientnet_b1_ns|2023-05-23 15:28:48</a></strong> to <a href=\"https://wandb.ai/hirokin1999/birdclef-2023-public\" target=\"_blank\">Weights & Biases</a> (<a href=\"https://wandb.me/run\" target=\"_blank\">docs</a>)<br/>"
      ],
      "text/plain": [
       "<IPython.core.display.HTML object>"
      ]
     },
     "metadata": {},
     "output_type": "display_data"
    },
    {
     "name": "stdout",
     "output_type": "stream",
     "text": [
      "load pre-trained model :  /kaggle/working/multi_label/exp22_primary_label_2022_1st_like/fold-1.pth\n",
      "<All keys matched successfully>\n",
      "#########################\n",
      "#### Training\n",
      "#### Fold: 2 | Image Size: (128, 1001) | Model: tf_efficientnet_b1_ns | Batch Size: 64 | Scheduler: cos\n",
      "#### Num Train: 20,217 | Num Valid: 3,382\n"
     ]
    },
    {
     "name": "stderr",
     "output_type": "stream",
     "text": [
      "100%|██████████| 316/316 [05:22<00:00,  1.02s/it]\n",
      "100%|██████████| 27/27 [00:21<00:00,  1.24it/s]\n"
     ]
    },
    {
     "name": "stdout",
     "output_type": "stream",
     "text": [
      "Epoch: 1 | Train Loss: 2.798306069419354 | Val Loss: 1.5194897408838626 | Val Padded_cmAP : 0.9008109658148542\n"
     ]
    },
    {
     "name": "stderr",
     "output_type": "stream",
     "text": [
      "100%|██████████| 316/316 [05:30<00:00,  1.05s/it]\n",
      "100%|██████████| 27/27 [00:21<00:00,  1.24it/s]\n"
     ]
    },
    {
     "name": "stdout",
     "output_type": "stream",
     "text": [
      "Epoch: 2 | Train Loss: 2.5903588465497465 | Val Loss: 1.4697337448596954 | Val Padded_cmAP : 0.9019198205265334\n"
     ]
    },
    {
     "name": "stderr",
     "output_type": "stream",
     "text": [
      " 88%|████████▊ | 278/316 [04:51<00:38,  1.01s/it]"
     ]
    }
   ],
   "source": [
    "oof_pred = []; oof_true = []; oof_val = []; oof_ids = []; oof_folds = [] \n",
    "\n",
    "num_classes = CFG.num_classes\n",
    "df = df.copy()\n",
    "for fold in range(CFG.num_fold):\n",
    "    scaler = torch.cuda.amp.GradScaler()\n",
    "    # Check if the fold is selected\n",
    "    if fold not in CFG.selected_folds:\n",
    "        continue\n",
    "    \n",
    "    # Initialize Weights and Biases\n",
    "    if CFG.wandb:\n",
    "        run = wandb_init(fold)\n",
    "    \n",
    "    # Compute batch size and number of samples to drop\n",
    "    infer_bs = CFG.valid_bs\n",
    "    drop_remainder = CFG.drop_remainder\n",
    "    \n",
    "    # Split dataset with cv filter\n",
    "    if CFG.cv_filter:\n",
    "        df = com.filter_data(df, thr=5)\n",
    "        train_df = df.query(\"fold!=@fold | ~cv\").reset_index(drop=True)\n",
    "        valid_df = df.query(\"fold==@fold & cv\").reset_index(drop=True)\n",
    "    else:\n",
    "        train_df = df.query(\"fold!=@fold\").reset_index(drop=True)\n",
    "        valid_df = df.query(\"fold==@fold\").reset_index(drop=True)\n",
    "    \n",
    "    # Upsample train data\n",
    "    train_df = com.upsample_data(train_df, thr=CFG.upsample_thr)\n",
    "#     train_df = downsample_data(train_df, thr=500)\n",
    "\n",
    "    # add additional data + fillna\n",
    "    train_df = pd.concat([train_df, df_pre], axis=0).reset_index(drop=True)\n",
    "    train_df['type'] = train_df['type'].fillna('[]')\n",
    "    train_df['latitude'] = train_df['latitude'].fillna(0)\n",
    "    train_df['longitude'] = train_df['longitude'].fillna(0)\n",
    "    train_df['license'] = train_df['license'].fillna('')\n",
    "    train_df['url'] = train_df['url'].fillna('')\n",
    "    train_df['fold'] = train_df['fold'].fillna(99)\n",
    "    train_df['cv'] = train_df['cv'].fillna(True)\n",
    "    train_df['file_type'] = train_df['file_type'].fillna('wav')\n",
    "    train_df['bird_seen'] = train_df['bird_seen'].fillna('')\n",
    "    # Get file paths and labels\n",
    "    train_paths = train_df.filepath.values; train_labels = train_df.target.values\n",
    "    valid_paths = valid_df.filepath.values; valid_labels = valid_df.target.values\n",
    "\n",
    "    # Shuffle the file paths and labels\n",
    "    index = np.arange(len(train_paths))\n",
    "    np.random.shuffle(index)\n",
    "    train_paths  = train_paths[index]\n",
    "    train_labels = train_labels[index]\n",
    "\n",
    "    # wav\n",
    "    train_ftype = list(map(lambda x: '.wav' in x, train_paths))\n",
    "    valid_ftype = list(map(lambda x: '.wav' in x, valid_paths))\n",
    "\n",
    "    # Compute the number of training and validation samples\n",
    "    num_train = len(train_paths); num_valid = len(valid_paths)\n",
    "        \n",
    "    # Log the number of training and validation samples if Weights and Biases is being used\n",
    "    if CFG.wandb:\n",
    "        wandb.log({'num_train':num_train,\n",
    "                   'num_valid':num_valid})\n",
    "        \n",
    "    # Build the training and validation datasets\n",
    "    # For debugging\n",
    "    if CFG.debug:\n",
    "        min_samples = CFG.batch_size\n",
    "        train_ds = prep.BirdDataset(train_df.iloc[:min_samples], is_train=True)\n",
    "        valid_ds = prep.BirdDataset(valid_df, is_train=False)\n",
    "    else:\n",
    "        train_ds = prep.BirdDataset(train_df, is_train=True)\n",
    "        valid_ds = prep.BirdDataset(valid_df, is_train=False)\n",
    "    # dataloader\n",
    "    train_dataloader, val_dataloader = modeler.make_dataloder(train_ds, valid_ds)\n",
    "    \n",
    "    wav_to_logmel = Wav2Logmel(device=device)\n",
    "    # Clear the session and build the model\n",
    "    model = BirdCLEF23Net(num_classes=CFG.num_classes)\n",
    "    # Load birdclef pretrained weights\n",
    "    if CFG.pretrain == True:\n",
    "        weight_path = CFG.pretrained_model_path + f'/fold-{fold}.pth'\n",
    "        weight=torch.load(weight_path)\n",
    "        #weight=drop_weight(weight)\n",
    "        print('load pre-trained model : ', weight_path)\n",
    "        print(model.load_state_dict(weight, strict=False))\n",
    "    model.to(device)\n",
    "    wav_to_logmel.to(device)\n",
    "    \n",
    "    print('#' * 25)\n",
    "    print('#### Training')\n",
    "    print('#### Fold: %i | Image Size: (%i, %i) | Model: %s | Batch Size: %i | Scheduler: %s' %\n",
    "        (fold + 1, *CFG.img_size, CFG.model_name, CFG.batch_size, CFG.scheduler))\n",
    "    print('#### Num Train: {:,} | Num Valid: {:,}'.format(len(train_paths), len(valid_paths)))\n",
    "\n",
    "    optimizer = com.get_optimizer(model)\n",
    "    # TODO com.get_scheduler\n",
    "    scheduler = CosineLRScheduler(optimizer, t_initial=CFG.epochs, lr_min=CFG.lr_min, \n",
    "                                  warmup_t=CFG.warmup_t, warmup_lr_init=CFG.warmup_lr_init, warmup_prefix=True)\n",
    "\n",
    "    best_score = -1\n",
    "    best_epoch = -1\n",
    "\n",
    "    for epoch in range(2 if CFG.debug else CFG.epochs):\n",
    "        # Training\n",
    "        model.train()\n",
    "        epoch_loss = 0\n",
    "        for batch_idx, (inputs, sample_info) in enumerate(tqdm(train_dataloader)):\n",
    "            inputs, targets = inputs.to(device), sample_info['multi_label_target'].to(device) #sample_info['target'].to(device)\n",
    "            #targets = F.one_hot(targets, num_classes=CFG.num_classes).float()\n",
    "            \n",
    "            optimizer.zero_grad()\n",
    "            logmel = wav_to_logmel(inputs)\n",
    "            with torch.cuda.amp.autocast():\n",
    "                outputs, mix_targets = model(logmel, targets)\n",
    "                loss = modeler.loss_fn(outputs, mix_targets)\n",
    "            scaler.scale(loss).backward()\n",
    "            scaler.step(optimizer)\n",
    "            scaler.update()\n",
    "            if np.isinf(loss.item()) or np.isnan(loss.item()):\n",
    "                print(f'Bad loss, skipping the batch {batch_idx}')\n",
    "                del loss, outputs, mix_targets\n",
    "                gc_collect()\n",
    "                continue\n",
    "            epoch_loss += loss.item()\n",
    "            # wandb logger (Train loss)\n",
    "            if CFG.wandb:\n",
    "                run.log({'loss': loss.item()})\n",
    "        scheduler.step(epoch+1)\n",
    "\n",
    "        # Validation\n",
    "        model.eval()\n",
    "        val_loss = 0\n",
    "        val_preds = []\n",
    "        val_true = []\n",
    "        with torch.no_grad():\n",
    "            for inputs, sample_info in tqdm(val_dataloader):\n",
    "                #inputs, targets = inputs.to(device), sample_info['multi_label_target'].to(device)\n",
    "                inputs, targets = inputs.to(device), sample_info['target'].to(device)\n",
    "                targets = F.one_hot(targets, num_classes=CFG.num_classes).float()\n",
    "                \n",
    "                logmel = wav_to_logmel(inputs)\n",
    "                outputs = model(logmel)\n",
    "                loss = modeler.loss_fn(outputs, targets)\n",
    "                outputs = outputs[\"logit\"]\n",
    "                outputs = torch.sigmoid(outputs)\n",
    "                #outputs = torch.softmax(outputs, dim=1)\n",
    "                val_loss += loss.item()\n",
    "                val_preds.append(outputs.detach().cpu().numpy())\n",
    "                val_true.append(targets.detach().cpu().numpy())\n",
    "\n",
    "        val_preds = np.vstack(val_preds)\n",
    "        val_true = np.vstack(val_true)\n",
    "        # Metrics\n",
    "        val_score = com.padded_cmap(val_true, val_preds)\n",
    "        # Checkpoint\n",
    "        if val_score > best_score:\n",
    "            best_score = val_score\n",
    "            best_epoch = epoch + 1\n",
    "            torch.save(model.state_dict(), f'fold-{fold}.pth')\n",
    "            if CFG.wandb:\n",
    "                art = wandb.Artifact(\"birdclef-2023\", type=\"model\")\n",
    "                art.add_file(f'fold-{fold}.pth')\n",
    "                run.log_artifact(art)\n",
    "\n",
    "        print(f'Epoch: {epoch + 1} | Train Loss: {epoch_loss / len(train_dataloader)} | '\n",
    "            f'Val Loss: {val_loss / len(val_dataloader)} | Val Padded_cmAP : {val_score}')\n",
    "        \n",
    "        # wandb logger\n",
    "        lr = scheduler.get_epoch_values(epoch)[0]\n",
    "        if CFG.wandb:\n",
    "            run.log({'train_loss': epoch_loss / len(train_dataloader),\n",
    "                    'lr': lr,\n",
    "                    'epoch': epoch+1,\n",
    "                    'valid_loss': val_loss / len(val_dataloader),\n",
    "                    'valid_padded_cmAP': val_score,})\n",
    "        \n",
    "        \n",
    "    # Load best checkpoint\n",
    "    print('# Loading best model')\n",
    "    model.load_state_dict(torch.load(f'fold-{fold}.pth'), strict=False)\n",
    "\n",
    "    # Predict on the validation data for oof result\n",
    "    print('# Infering OOF')\n",
    "    model.eval()\n",
    "    oof_pred_ = []\n",
    "    with torch.no_grad():\n",
    "        for inputs, sample_info in tqdm(val_dataloader):\n",
    "            #inputs, targets = inputs.to(device), sample_info['multi_label_target'].to(device)\n",
    "            inputs, targets = inputs.to(device), sample_info['target'].to(device)\n",
    "            \n",
    "            logmel = wav_to_logmel(inputs)\n",
    "            outputs = model(logmel)\n",
    "            outputs = outputs[\"logit\"]\n",
    "            outputs = torch.sigmoid(outputs)\n",
    "            oof_pred_.append(outputs.detach().cpu().numpy())\n",
    "            #print(oof_pred_.shape)\n",
    "\n",
    "    oof_pred_ = np.concatenate(oof_pred_, axis=0)\n",
    "    # oof_pred : 5\n",
    "    oof_pred.append(oof_pred_)\n",
    "\n",
    "    # Get ids and targets\n",
    "    oof_true.append(valid_labels)\n",
    "    oof_folds.append(np.ones_like(oof_true[-1], dtype='int8') * fold)\n",
    "    oof_ids.append(valid_paths)\n",
    "\n",
    "    # Save valid data prediction\n",
    "    y_true = np.array(oof_true[-1])\n",
    "    y_pred = np.argmax(oof_pred[-1], axis=-1)\n",
    "    \n",
    "    valid_df['pred'] = y_pred\n",
    "    valid_df['miss'] = y_true != y_pred\n",
    "    valid_df[CFG.class_names] = oof_pred[-1].tolist()\n",
    "    # Log the metrics\n",
    "    scores = {}\n",
    "    cmAP = com.padded_cmap(com.one_hot_encode(y_true), oof_pred[-1])\n",
    "    oof_val.append(best_score)\n",
    "    print('\\n>>> FOLD %i Primary_Padded_cmAP = %.3f' % (fold+1, cmAP))\n",
    "    scores.update({'epoch': best_epoch,\n",
    "                   'primary_cmAP': cmAP,})\n",
    "    # wandb logger \n",
    "    if CFG.wandb:\n",
    "        run.log(scores)\n",
    "    # Show training plot\n",
    "    # if CFG.training_plot:\n",
    "    #     plot_history(history)\n",
    "    # Log metrics, media to wandb\n",
    "    if CFG.wandb:\n",
    "        print('# WandB')\n",
    "        log_wandb(valid_df)\n",
    "        wandb.run.finish()\n",
    "        #display(ipd.IFrame(run.url, width=1080, height=720))"
   ]
  },
  {
   "cell_type": "markdown",
   "metadata": {},
   "source": [
    "# Performance"
   ]
  },
  {
   "cell_type": "code",
   "execution_count": null,
   "metadata": {},
   "outputs": [],
   "source": [
    "def get_id(row):\n",
    "    row['filename'] = row['filepath'].split('/',5)[-1]\n",
    "    return row"
   ]
  },
  {
   "cell_type": "code",
   "execution_count": null,
   "metadata": {},
   "outputs": [],
   "source": [
    "from sklearn.metrics import average_precision_score\n",
    "\n",
    "# OOF Data\n",
    "y_pred = np.concatenate(oof_pred)\n",
    "y_true = np.concatenate(oof_true)\n",
    "ids = np.concatenate(oof_ids)\n",
    "folds = np.concatenate(oof_folds)\n",
    "\n",
    "# Overall cmAP\n",
    "cmAP = com.padded_cmap(com.one_hot_encode(y_true), y_pred)\n",
    "\n",
    "# Overall AUC in PR curve\n",
    "# y_true_one_hot = torch.nn.functional.one_hot(torch.tensor(y_true))\n",
    "# y_pred_tensor = torch.tensor(y_pred)\n",
    "#auc = average_precision_score(y_true_one_hot.numpy(), y_pred_tensor.numpy(), average='macro')\n",
    "\n",
    "print('>>> Overall cmAP: ', cmAP)\n",
    "#print('>>> Overall AUC(PR): ', auc)"
   ]
  },
  {
   "cell_type": "markdown",
   "metadata": {},
   "source": [
    "## save oof"
   ]
  },
  {
   "cell_type": "code",
   "execution_count": null,
   "metadata": {},
   "outputs": [],
   "source": [
    "# # Save OOF data to disk\n",
    "# columns = ['filepath', 'fold', 'true', 'pred', *CFG.class_names]\n",
    "# df_oof = pd.DataFrame(np.concatenate([ids[:,None], folds, y_true,\n",
    "#                                       np.argmax(y_pred,axis=1)[:,None], y_pred], axis=1), columns=columns)\n",
    "# df_oof['class_name'] = df_oof.true.map(CFG.label2name)\n",
    "# df_oof['miss'] = df_oof.true!=df_oof.pred\n",
    "# tqdm.pandas(desc='id ')\n",
    "# df_oof = df_oof.progress_apply(get_id,axis=1)\n",
    "# df_oof.to_csv('oof.csv',index=False)\n",
    "# display(df_oof.head(2))"
   ]
  },
  {
   "cell_type": "markdown",
   "metadata": {},
   "source": [
    "# Error Analysis"
   ]
  },
  {
   "cell_type": "code",
   "execution_count": null,
   "metadata": {},
   "outputs": [],
   "source": [
    "# print('Miss Total:')\n",
    "# display(df_oof.query(\"miss==True\").shape[0])\n",
    "\n",
    "# print()\n",
    "# print('Miss Distribution Top10:')\n",
    "# display(df_oof.query(\"miss==True\").class_name.value_counts()[:10])"
   ]
  }
 ],
 "metadata": {
  "kernelspec": {
   "display_name": "Python 3 (ipykernel)",
   "language": "python",
   "name": "python3"
  },
  "language_info": {
   "codemirror_mode": {
    "name": "ipython",
    "version": 3
   },
   "file_extension": ".py",
   "mimetype": "text/x-python",
   "name": "python",
   "nbconvert_exporter": "python",
   "pygments_lexer": "ipython3",
   "version": "3.7.12"
  },
  "vscode": {
   "interpreter": {
    "hash": "d4d1e4263499bec80672ea0156c357c1ee493ec2b1c70f0acce89fc37c4a6abe"
   }
  }
 },
 "nbformat": 4,
 "nbformat_minor": 4
}
