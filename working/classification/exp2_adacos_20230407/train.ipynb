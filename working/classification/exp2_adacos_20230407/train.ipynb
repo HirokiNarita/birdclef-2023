{
 "cells": [
  {
   "cell_type": "markdown",
   "metadata": {},
   "source": [
    "imprements by https://www.kaggle.com/code/awsaf49/birdclef23-effnet-fsr-cutmixup-train"
   ]
  },
  {
   "cell_type": "markdown",
   "metadata": {},
   "source": [
    "# Impoert library"
   ]
  },
  {
   "cell_type": "code",
   "execution_count": 1,
   "metadata": {},
   "outputs": [],
   "source": [
    "import os\n",
    "import random\n",
    "from glob import glob\n",
    "from pathlib import Path\n",
    "import yaml\n",
    "from tqdm import tqdm\n",
    "import IPython.display as ipd\n",
    "\n",
    "import numpy as np\n",
    "import pandas as pd\n",
    "\n",
    "import matplotlib as mpl\n",
    "cmap = mpl.cm.get_cmap('coolwarm')\n",
    "import matplotlib.pyplot as plt\n",
    "\n",
    "import librosa\n",
    "import wandb\n",
    "from sklearn import metrics\n",
    "\n",
    "import torch\n",
    "from torch import nn\n",
    "from torch.nn import functional as F\n",
    "from torch.cuda.amp import autocast, GradScaler\n",
    "\n",
    "from timm.scheduler import CosineLRScheduler"
   ]
  },
  {
   "cell_type": "code",
   "execution_count": 2,
   "metadata": {},
   "outputs": [],
   "source": [
    "from config import CFG\n",
    "from pytorch_model import BirdCLEF23Net\n",
    "import pytorch_modeler as modeler\n",
    "import preprocessing as prep\n",
    "import common as com"
   ]
  },
  {
   "cell_type": "code",
   "execution_count": 3,
   "metadata": {},
   "outputs": [
    {
     "name": "stdout",
     "output_type": "stream",
     "text": [
      "cuda:0\n",
      "Debug : False\n"
     ]
    }
   ],
   "source": [
    "modeler.set_seed(CFG.seed)\n",
    "# setting\n",
    "device = torch.device(\"cuda:0\" if torch.cuda.is_available() else \"cpu\")\n",
    "print(device)\n",
    "print('Debug :', CFG.debug)"
   ]
  },
  {
   "cell_type": "markdown",
   "metadata": {},
   "source": [
    "# Wandb"
   ]
  },
  {
   "cell_type": "code",
   "execution_count": 4,
   "metadata": {},
   "outputs": [
    {
     "name": "stderr",
     "output_type": "stream",
     "text": [
      "\u001b[34m\u001b[1mwandb\u001b[0m: Currently logged in as: \u001b[33mhirokin1999\u001b[0m. Use \u001b[1m`wandb login --relogin`\u001b[0m to force relogin\n",
      "\u001b[34m\u001b[1mwandb\u001b[0m: \u001b[33mWARNING\u001b[0m If you're specifying your api key in code, ensure this code is not shared publicly.\n",
      "\u001b[34m\u001b[1mwandb\u001b[0m: \u001b[33mWARNING\u001b[0m Consider setting the WANDB_API_KEY environment variable, or running `wandb login` from the command line.\n",
      "\u001b[34m\u001b[1mwandb\u001b[0m: Appending key for api.wandb.ai to your netrc file: /root/.netrc\n"
     ]
    },
    {
     "name": "stdout",
     "output_type": "stream",
     "text": [
      "local mode\n"
     ]
    }
   ],
   "source": [
    "# Try to get the API key from Kaggle secrets\n",
    "try:\n",
    "    from kaggle_secrets import UserSecretsClient\n",
    "    user_secrets = UserSecretsClient()\n",
    "    api_key = user_secrets.get_secret(\"WANDB\")\n",
    "    # Login to wandb with the API key\n",
    "    wandb.login(key=api_key)\n",
    "    print('kaggle notebook mode')\n",
    "except:\n",
    "    key_path = '../../input/wandb_key.txt'\n",
    "    p = Path(key_path)\n",
    "    api_key = p.read_text()\n",
    "    wandb.login(key=api_key)\n",
    "    print('local mode')"
   ]
  },
  {
   "cell_type": "code",
   "execution_count": 5,
   "metadata": {},
   "outputs": [
    {
     "name": "stdout",
     "output_type": "stream",
     "text": [
      "2023-04-07 18:40:45\n"
     ]
    }
   ],
   "source": [
    "from datetime import datetime\n",
    "import pytz\n",
    "\n",
    "# 日本時間のタイムゾーンを設定\n",
    "jst = pytz.timezone('Asia/Tokyo')\n",
    "\n",
    "# 現在時刻を取得し、日本時間に変換\n",
    "now = datetime.now(jst)\n",
    "\n",
    "# 現在時刻を文字列に変換\n",
    "now_str = now.strftime('%Y-%m-%d %H:%M:%S')\n",
    "\n",
    "print(now_str)"
   ]
  },
  {
   "cell_type": "code",
   "execution_count": 6,
   "metadata": {},
   "outputs": [],
   "source": [
    "import yaml\n",
    "from tqdm import tqdm\n",
    "\n",
    "def wandb_init(fold):\n",
    "    config = {k: v for k, v in dict(vars(CFG)).items() if '__' not in k}\n",
    "    config.update({\"fold\": int(fold)})\n",
    "    yaml.dump(config, open(f'./config fold-{fold}.yaml', 'w'), )\n",
    "    config = yaml.load(open(f'./config fold-{fold}.yaml', 'r'), Loader=yaml.FullLoader)\n",
    "    run = wandb.init(project=\"birdclef-2023-public\",\n",
    "                     name=f\"fold-{fold}|dim-{CFG.img_size[1]}x{CFG.img_size[0]}|model-{CFG.model_name}|{now_str}\",\n",
    "                     config=config,\n",
    "                     group=CFG.comment,\n",
    "                     save_code=True, )\n",
    "    return run\n",
    "\n",
    "\n",
    "def log_wandb(valid_df):\n",
    "    save_df = valid_df.query(\"miss==True\")\n",
    "    save_df.loc[:, 'pred_name'] = save_df.pred.map(CFG.label2name)\n",
    "    save_df.loc[:, 'target_name'] = save_df.target.map(CFG.label2name)\n",
    "    if CFG.debug:\n",
    "        save_df = save_df.iloc[:CFG.batch_size * CFG.valid_bs]\n",
    "    noimg_cols = [*CFG.tab_cols, 'target', 'pred', 'target_name', 'pred_name']\n",
    "    save_df = save_df.loc[:, noimg_cols]\n",
    "\n",
    "    data = []\n",
    "    for idx, row in tqdm(save_df.iterrows(), total=len(save_df), desc='wandb ', position=0, leave=True):\n",
    "        filepath = '/kaggle/input/birdclef-2023/train_audio/' + row.filename\n",
    "        audio, sr = librosa.load(filepath, sr=None)\n",
    "        data += [[*row.tolist(), wandb.Audio(audio, caption=row.filename, sample_rate=sr)]]\n",
    "    wandb_table = wandb.Table(data=data, columns=[*noimg_cols, 'audio'])\n",
    "    wandb.log({'best': scores,\n",
    "               'table': wandb_table,\n",
    "               })"
   ]
  },
  {
   "cell_type": "markdown",
   "metadata": {},
   "source": [
    "# Data Frame"
   ]
  },
  {
   "cell_type": "code",
   "execution_count": 7,
   "metadata": {},
   "outputs": [
    {
     "name": "stderr",
     "output_type": "stream",
     "text": [
      "/opt/conda/lib/python3.7/site-packages/ipykernel_launcher.py:2: FutureWarning: The default value of regex will change from True to False in a future version.\n",
      "  \n"
     ]
    },
    {
     "data": {
      "text/html": [
       "<div>\n",
       "<style scoped>\n",
       "    .dataframe tbody tr th:only-of-type {\n",
       "        vertical-align: middle;\n",
       "    }\n",
       "\n",
       "    .dataframe tbody tr th {\n",
       "        vertical-align: top;\n",
       "    }\n",
       "\n",
       "    .dataframe thead th {\n",
       "        text-align: right;\n",
       "    }\n",
       "</style>\n",
       "<table border=\"1\" class=\"dataframe\">\n",
       "  <thead>\n",
       "    <tr style=\"text-align: right;\">\n",
       "      <th></th>\n",
       "      <th>primary_label</th>\n",
       "      <th>secondary_labels</th>\n",
       "      <th>type</th>\n",
       "      <th>latitude</th>\n",
       "      <th>longitude</th>\n",
       "      <th>scientific_name</th>\n",
       "      <th>common_name</th>\n",
       "      <th>author</th>\n",
       "      <th>license</th>\n",
       "      <th>rating</th>\n",
       "      <th>url</th>\n",
       "      <th>filename</th>\n",
       "      <th>filepath</th>\n",
       "      <th>target</th>\n",
       "    </tr>\n",
       "  </thead>\n",
       "  <tbody>\n",
       "    <tr>\n",
       "      <th>0</th>\n",
       "      <td>abethr1</td>\n",
       "      <td>[]</td>\n",
       "      <td>['song']</td>\n",
       "      <td>4.3906</td>\n",
       "      <td>38.2788</td>\n",
       "      <td>Turdus tephronotus</td>\n",
       "      <td>African Bare-eyed Thrush</td>\n",
       "      <td>Rolf A. de By</td>\n",
       "      <td>Creative Commons Attribution-NonCommercial-Sha...</td>\n",
       "      <td>4.0</td>\n",
       "      <td>https://www.xeno-canto.org/128013</td>\n",
       "      <td>abethr1/XC128013.ogg</td>\n",
       "      <td>/kaggle/input/birdclef-2023/train_audio_wav/ab...</td>\n",
       "      <td>0</td>\n",
       "    </tr>\n",
       "    <tr>\n",
       "      <th>1</th>\n",
       "      <td>abethr1</td>\n",
       "      <td>[]</td>\n",
       "      <td>['call']</td>\n",
       "      <td>-2.9524</td>\n",
       "      <td>38.2921</td>\n",
       "      <td>Turdus tephronotus</td>\n",
       "      <td>African Bare-eyed Thrush</td>\n",
       "      <td>James Bradley</td>\n",
       "      <td>Creative Commons Attribution-NonCommercial-Sha...</td>\n",
       "      <td>3.5</td>\n",
       "      <td>https://www.xeno-canto.org/363501</td>\n",
       "      <td>abethr1/XC363501.ogg</td>\n",
       "      <td>/kaggle/input/birdclef-2023/train_audio_wav/ab...</td>\n",
       "      <td>0</td>\n",
       "    </tr>\n",
       "  </tbody>\n",
       "</table>\n",
       "</div>"
      ],
      "text/plain": [
       "  primary_label secondary_labels      type  latitude  longitude  \\\n",
       "0       abethr1               []  ['song']    4.3906    38.2788   \n",
       "1       abethr1               []  ['call']   -2.9524    38.2921   \n",
       "\n",
       "      scientific_name               common_name         author  \\\n",
       "0  Turdus tephronotus  African Bare-eyed Thrush  Rolf A. de By   \n",
       "1  Turdus tephronotus  African Bare-eyed Thrush  James Bradley   \n",
       "\n",
       "                                             license  rating  \\\n",
       "0  Creative Commons Attribution-NonCommercial-Sha...     4.0   \n",
       "1  Creative Commons Attribution-NonCommercial-Sha...     3.5   \n",
       "\n",
       "                                 url              filename  \\\n",
       "0  https://www.xeno-canto.org/128013  abethr1/XC128013.ogg   \n",
       "1  https://www.xeno-canto.org/363501  abethr1/XC363501.ogg   \n",
       "\n",
       "                                            filepath  target  \n",
       "0  /kaggle/input/birdclef-2023/train_audio_wav/ab...       0  \n",
       "1  /kaggle/input/birdclef-2023/train_audio_wav/ab...       0  "
      ]
     },
     "execution_count": 7,
     "metadata": {},
     "output_type": "execute_result"
    }
   ],
   "source": [
    "df = pd.read_csv(f'{CFG.BASE_PATH}/train_metadata.csv')\n",
    "filename = df.filename.str.replace('.ogg', '.wav')\n",
    "df['filepath'] = CFG.BASE_PATH + '/train_audio_wav/' + filename\n",
    "df['target'] = df.primary_label.map(CFG.name2label)\n",
    "df.head(2)"
   ]
  },
  {
   "cell_type": "code",
   "execution_count": 8,
   "metadata": {},
   "outputs": [
    {
     "name": "stderr",
     "output_type": "stream",
     "text": [
      "/opt/conda/lib/python3.7/site-packages/sklearn/model_selection/_split.py:680: UserWarning: The least populated class in y has only 1 members, which is less than n_splits=5.\n",
      "  UserWarning,\n"
     ]
    }
   ],
   "source": [
    "# Import required packages\n",
    "from sklearn.model_selection import StratifiedKFold\n",
    "\n",
    "# Initialize the StratifiedKFold object with 5 splits and shuffle the data\n",
    "skf = StratifiedKFold(n_splits=5, shuffle=True, random_state=CFG.seed)\n",
    "\n",
    "# Reset the index of the dataframe\n",
    "df = df.reset_index(drop=True)\n",
    "\n",
    "# Create a new column in the dataframe to store the fold number for each row\n",
    "df[\"fold\"] = -1\n",
    "\n",
    "# Iterate over the folds and assign the corresponding fold number to each row in the dataframe\n",
    "for fold, (train_idx, val_idx) in enumerate(skf.split(df, df['primary_label'])):\n",
    "    df.loc[val_idx, 'fold'] = fold"
   ]
  },
  {
   "cell_type": "markdown",
   "metadata": {},
   "source": [
    "# Visualizer"
   ]
  },
  {
   "cell_type": "code",
   "execution_count": 9,
   "metadata": {},
   "outputs": [],
   "source": [
    "def plot_batch(batch, row=3, col=3, label2name=None,):\n",
    "    \"\"\"Plot one batch data\"\"\"\n",
    "    if isinstance(batch, tuple) or isinstance(batch, list):\n",
    "        audios, tars = batch\n",
    "    else:\n",
    "        audios = batch\n",
    "        tars = None\n",
    "    plt.figure(figsize=(col*5, row*3))\n",
    "    for idx in range(row*col):\n",
    "        ax = plt.subplot(row, col, idx+1)\n",
    "        plt.plot(audios[idx].numpy(), color=cmap(0.1))\n",
    "        if tars is not None:\n",
    "            label = tars[idx].numpy().argmax()\n",
    "            name = label2name[label]\n",
    "            plt.title(name)\n",
    "    plt.tight_layout()\n",
    "    plt.show()\n",
    "    \n",
    "    \n",
    "def plot_history(history):\n",
    "    \"\"\"Plot trainign history, credit: @cdeotte\"\"\"\n",
    "    epochs = len(history.history['auc'])\n",
    "    plt.figure(figsize=(15,5))\n",
    "    plt.plot(np.arange(epochs),history.history['auc'],'-o',label='Train AUC',color='#ff7f0e')\n",
    "    plt.plot(np.arange(epochs),history.history['val_auc'],'-o',label='Val AUC',color='#1f77b4')\n",
    "    x = np.argmax( history.history['val_auc'] ); y = np.max( history.history['val_auc'] )\n",
    "    xdist = plt.xlim()[1] - plt.xlim()[0]; ydist = plt.ylim()[1] - plt.ylim()[0]\n",
    "    plt.scatter(x,y,s=200,color='#1f77b4'); plt.text(x-0.03*xdist,y-0.13*ydist,'max auc\\n%.2f'%y,size=14)\n",
    "    plt.ylabel('AUC (PR)',size=14); plt.xlabel('Epoch',size=14)\n",
    "    plt.legend(loc=2)\n",
    "    plt2 = plt.gca().twinx()\n",
    "    plt2.plot(np.arange(epochs),history.history['loss'],'-o',label='Train Loss',color='#2ca02c')\n",
    "    plt2.plot(np.arange(epochs),history.history['val_loss'],'-o',label='Val Loss',color='#d62728')\n",
    "    x = np.argmin( history.history['val_loss'] ); y = np.min( history.history['val_loss'] )\n",
    "    ydist = plt.ylim()[1] - plt.ylim()[0]\n",
    "    plt.scatter(x,y,s=200,color='#d62728'); plt.text(x-0.03*xdist,y+0.05*ydist,'min loss',size=14)\n",
    "    plt.ylabel('Loss',size=14)\n",
    "    plt.title('Fold %i - Training Plot'%(fold+1),size=18)\n",
    "    plt.legend(loc=3)\n",
    "    plt.show()  "
   ]
  },
  {
   "cell_type": "markdown",
   "metadata": {},
   "source": [
    "# Training"
   ]
  },
  {
   "cell_type": "code",
   "execution_count": 10,
   "metadata": {},
   "outputs": [
    {
     "data": {
      "text/html": [
       "wandb version 0.14.1 is available!  To upgrade, please run:\n",
       " $ pip install wandb --upgrade"
      ],
      "text/plain": [
       "<IPython.core.display.HTML object>"
      ]
     },
     "metadata": {},
     "output_type": "display_data"
    },
    {
     "data": {
      "text/html": [
       "Tracking run with wandb version 0.12.21"
      ],
      "text/plain": [
       "<IPython.core.display.HTML object>"
      ]
     },
     "metadata": {},
     "output_type": "display_data"
    },
    {
     "data": {
      "text/html": [
       "Run data is saved locally in <code>/kaggle/working/adacos_20230407/wandb/run-20230407_094045-3pckgvar</code>"
      ],
      "text/plain": [
       "<IPython.core.display.HTML object>"
      ]
     },
     "metadata": {},
     "output_type": "display_data"
    },
    {
     "data": {
      "text/html": [
       "Syncing run <strong><a href=\"https://wandb.ai/hirokin1999/birdclef-2023-public/runs/3pckgvar\" target=\"_blank\">fold-0|dim-313x224|model-tf_efficientnet_b1_ns|2023-04-07 18:40:45</a></strong> to <a href=\"https://wandb.ai/hirokin1999/birdclef-2023-public\" target=\"_blank\">Weights & Biases</a> (<a href=\"https://wandb.me/run\" target=\"_blank\">docs</a>)<br/>"
      ],
      "text/plain": [
       "<IPython.core.display.HTML object>"
      ]
     },
     "metadata": {},
     "output_type": "display_data"
    },
    {
     "name": "stdout",
     "output_type": "stream",
     "text": [
      "#########################\n",
      "#### Training\n",
      "#### Fold: 1 | Image Size: (224, 313) | Model: tf_efficientnet_b1_ns | Batch Size: 128 | Scheduler: cos\n",
      "#### Num Train: 19,627 | Num Valid: 3,381\n"
     ]
    },
    {
     "name": "stderr",
     "output_type": "stream",
     "text": [
      "100%|██████████| 154/154 [02:15<00:00,  1.13it/s]\n",
      "100%|██████████| 27/27 [00:18<00:00,  1.46it/s]\n"
     ]
    },
    {
     "name": "stdout",
     "output_type": "stream",
     "text": [
      "Epoch: 1 | Train Loss: 9.113129875876687 | Val Loss: 5.538772335758916 | Val Padded_cmAP : 0.4834716302309441\n"
     ]
    },
    {
     "name": "stderr",
     "output_type": "stream",
     "text": [
      "100%|██████████| 154/154 [02:19<00:00,  1.10it/s]\n",
      "100%|██████████| 27/27 [00:18<00:00,  1.46it/s]\n"
     ]
    },
    {
     "name": "stdout",
     "output_type": "stream",
     "text": [
      "Epoch: 2 | Train Loss: 8.515320777893066 | Val Loss: 5.376762372476083 | Val Padded_cmAP : 0.599942677094537\n"
     ]
    },
    {
     "name": "stderr",
     "output_type": "stream",
     "text": [
      "100%|██████████| 154/154 [02:19<00:00,  1.10it/s]\n",
      "100%|██████████| 27/27 [00:18<00:00,  1.45it/s]\n"
     ]
    },
    {
     "name": "stdout",
     "output_type": "stream",
     "text": [
      "Epoch: 3 | Train Loss: 7.305108243768865 | Val Loss: 5.1768570829320835 | Val Padded_cmAP : 0.7283144363246613\n"
     ]
    },
    {
     "name": "stderr",
     "output_type": "stream",
     "text": [
      "100%|██████████| 154/154 [02:19<00:00,  1.10it/s]\n",
      "100%|██████████| 27/27 [00:18<00:00,  1.46it/s]\n"
     ]
    },
    {
     "name": "stdout",
     "output_type": "stream",
     "text": [
      "Epoch: 4 | Train Loss: 6.2639123836121 | Val Loss: 5.062136155587655 | Val Padded_cmAP : 0.7766119866995886\n"
     ]
    },
    {
     "name": "stderr",
     "output_type": "stream",
     "text": [
      "100%|██████████| 154/154 [02:19<00:00,  1.10it/s]\n",
      "100%|██████████| 27/27 [00:18<00:00,  1.48it/s]\n"
     ]
    },
    {
     "name": "stdout",
     "output_type": "stream",
     "text": [
      "Epoch: 5 | Train Loss: 5.5313625304729905 | Val Loss: 5.014412579713045 | Val Padded_cmAP : 0.8034313935761741\n"
     ]
    },
    {
     "name": "stderr",
     "output_type": "stream",
     "text": [
      "100%|██████████| 154/154 [02:19<00:00,  1.10it/s]\n",
      "100%|██████████| 154/154 [02:19<00:00,  1.10it/s]\n",
      "100%|██████████| 27/27 [00:18<00:00,  1.47it/s]\n"
     ]
    },
    {
     "name": "stdout",
     "output_type": "stream",
     "text": [
      "Epoch: 7 | Train Loss: 4.571068553181438 | Val Loss: 4.944279847321687 | Val Padded_cmAP : 0.8349938785374155\n"
     ]
    },
    {
     "name": "stderr",
     "output_type": "stream",
     "text": [
      "100%|██████████| 154/154 [02:20<00:00,  1.10it/s]\n",
      "100%|██████████| 27/27 [00:18<00:00,  1.46it/s]\n"
     ]
    },
    {
     "name": "stdout",
     "output_type": "stream",
     "text": [
      "Epoch: 8 | Train Loss: 4.220334316228891 | Val Loss: 4.925120759893347 | Val Padded_cmAP : 0.8463780323451503\n"
     ]
    },
    {
     "name": "stderr",
     "output_type": "stream",
     "text": [
      "100%|██████████| 154/154 [02:20<00:00,  1.10it/s]\n",
      "100%|██████████| 27/27 [00:18<00:00,  1.43it/s]\n"
     ]
    },
    {
     "name": "stdout",
     "output_type": "stream",
     "text": [
      "Epoch: 9 | Train Loss: 4.01062484840294 | Val Loss: 4.9074610427573875 | Val Padded_cmAP : 0.8596617744202052\n"
     ]
    },
    {
     "name": "stderr",
     "output_type": "stream",
     "text": [
      "100%|██████████| 154/154 [02:20<00:00,  1.10it/s]\n",
      "100%|██████████| 27/27 [00:18<00:00,  1.44it/s]\n"
     ]
    },
    {
     "name": "stdout",
     "output_type": "stream",
     "text": [
      "Epoch: 10 | Train Loss: 3.774333721631533 | Val Loss: 4.901283546730324 | Val Padded_cmAP : 0.8589972941340054\n"
     ]
    },
    {
     "name": "stderr",
     "output_type": "stream",
     "text": [
      "100%|██████████| 154/154 [02:20<00:00,  1.10it/s]\n",
      "100%|██████████| 27/27 [00:19<00:00,  1.37it/s]\n"
     ]
    },
    {
     "name": "stdout",
     "output_type": "stream",
     "text": [
      "Epoch: 11 | Train Loss: 3.6225715132502767 | Val Loss: 4.886834586108172 | Val Padded_cmAP : 0.8602456237477017\n"
     ]
    },
    {
     "name": "stderr",
     "output_type": "stream",
     "text": [
      "100%|██████████| 154/154 [02:20<00:00,  1.10it/s]\n",
      "100%|██████████| 27/27 [00:18<00:00,  1.45it/s]\n"
     ]
    },
    {
     "name": "stdout",
     "output_type": "stream",
     "text": [
      "Epoch: 12 | Train Loss: 3.4957377446162234 | Val Loss: 4.883163346184625 | Val Padded_cmAP : 0.8635518204846786\n"
     ]
    },
    {
     "name": "stderr",
     "output_type": "stream",
     "text": [
      "100%|██████████| 154/154 [02:20<00:00,  1.10it/s]\n",
      "100%|██████████| 27/27 [00:18<00:00,  1.45it/s]\n"
     ]
    },
    {
     "name": "stdout",
     "output_type": "stream",
     "text": [
      "Epoch: 13 | Train Loss: 3.413262597926251 | Val Loss: 4.877004941304524 | Val Padded_cmAP : 0.8707299073104945\n"
     ]
    },
    {
     "name": "stderr",
     "output_type": "stream",
     "text": [
      "100%|██████████| 154/154 [02:20<00:00,  1.10it/s]\n",
      "100%|██████████| 27/27 [00:19<00:00,  1.41it/s]\n"
     ]
    },
    {
     "name": "stdout",
     "output_type": "stream",
     "text": [
      "Epoch: 14 | Train Loss: 3.27735749003175 | Val Loss: 4.863652017381456 | Val Padded_cmAP : 0.8758828463265197\n"
     ]
    },
    {
     "name": "stderr",
     "output_type": "stream",
     "text": [
      "100%|██████████| 154/154 [02:20<00:00,  1.09it/s]\n",
      "100%|██████████| 27/27 [00:18<00:00,  1.43it/s]\n"
     ]
    },
    {
     "name": "stdout",
     "output_type": "stream",
     "text": [
      "Epoch: 15 | Train Loss: 3.182765229955896 | Val Loss: 4.862517480497007 | Val Padded_cmAP : 0.8768266798882137\n"
     ]
    },
    {
     "name": "stderr",
     "output_type": "stream",
     "text": [
      "100%|██████████| 154/154 [02:20<00:00,  1.10it/s]\n",
      "100%|██████████| 27/27 [00:18<00:00,  1.46it/s]\n"
     ]
    },
    {
     "name": "stdout",
     "output_type": "stream",
     "text": [
      "Epoch: 16 | Train Loss: 3.097206173005042 | Val Loss: 4.8529592266789185 | Val Padded_cmAP : 0.879577698143895\n"
     ]
    },
    {
     "name": "stderr",
     "output_type": "stream",
     "text": [
      "100%|██████████| 154/154 [02:20<00:00,  1.10it/s]\n",
      "100%|██████████| 27/27 [00:18<00:00,  1.45it/s]\n"
     ]
    },
    {
     "name": "stdout",
     "output_type": "stream",
     "text": [
      "Epoch: 17 | Train Loss: 2.9836282389504567 | Val Loss: 4.846178549307364 | Val Padded_cmAP : 0.8830737329799938\n"
     ]
    },
    {
     "name": "stderr",
     "output_type": "stream",
     "text": [
      "100%|██████████| 154/154 [02:20<00:00,  1.10it/s]\n",
      "100%|██████████| 27/27 [00:18<00:00,  1.45it/s]\n"
     ]
    },
    {
     "name": "stdout",
     "output_type": "stream",
     "text": [
      "Epoch: 18 | Train Loss: 2.9317340587640737 | Val Loss: 4.842838093086526 | Val Padded_cmAP : 0.8802205952468758\n"
     ]
    },
    {
     "name": "stderr",
     "output_type": "stream",
     "text": [
      "100%|██████████| 154/154 [02:20<00:00,  1.10it/s]\n",
      "100%|██████████| 27/27 [00:18<00:00,  1.45it/s]\n"
     ]
    },
    {
     "name": "stdout",
     "output_type": "stream",
     "text": [
      "Epoch: 19 | Train Loss: 2.875381797939152 | Val Loss: 4.8358566319500955 | Val Padded_cmAP : 0.8862320151609426\n"
     ]
    },
    {
     "name": "stderr",
     "output_type": "stream",
     "text": [
      "100%|██████████| 154/154 [02:20<00:00,  1.10it/s]\n",
      "100%|██████████| 27/27 [00:18<00:00,  1.44it/s]\n"
     ]
    },
    {
     "name": "stdout",
     "output_type": "stream",
     "text": [
      "Epoch: 20 | Train Loss: 2.8123104897412388 | Val Loss: 4.832006525110315 | Val Padded_cmAP : 0.8872766748083873\n"
     ]
    },
    {
     "name": "stderr",
     "output_type": "stream",
     "text": [
      "100%|██████████| 154/154 [02:20<00:00,  1.10it/s]\n",
      "100%|██████████| 27/27 [00:18<00:00,  1.45it/s]\n"
     ]
    },
    {
     "name": "stdout",
     "output_type": "stream",
     "text": [
      "Epoch: 21 | Train Loss: 2.7599891501587708 | Val Loss: 4.829612572987874 | Val Padded_cmAP : 0.887411221173018\n"
     ]
    },
    {
     "name": "stderr",
     "output_type": "stream",
     "text": [
      "100%|██████████| 154/154 [02:20<00:00,  1.10it/s]\n",
      "100%|██████████| 27/27 [00:18<00:00,  1.43it/s]\n"
     ]
    },
    {
     "name": "stdout",
     "output_type": "stream",
     "text": [
      "Epoch: 22 | Train Loss: 2.6873830216271535 | Val Loss: 4.825045038152624 | Val Padded_cmAP : 0.889420084042082\n"
     ]
    },
    {
     "name": "stderr",
     "output_type": "stream",
     "text": [
      "100%|██████████| 154/154 [02:20<00:00,  1.10it/s]\n",
      "100%|██████████| 27/27 [00:18<00:00,  1.42it/s]\n"
     ]
    },
    {
     "name": "stdout",
     "output_type": "stream",
     "text": [
      "Epoch: 23 | Train Loss: 2.650391067777361 | Val Loss: 4.821314405511926 | Val Padded_cmAP : 0.8919245042275729\n"
     ]
    },
    {
     "name": "stderr",
     "output_type": "stream",
     "text": [
      "100%|██████████| 154/154 [02:20<00:00,  1.10it/s]\n",
      "100%|██████████| 27/27 [00:18<00:00,  1.45it/s]\n"
     ]
    },
    {
     "name": "stdout",
     "output_type": "stream",
     "text": [
      "Epoch: 24 | Train Loss: 2.5843855096148207 | Val Loss: 4.8150374624464245 | Val Padded_cmAP : 0.8951402683502879\n"
     ]
    },
    {
     "name": "stderr",
     "output_type": "stream",
     "text": [
      "100%|██████████| 154/154 [02:20<00:00,  1.09it/s]\n",
      "100%|██████████| 27/27 [00:18<00:00,  1.44it/s]\n"
     ]
    },
    {
     "name": "stdout",
     "output_type": "stream",
     "text": [
      "Epoch: 25 | Train Loss: 2.5748035892263634 | Val Loss: 4.815046434049253 | Val Padded_cmAP : 0.8959672073218058\n"
     ]
    },
    {
     "name": "stderr",
     "output_type": "stream",
     "text": [
      "100%|██████████| 154/154 [02:20<00:00,  1.09it/s]\n",
      "100%|██████████| 27/27 [00:19<00:00,  1.39it/s]\n"
     ]
    },
    {
     "name": "stdout",
     "output_type": "stream",
     "text": [
      "Epoch: 26 | Train Loss: 2.4964650962259864 | Val Loss: 4.814935631222195 | Val Padded_cmAP : 0.8970257537193895\n"
     ]
    },
    {
     "name": "stderr",
     "output_type": "stream",
     "text": [
      "100%|██████████| 154/154 [02:21<00:00,  1.09it/s]\n",
      "100%|██████████| 27/27 [00:18<00:00,  1.42it/s]\n"
     ]
    },
    {
     "name": "stdout",
     "output_type": "stream",
     "text": [
      "Epoch: 27 | Train Loss: 2.4809247905557807 | Val Loss: 4.812271365412959 | Val Padded_cmAP : 0.8969168354214846\n"
     ]
    },
    {
     "name": "stderr",
     "output_type": "stream",
     "text": [
      "100%|██████████| 154/154 [02:20<00:00,  1.09it/s]\n",
      "100%|██████████| 27/27 [00:18<00:00,  1.47it/s]\n"
     ]
    },
    {
     "name": "stdout",
     "output_type": "stream",
     "text": [
      "Epoch: 28 | Train Loss: 2.4583737138029815 | Val Loss: 4.809752605579518 | Val Padded_cmAP : 0.8965961111747832\n"
     ]
    },
    {
     "name": "stderr",
     "output_type": "stream",
     "text": [
      "100%|██████████| 154/154 [02:20<00:00,  1.10it/s]\n",
      "100%|██████████| 27/27 [00:18<00:00,  1.46it/s]\n"
     ]
    },
    {
     "name": "stdout",
     "output_type": "stream",
     "text": [
      "Epoch: 29 | Train Loss: 2.4362264755484344 | Val Loss: 4.809387666207773 | Val Padded_cmAP : 0.8993775784215848\n"
     ]
    },
    {
     "name": "stderr",
     "output_type": "stream",
     "text": [
      "100%|██████████| 154/154 [02:20<00:00,  1.10it/s]\n",
      "100%|██████████| 27/27 [00:18<00:00,  1.45it/s]\n"
     ]
    },
    {
     "name": "stdout",
     "output_type": "stream",
     "text": [
      "Epoch: 30 | Train Loss: 2.4217998068054003 | Val Loss: 4.808775495599817 | Val Padded_cmAP : 0.8990189842587895\n",
      "# Loading best model\n",
      "# Infering OOF\n"
     ]
    },
    {
     "name": "stderr",
     "output_type": "stream",
     "text": [
      "100%|██████████| 27/27 [00:09<00:00,  2.94it/s]\n",
      "/opt/conda/lib/python3.7/site-packages/pandas/core/frame.py:3678: PerformanceWarning: DataFrame is highly fragmented.  This is usually the result of calling `frame.insert` many times, which has poor performance.  Consider joining all columns at once using pd.concat(axis=1) instead.  To get a de-fragmented frame, use `newframe = frame.copy()`\n",
      "  self[col] = igetitem(value, i)\n",
      "/opt/conda/lib/python3.7/site-packages/pandas/core/indexing.py:1667: SettingWithCopyWarning: \n",
      "A value is trying to be set on a copy of a slice from a DataFrame.\n",
      "Try using .loc[row_indexer,col_indexer] = value instead\n",
      "\n",
      "See the caveats in the documentation: https://pandas.pydata.org/pandas-docs/stable/user_guide/indexing.html#returning-a-view-versus-a-copy\n",
      "  self.obj[key] = value\n"
     ]
    },
    {
     "name": "stdout",
     "output_type": "stream",
     "text": [
      "\n",
      ">>> FOLD 1 Padded_cmAP = 0.899\n",
      "# WandB\n"
     ]
    },
    {
     "name": "stderr",
     "output_type": "stream",
     "text": [
      "wandb : 100%|██████████| 689/689 [00:33<00:00, 20.79it/s]\n"
     ]
    },
    {
     "data": {
      "text/html": [
       "Waiting for W&B process to finish... <strong style=\"color:green\">(success).</strong>"
      ],
      "text/plain": [
       "<IPython.core.display.HTML object>"
      ]
     },
     "metadata": {},
     "output_type": "display_data"
    },
    {
     "data": {
      "application/vnd.jupyter.widget-view+json": {
       "model_id": "",
       "version_major": 2,
       "version_minor": 0
      },
      "text/plain": [
       "VBox(children=(Label(value='2045.307 MB of 2045.307 MB uploaded (0.000 MB deduped)\\r'), FloatProgress(value=1.…"
      ]
     },
     "metadata": {},
     "output_type": "display_data"
    },
    {
     "data": {
      "text/html": [
       "<style>\n",
       "    table.wandb td:nth-child(1) { padding: 0 10px; text-align: left ; width: auto;} td:nth-child(2) {text-align: left ; width: 100%}\n",
       "    .wandb-row { display: flex; flex-direction: row; flex-wrap: wrap; justify-content: flex-start; width: 100% }\n",
       "    .wandb-col { display: flex; flex-direction: column; flex-basis: 100%; flex: 1; padding: 10px; }\n",
       "    </style>\n",
       "<div class=\"wandb-row\"><div class=\"wandb-col\"><h3>Run history:</h3><br/><table class=\"wandb\"><tr><td>cmAP</td><td>▁</td></tr><tr><td>epoch</td><td>▁▁▁▂▂▂▂▃▃▃▃▄▄▄▄▅▅▅▅▆▆▆▆▇▇▇▇████</td></tr><tr><td>loss</td><td>██▇▆▅▅▄▄▃▃▃▃▃▃▃▃▂▂▂▂▂▂▂▂▂▂▁▂▁▁▁▂▁▁▁▁▁▁▁▁</td></tr><tr><td>lr</td><td>▁▂▄▅▇██████▇▇▇▆▆▆▅▅▅▄▄▄▃▃▃▂▂▂▁</td></tr><tr><td>num_train</td><td>▁</td></tr><tr><td>num_valid</td><td>▁</td></tr><tr><td>train_loss</td><td>█▇▆▅▄▄▃▃▃▂▂▂▂▂▂▂▂▂▁▁▁▁▁▁▁▁▁▁▁▁</td></tr><tr><td>valid_loss</td><td>█▆▅▃▃▃▂▂▂▂▂▂▂▂▂▁▁▁▁▁▁▁▁▁▁▁▁▁▁▁</td></tr><tr><td>valid_padded_cmAP</td><td>▁▃▅▆▆▇▇▇▇▇▇▇██████████████████</td></tr></table><br/></div><div class=\"wandb-col\"><h3>Run summary:</h3><br/><table class=\"wandb\"><tr><td>cmAP</td><td>0.89938</td></tr><tr><td>epoch</td><td>29</td></tr><tr><td>loss</td><td>2.29948</td></tr><tr><td>lr</td><td>0.0001</td></tr><tr><td>num_train</td><td>19627</td></tr><tr><td>num_valid</td><td>3381</td></tr><tr><td>train_loss</td><td>2.4218</td></tr><tr><td>valid_loss</td><td>4.80878</td></tr><tr><td>valid_padded_cmAP</td><td>0.89902</td></tr></table><br/></div></div>"
      ],
      "text/plain": [
       "<IPython.core.display.HTML object>"
      ]
     },
     "metadata": {},
     "output_type": "display_data"
    },
    {
     "data": {
      "text/html": [
       "Synced <strong style=\"color:#cdcd00\">fold-0|dim-313x224|model-tf_efficientnet_b1_ns|2023-04-07 18:40:45</strong>: <a href=\"https://wandb.ai/hirokin1999/birdclef-2023-public/runs/3pckgvar\" target=\"_blank\">https://wandb.ai/hirokin1999/birdclef-2023-public/runs/3pckgvar</a><br/>Synced 5 W&B file(s), 1 media file(s), 715 artifact file(s) and 1 other file(s)"
      ],
      "text/plain": [
       "<IPython.core.display.HTML object>"
      ]
     },
     "metadata": {},
     "output_type": "display_data"
    },
    {
     "data": {
      "text/html": [
       "Find logs at: <code>./wandb/run-20230407_094045-3pckgvar/logs</code>"
      ],
      "text/plain": [
       "<IPython.core.display.HTML object>"
      ]
     },
     "metadata": {},
     "output_type": "display_data"
    },
    {
     "data": {
      "text/html": [
       "wandb version 0.14.1 is available!  To upgrade, please run:\n",
       " $ pip install wandb --upgrade"
      ],
      "text/plain": [
       "<IPython.core.display.HTML object>"
      ]
     },
     "metadata": {},
     "output_type": "display_data"
    },
    {
     "data": {
      "text/html": [
       "Tracking run with wandb version 0.12.21"
      ],
      "text/plain": [
       "<IPython.core.display.HTML object>"
      ]
     },
     "metadata": {},
     "output_type": "display_data"
    },
    {
     "data": {
      "text/html": [
       "Run data is saved locally in <code>/kaggle/working/adacos_20230407/wandb/run-20230407_110208-31vajte2</code>"
      ],
      "text/plain": [
       "<IPython.core.display.HTML object>"
      ]
     },
     "metadata": {},
     "output_type": "display_data"
    },
    {
     "data": {
      "text/html": [
       "Syncing run <strong><a href=\"https://wandb.ai/hirokin1999/birdclef-2023-public/runs/31vajte2\" target=\"_blank\">fold-1|dim-313x224|model-tf_efficientnet_b1_ns|2023-04-07 18:40:45</a></strong> to <a href=\"https://wandb.ai/hirokin1999/birdclef-2023-public\" target=\"_blank\">Weights & Biases</a> (<a href=\"https://wandb.me/run\" target=\"_blank\">docs</a>)<br/>"
      ],
      "text/plain": [
       "<IPython.core.display.HTML object>"
      ]
     },
     "metadata": {},
     "output_type": "display_data"
    },
    {
     "name": "stdout",
     "output_type": "stream",
     "text": [
      "#########################\n",
      "#### Training\n",
      "#### Fold: 2 | Image Size: (224, 313) | Model: tf_efficientnet_b1_ns | Batch Size: 128 | Scheduler: cos\n",
      "#### Num Train: 19,629 | Num Valid: 3,382\n"
     ]
    },
    {
     "name": "stderr",
     "output_type": "stream",
     "text": [
      "100%|██████████| 154/154 [02:17<00:00,  1.12it/s]\n",
      "100%|██████████| 27/27 [00:17<00:00,  1.54it/s]\n"
     ]
    },
    {
     "name": "stdout",
     "output_type": "stream",
     "text": [
      "Epoch: 1 | Train Loss: 9.124236020174893 | Val Loss: 5.539526056360315 | Val Padded_cmAP : 0.48504376274778327\n"
     ]
    },
    {
     "name": "stderr",
     "output_type": "stream",
     "text": [
      "100%|██████████| 154/154 [02:19<00:00,  1.11it/s]\n",
      "100%|██████████| 27/27 [00:17<00:00,  1.58it/s]\n"
     ]
    },
    {
     "name": "stdout",
     "output_type": "stream",
     "text": [
      "Epoch: 2 | Train Loss: 8.52723928550621 | Val Loss: 5.376362023530183 | Val Padded_cmAP : 0.5905283151850914\n"
     ]
    },
    {
     "name": "stderr",
     "output_type": "stream",
     "text": [
      "100%|██████████| 154/154 [02:20<00:00,  1.10it/s]\n",
      "100%|██████████| 27/27 [00:18<00:00,  1.44it/s]\n"
     ]
    },
    {
     "name": "stdout",
     "output_type": "stream",
     "text": [
      "Epoch: 3 | Train Loss: 7.312745673315866 | Val Loss: 5.179324008800365 | Val Padded_cmAP : 0.7123680336659844\n"
     ]
    },
    {
     "name": "stderr",
     "output_type": "stream",
     "text": [
      "100%|██████████| 154/154 [02:20<00:00,  1.10it/s]\n",
      "100%|██████████| 27/27 [00:17<00:00,  1.51it/s]\n"
     ]
    },
    {
     "name": "stdout",
     "output_type": "stream",
     "text": [
      "Epoch: 5 | Train Loss: 5.52650109204379 | Val Loss: 5.0149481914661544 | Val Padded_cmAP : 0.8002688920699118\n"
     ]
    },
    {
     "name": "stderr",
     "output_type": "stream",
     "text": [
      "100%|██████████| 154/154 [02:20<00:00,  1.10it/s]\n",
      "100%|██████████| 27/27 [00:17<00:00,  1.54it/s]\n"
     ]
    },
    {
     "name": "stdout",
     "output_type": "stream",
     "text": [
      "Epoch: 6 | Train Loss: 5.040446039918181 | Val Loss: 4.9680825339423285 | Val Padded_cmAP : 0.8292674952304487\n"
     ]
    },
    {
     "name": "stderr",
     "output_type": "stream",
     "text": [
      "100%|██████████| 154/154 [02:20<00:00,  1.10it/s]\n",
      "100%|██████████| 27/27 [00:17<00:00,  1.54it/s]\n"
     ]
    },
    {
     "name": "stdout",
     "output_type": "stream",
     "text": [
      "Epoch: 7 | Train Loss: 4.5682214049549845 | Val Loss: 4.961327994311297 | Val Padded_cmAP : 0.8321761961075386\n"
     ]
    },
    {
     "name": "stderr",
     "output_type": "stream",
     "text": [
      "100%|██████████| 154/154 [02:20<00:00,  1.10it/s]\n",
      "100%|██████████| 27/27 [00:17<00:00,  1.54it/s]\n"
     ]
    },
    {
     "name": "stdout",
     "output_type": "stream",
     "text": [
      "Epoch: 8 | Train Loss: 4.270455197854475 | Val Loss: 4.9397017690870495 | Val Padded_cmAP : 0.8420182567484616\n"
     ]
    },
    {
     "name": "stderr",
     "output_type": "stream",
     "text": [
      "100%|██████████| 154/154 [02:20<00:00,  1.10it/s]\n",
      "100%|██████████| 27/27 [00:18<00:00,  1.47it/s]\n"
     ]
    },
    {
     "name": "stdout",
     "output_type": "stream",
     "text": [
      "Epoch: 9 | Train Loss: 4.027241240848195 | Val Loss: 4.918031975075051 | Val Padded_cmAP : 0.8509186078138794\n"
     ]
    },
    {
     "name": "stderr",
     "output_type": "stream",
     "text": [
      "100%|██████████| 154/154 [02:20<00:00,  1.10it/s]\n",
      "100%|██████████| 27/27 [00:18<00:00,  1.45it/s]\n"
     ]
    },
    {
     "name": "stdout",
     "output_type": "stream",
     "text": [
      "Epoch: 10 | Train Loss: 3.8379784342530487 | Val Loss: 4.912932943414758 | Val Padded_cmAP : 0.856278772242846\n"
     ]
    },
    {
     "name": "stderr",
     "output_type": "stream",
     "text": [
      "100%|██████████| 154/154 [02:20<00:00,  1.10it/s]\n",
      "100%|██████████| 27/27 [00:17<00:00,  1.50it/s]\n"
     ]
    },
    {
     "name": "stdout",
     "output_type": "stream",
     "text": [
      "Epoch: 11 | Train Loss: 3.671263038338005 | Val Loss: 4.884263003313983 | Val Padded_cmAP : 0.8674209030356785\n"
     ]
    },
    {
     "name": "stderr",
     "output_type": "stream",
     "text": [
      "100%|██████████| 154/154 [02:20<00:00,  1.10it/s]\n",
      "100%|██████████| 27/27 [00:17<00:00,  1.54it/s]\n"
     ]
    },
    {
     "name": "stdout",
     "output_type": "stream",
     "text": [
      "Epoch: 12 | Train Loss: 3.5539193927467645 | Val Loss: 4.884211398937084 | Val Padded_cmAP : 0.8678923121704895\n"
     ]
    },
    {
     "name": "stderr",
     "output_type": "stream",
     "text": [
      "100%|██████████| 154/154 [02:20<00:00,  1.10it/s]\n",
      "100%|██████████| 27/27 [00:17<00:00,  1.51it/s]\n"
     ]
    },
    {
     "name": "stdout",
     "output_type": "stream",
     "text": [
      "Epoch: 13 | Train Loss: 3.3879356368795617 | Val Loss: 4.868807068577519 | Val Padded_cmAP : 0.876800761298532\n"
     ]
    },
    {
     "name": "stderr",
     "output_type": "stream",
     "text": [
      "100%|██████████| 154/154 [02:19<00:00,  1.10it/s]\n",
      "100%|██████████| 27/27 [00:17<00:00,  1.51it/s]\n"
     ]
    },
    {
     "name": "stdout",
     "output_type": "stream",
     "text": [
      "Epoch: 14 | Train Loss: 3.251421244113476 | Val Loss: 4.868988460964626 | Val Padded_cmAP : 0.8749263770750947\n"
     ]
    },
    {
     "name": "stderr",
     "output_type": "stream",
     "text": [
      "100%|██████████| 154/154 [02:19<00:00,  1.10it/s]\n",
      "100%|██████████| 27/27 [00:17<00:00,  1.54it/s]\n"
     ]
    },
    {
     "name": "stdout",
     "output_type": "stream",
     "text": [
      "Epoch: 15 | Train Loss: 3.2006912525598104 | Val Loss: 4.86584257196497 | Val Padded_cmAP : 0.8802339512172818\n"
     ]
    },
    {
     "name": "stderr",
     "output_type": "stream",
     "text": [
      "100%|██████████| 154/154 [02:20<00:00,  1.10it/s]\n",
      "100%|██████████| 27/27 [00:17<00:00,  1.52it/s]\n"
     ]
    },
    {
     "name": "stdout",
     "output_type": "stream",
     "text": [
      "Epoch: 16 | Train Loss: 3.095446623765029 | Val Loss: 4.861420878657588 | Val Padded_cmAP : 0.8805548393192336\n"
     ]
    },
    {
     "name": "stderr",
     "output_type": "stream",
     "text": [
      "100%|██████████| 154/154 [02:20<00:00,  1.10it/s]\n",
      "100%|██████████| 27/27 [00:17<00:00,  1.51it/s]\n"
     ]
    },
    {
     "name": "stdout",
     "output_type": "stream",
     "text": [
      "Epoch: 17 | Train Loss: 3.01999395698696 | Val Loss: 4.855954117245144 | Val Padded_cmAP : 0.881015763752254\n"
     ]
    },
    {
     "name": "stderr",
     "output_type": "stream",
     "text": [
      "100%|██████████| 154/154 [02:20<00:00,  1.10it/s]\n",
      "100%|██████████| 27/27 [00:18<00:00,  1.47it/s]\n"
     ]
    },
    {
     "name": "stdout",
     "output_type": "stream",
     "text": [
      "Epoch: 18 | Train Loss: 2.9429329153779267 | Val Loss: 4.8544771229779276 | Val Padded_cmAP : 0.8789387488049448\n"
     ]
    },
    {
     "name": "stderr",
     "output_type": "stream",
     "text": [
      "100%|██████████| 154/154 [02:20<00:00,  1.10it/s]\n",
      "100%|██████████| 27/27 [00:17<00:00,  1.52it/s]\n"
     ]
    },
    {
     "name": "stdout",
     "output_type": "stream",
     "text": [
      "Epoch: 19 | Train Loss: 2.8564957442221703 | Val Loss: 4.847878067581742 | Val Padded_cmAP : 0.8804749117474899\n"
     ]
    },
    {
     "name": "stderr",
     "output_type": "stream",
     "text": [
      "100%|██████████| 154/154 [02:19<00:00,  1.10it/s]\n",
      "100%|██████████| 27/27 [00:17<00:00,  1.55it/s]\n"
     ]
    },
    {
     "name": "stdout",
     "output_type": "stream",
     "text": [
      "Epoch: 20 | Train Loss: 2.8016547196871273 | Val Loss: 4.842443430865252 | Val Padded_cmAP : 0.8831650121481578\n"
     ]
    },
    {
     "name": "stderr",
     "output_type": "stream",
     "text": [
      "100%|██████████| 154/154 [02:19<00:00,  1.11it/s]\n",
      "100%|██████████| 27/27 [00:17<00:00,  1.52it/s]\n"
     ]
    },
    {
     "name": "stdout",
     "output_type": "stream",
     "text": [
      "Epoch: 21 | Train Loss: 2.7514337858596405 | Val Loss: 4.836533246216951 | Val Padded_cmAP : 0.8855221263266669\n"
     ]
    },
    {
     "name": "stderr",
     "output_type": "stream",
     "text": [
      "100%|██████████| 154/154 [02:19<00:00,  1.10it/s]\n",
      "100%|██████████| 27/27 [00:17<00:00,  1.54it/s]\n"
     ]
    },
    {
     "name": "stdout",
     "output_type": "stream",
     "text": [
      "Epoch: 22 | Train Loss: 2.6982800047118944 | Val Loss: 4.834052015233923 | Val Padded_cmAP : 0.8866486521663678\n"
     ]
    },
    {
     "name": "stderr",
     "output_type": "stream",
     "text": [
      "100%|██████████| 154/154 [02:20<00:00,  1.10it/s]\n",
      "100%|██████████| 27/27 [00:17<00:00,  1.53it/s]\n"
     ]
    },
    {
     "name": "stdout",
     "output_type": "stream",
     "text": [
      "Epoch: 23 | Train Loss: 2.6411151483461452 | Val Loss: 4.831099863405581 | Val Padded_cmAP : 0.8871472933676299\n"
     ]
    },
    {
     "name": "stderr",
     "output_type": "stream",
     "text": [
      "100%|██████████| 154/154 [02:20<00:00,  1.10it/s]\n",
      "100%|██████████| 27/27 [00:17<00:00,  1.55it/s]\n"
     ]
    },
    {
     "name": "stdout",
     "output_type": "stream",
     "text": [
      "Epoch: 24 | Train Loss: 2.5743206863279466 | Val Loss: 4.826405066030997 | Val Padded_cmAP : 0.8908007676835084\n"
     ]
    },
    {
     "name": "stderr",
     "output_type": "stream",
     "text": [
      "100%|██████████| 154/154 [02:20<00:00,  1.10it/s]\n",
      "100%|██████████| 27/27 [00:17<00:00,  1.51it/s]\n"
     ]
    },
    {
     "name": "stdout",
     "output_type": "stream",
     "text": [
      "Epoch: 25 | Train Loss: 2.5701054861019186 | Val Loss: 4.824761991147642 | Val Padded_cmAP : 0.890471941496366\n"
     ]
    },
    {
     "name": "stderr",
     "output_type": "stream",
     "text": [
      "100%|██████████| 154/154 [02:20<00:00,  1.10it/s]\n",
      "100%|██████████| 27/27 [00:18<00:00,  1.47it/s]\n"
     ]
    },
    {
     "name": "stdout",
     "output_type": "stream",
     "text": [
      "Epoch: 26 | Train Loss: 2.5009690585074487 | Val Loss: 4.826301768974021 | Val Padded_cmAP : 0.8914358831539286\n"
     ]
    },
    {
     "name": "stderr",
     "output_type": "stream",
     "text": [
      "100%|██████████| 154/154 [02:20<00:00,  1.10it/s]\n",
      "100%|██████████| 27/27 [00:17<00:00,  1.56it/s]\n"
     ]
    },
    {
     "name": "stdout",
     "output_type": "stream",
     "text": [
      "Epoch: 27 | Train Loss: 2.4848830514139943 | Val Loss: 4.820303669682255 | Val Padded_cmAP : 0.8924901432262475\n"
     ]
    },
    {
     "name": "stderr",
     "output_type": "stream",
     "text": [
      "100%|██████████| 154/154 [02:19<00:00,  1.10it/s]\n",
      "100%|██████████| 27/27 [00:17<00:00,  1.56it/s]\n"
     ]
    },
    {
     "name": "stdout",
     "output_type": "stream",
     "text": [
      "Epoch: 28 | Train Loss: 2.4769463353342824 | Val Loss: 4.820203004059969 | Val Padded_cmAP : 0.8932246589729483\n"
     ]
    },
    {
     "name": "stderr",
     "output_type": "stream",
     "text": [
      "100%|██████████| 154/154 [02:20<00:00,  1.10it/s]\n",
      "100%|██████████| 27/27 [00:17<00:00,  1.54it/s]\n"
     ]
    },
    {
     "name": "stdout",
     "output_type": "stream",
     "text": [
      "Epoch: 29 | Train Loss: 2.4466103454688928 | Val Loss: 4.8187113514652955 | Val Padded_cmAP : 0.8942432538397602\n"
     ]
    },
    {
     "name": "stderr",
     "output_type": "stream",
     "text": [
      "100%|██████████| 154/154 [02:20<00:00,  1.10it/s]\n",
      "100%|██████████| 27/27 [00:17<00:00,  1.52it/s]\n"
     ]
    },
    {
     "name": "stdout",
     "output_type": "stream",
     "text": [
      "Epoch: 30 | Train Loss: 2.4181013029891174 | Val Loss: 4.818199811158357 | Val Padded_cmAP : 0.893805667350558\n",
      "# Loading best model\n",
      "# Infering OOF\n"
     ]
    },
    {
     "name": "stderr",
     "output_type": "stream",
     "text": [
      "100%|██████████| 27/27 [00:08<00:00,  3.09it/s]\n",
      "/opt/conda/lib/python3.7/site-packages/pandas/core/frame.py:3678: PerformanceWarning: DataFrame is highly fragmented.  This is usually the result of calling `frame.insert` many times, which has poor performance.  Consider joining all columns at once using pd.concat(axis=1) instead.  To get a de-fragmented frame, use `newframe = frame.copy()`\n",
      "  self[col] = igetitem(value, i)\n",
      "/opt/conda/lib/python3.7/site-packages/pandas/core/indexing.py:1667: SettingWithCopyWarning: \n",
      "A value is trying to be set on a copy of a slice from a DataFrame.\n",
      "Try using .loc[row_indexer,col_indexer] = value instead\n",
      "\n",
      "See the caveats in the documentation: https://pandas.pydata.org/pandas-docs/stable/user_guide/indexing.html#returning-a-view-versus-a-copy\n",
      "  self.obj[key] = value\n"
     ]
    },
    {
     "name": "stdout",
     "output_type": "stream",
     "text": [
      "\n",
      ">>> FOLD 2 Padded_cmAP = 0.894\n",
      "# WandB\n"
     ]
    },
    {
     "name": "stderr",
     "output_type": "stream",
     "text": [
      "wandb : 100%|██████████| 735/735 [00:40<00:00, 18.32it/s]\n"
     ]
    },
    {
     "data": {
      "text/html": [
       "Waiting for W&B process to finish... <strong style=\"color:green\">(success).</strong>"
      ],
      "text/plain": [
       "<IPython.core.display.HTML object>"
      ]
     },
     "metadata": {},
     "output_type": "display_data"
    },
    {
     "data": {
      "application/vnd.jupyter.widget-view+json": {
       "model_id": "",
       "version_major": 2,
       "version_minor": 0
      },
      "text/plain": [
       "VBox(children=(Label(value='2328.351 MB of 2328.397 MB uploaded (0.000 MB deduped)\\r'), FloatProgress(value=0.…"
      ]
     },
     "metadata": {},
     "output_type": "display_data"
    },
    {
     "data": {
      "text/html": [
       "<style>\n",
       "    table.wandb td:nth-child(1) { padding: 0 10px; text-align: left ; width: auto;} td:nth-child(2) {text-align: left ; width: 100%}\n",
       "    .wandb-row { display: flex; flex-direction: row; flex-wrap: wrap; justify-content: flex-start; width: 100% }\n",
       "    .wandb-col { display: flex; flex-direction: column; flex-basis: 100%; flex: 1; padding: 10px; }\n",
       "    </style>\n",
       "<div class=\"wandb-row\"><div class=\"wandb-col\"><h3>Run history:</h3><br/><table class=\"wandb\"><tr><td>cmAP</td><td>▁</td></tr><tr><td>epoch</td><td>▁▁▁▂▂▂▂▃▃▃▃▄▄▄▄▅▅▅▅▆▆▆▆▇▇▇▇████</td></tr><tr><td>loss</td><td>██▇▆▅▅▄▄▃▃▃▃▃▃▂▂▂▂▂▂▂▂▂▁▂▂▁▂▁▁▁▁▁▁▁▁▁▁▁▁</td></tr><tr><td>lr</td><td>▁▂▄▅▇██████▇▇▇▆▆▆▅▅▅▄▄▄▃▃▃▂▂▂▁</td></tr><tr><td>num_train</td><td>▁</td></tr><tr><td>num_valid</td><td>▁</td></tr><tr><td>train_loss</td><td>█▇▆▅▄▄▃▃▃▂▂▂▂▂▂▂▂▂▁▁▁▁▁▁▁▁▁▁▁▁</td></tr><tr><td>valid_loss</td><td>█▆▅▃▃▂▂▂▂▂▂▂▁▁▁▁▁▁▁▁▁▁▁▁▁▁▁▁▁▁</td></tr><tr><td>valid_padded_cmAP</td><td>▁▃▅▆▆▇▇▇▇▇████████████████████</td></tr></table><br/></div><div class=\"wandb-col\"><h3>Run summary:</h3><br/><table class=\"wandb\"><tr><td>cmAP</td><td>0.89424</td></tr><tr><td>epoch</td><td>29</td></tr><tr><td>loss</td><td>2.81066</td></tr><tr><td>lr</td><td>0.0001</td></tr><tr><td>num_train</td><td>19629</td></tr><tr><td>num_valid</td><td>3382</td></tr><tr><td>train_loss</td><td>2.4181</td></tr><tr><td>valid_loss</td><td>4.8182</td></tr><tr><td>valid_padded_cmAP</td><td>0.89381</td></tr></table><br/></div></div>"
      ],
      "text/plain": [
       "<IPython.core.display.HTML object>"
      ]
     },
     "metadata": {},
     "output_type": "display_data"
    },
    {
     "data": {
      "text/html": [
       "Synced <strong style=\"color:#cdcd00\">fold-1|dim-313x224|model-tf_efficientnet_b1_ns|2023-04-07 18:40:45</strong>: <a href=\"https://wandb.ai/hirokin1999/birdclef-2023-public/runs/31vajte2\" target=\"_blank\">https://wandb.ai/hirokin1999/birdclef-2023-public/runs/31vajte2</a><br/>Synced 5 W&B file(s), 1 media file(s), 761 artifact file(s) and 1 other file(s)"
      ],
      "text/plain": [
       "<IPython.core.display.HTML object>"
      ]
     },
     "metadata": {},
     "output_type": "display_data"
    },
    {
     "data": {
      "text/html": [
       "Find logs at: <code>./wandb/run-20230407_110208-31vajte2/logs</code>"
      ],
      "text/plain": [
       "<IPython.core.display.HTML object>"
      ]
     },
     "metadata": {},
     "output_type": "display_data"
    },
    {
     "data": {
      "text/html": [
       "wandb version 0.14.1 is available!  To upgrade, please run:\n",
       " $ pip install wandb --upgrade"
      ],
      "text/plain": [
       "<IPython.core.display.HTML object>"
      ]
     },
     "metadata": {},
     "output_type": "display_data"
    },
    {
     "data": {
      "text/html": [
       "Tracking run with wandb version 0.12.21"
      ],
      "text/plain": [
       "<IPython.core.display.HTML object>"
      ]
     },
     "metadata": {},
     "output_type": "display_data"
    },
    {
     "data": {
      "text/html": [
       "Run data is saved locally in <code>/kaggle/working/adacos_20230407/wandb/run-20230407_122315-1cgkk6m3</code>"
      ],
      "text/plain": [
       "<IPython.core.display.HTML object>"
      ]
     },
     "metadata": {},
     "output_type": "display_data"
    },
    {
     "data": {
      "text/html": [
       "Syncing run <strong><a href=\"https://wandb.ai/hirokin1999/birdclef-2023-public/runs/1cgkk6m3\" target=\"_blank\">fold-2|dim-313x224|model-tf_efficientnet_b1_ns|2023-04-07 18:40:45</a></strong> to <a href=\"https://wandb.ai/hirokin1999/birdclef-2023-public\" target=\"_blank\">Weights & Biases</a> (<a href=\"https://wandb.me/run\" target=\"_blank\">docs</a>)<br/>"
      ],
      "text/plain": [
       "<IPython.core.display.HTML object>"
      ]
     },
     "metadata": {},
     "output_type": "display_data"
    },
    {
     "name": "stdout",
     "output_type": "stream",
     "text": [
      "#########################\n",
      "#### Training\n",
      "#### Fold: 3 | Image Size: (224, 313) | Model: tf_efficientnet_b1_ns | Batch Size: 128 | Scheduler: cos\n",
      "#### Num Train: 19,629 | Num Valid: 3,381\n"
     ]
    },
    {
     "name": "stderr",
     "output_type": "stream",
     "text": [
      "100%|██████████| 154/154 [02:19<00:00,  1.10it/s]\n",
      "100%|██████████| 27/27 [00:17<00:00,  1.51it/s]\n"
     ]
    },
    {
     "name": "stdout",
     "output_type": "stream",
     "text": [
      "Epoch: 1 | Train Loss: 9.125263864343816 | Val Loss: 5.538931687672933 | Val Padded_cmAP : 0.48516981634509776\n"
     ]
    },
    {
     "name": "stderr",
     "output_type": "stream",
     "text": [
      "100%|██████████| 154/154 [02:19<00:00,  1.10it/s]\n",
      "100%|██████████| 27/27 [00:17<00:00,  1.51it/s]\n"
     ]
    },
    {
     "name": "stdout",
     "output_type": "stream",
     "text": [
      "Epoch: 2 | Train Loss: 8.525841118453386 | Val Loss: 5.381067788159406 | Val Padded_cmAP : 0.6001878636827913\n"
     ]
    },
    {
     "name": "stderr",
     "output_type": "stream",
     "text": [
      "100%|██████████| 154/154 [02:20<00:00,  1.10it/s]\n",
      "100%|██████████| 27/27 [00:17<00:00,  1.53it/s]\n"
     ]
    },
    {
     "name": "stdout",
     "output_type": "stream",
     "text": [
      "Epoch: 3 | Train Loss: 7.312263934643237 | Val Loss: 5.179739581214057 | Val Padded_cmAP : 0.7205602482453438\n"
     ]
    },
    {
     "name": "stderr",
     "output_type": "stream",
     "text": [
      "100%|██████████| 154/154 [02:19<00:00,  1.10it/s]\n",
      "100%|██████████| 27/27 [00:17<00:00,  1.54it/s]\n"
     ]
    },
    {
     "name": "stdout",
     "output_type": "stream",
     "text": [
      "Epoch: 4 | Train Loss: 6.275590605549998 | Val Loss: 5.077614360385471 | Val Padded_cmAP : 0.7745874360359231\n"
     ]
    },
    {
     "name": "stderr",
     "output_type": "stream",
     "text": [
      "100%|██████████| 154/154 [02:19<00:00,  1.10it/s]\n",
      "100%|██████████| 27/27 [00:18<00:00,  1.50it/s]\n"
     ]
    },
    {
     "name": "stdout",
     "output_type": "stream",
     "text": [
      "Epoch: 5 | Train Loss: 5.537822819375372 | Val Loss: 5.01525299637406 | Val Padded_cmAP : 0.797097191242778\n"
     ]
    },
    {
     "name": "stderr",
     "output_type": "stream",
     "text": [
      "100%|██████████| 154/154 [02:19<00:00,  1.10it/s]\n",
      "100%|██████████| 27/27 [00:17<00:00,  1.54it/s]\n"
     ]
    },
    {
     "name": "stdout",
     "output_type": "stream",
     "text": [
      "Epoch: 6 | Train Loss: 5.043379201517476 | Val Loss: 4.982480278721562 | Val Padded_cmAP : 0.8133714166514736\n"
     ]
    },
    {
     "name": "stderr",
     "output_type": "stream",
     "text": [
      "100%|██████████| 154/154 [02:20<00:00,  1.10it/s]\n",
      "100%|██████████| 27/27 [00:18<00:00,  1.50it/s]\n"
     ]
    },
    {
     "name": "stdout",
     "output_type": "stream",
     "text": [
      "Epoch: 7 | Train Loss: 4.538540440720397 | Val Loss: 4.954851203494602 | Val Padded_cmAP : 0.8285415742594159\n"
     ]
    },
    {
     "name": "stderr",
     "output_type": "stream",
     "text": [
      "100%|██████████| 154/154 [02:20<00:00,  1.10it/s]\n",
      "100%|██████████| 27/27 [00:17<00:00,  1.51it/s]\n"
     ]
    },
    {
     "name": "stdout",
     "output_type": "stream",
     "text": [
      "Epoch: 8 | Train Loss: 4.273393055061241 | Val Loss: 4.932866361406115 | Val Padded_cmAP : 0.8392519091431698\n"
     ]
    },
    {
     "name": "stderr",
     "output_type": "stream",
     "text": [
      "100%|██████████| 154/154 [02:20<00:00,  1.10it/s]\n",
      "100%|██████████| 27/27 [00:17<00:00,  1.55it/s]\n"
     ]
    },
    {
     "name": "stdout",
     "output_type": "stream",
     "text": [
      "Epoch: 9 | Train Loss: 4.014557996353545 | Val Loss: 4.924545058497676 | Val Padded_cmAP : 0.8423221974925078\n"
     ]
    },
    {
     "name": "stderr",
     "output_type": "stream",
     "text": [
      "100%|██████████| 154/154 [02:19<00:00,  1.10it/s]\n",
      "100%|██████████| 27/27 [00:17<00:00,  1.51it/s]\n"
     ]
    },
    {
     "name": "stdout",
     "output_type": "stream",
     "text": [
      "Epoch: 10 | Train Loss: 3.8081797345892174 | Val Loss: 4.92037946206552 | Val Padded_cmAP : 0.8465812734735394\n"
     ]
    },
    {
     "name": "stderr",
     "output_type": "stream",
     "text": [
      "100%|██████████| 154/154 [02:20<00:00,  1.10it/s]\n",
      "100%|██████████| 27/27 [00:17<00:00,  1.52it/s]\n"
     ]
    },
    {
     "name": "stdout",
     "output_type": "stream",
     "text": [
      "Epoch: 11 | Train Loss: 3.6574788294829332 | Val Loss: 4.893846847392894 | Val Padded_cmAP : 0.8557378415884237\n"
     ]
    },
    {
     "name": "stderr",
     "output_type": "stream",
     "text": [
      "100%|██████████| 154/154 [02:20<00:00,  1.10it/s]\n",
      "100%|██████████| 27/27 [00:17<00:00,  1.54it/s]\n"
     ]
    },
    {
     "name": "stdout",
     "output_type": "stream",
     "text": [
      "Epoch: 12 | Train Loss: 3.5246270353143867 | Val Loss: 4.884539286295573 | Val Padded_cmAP : 0.8573913249570957\n"
     ]
    },
    {
     "name": "stderr",
     "output_type": "stream",
     "text": [
      "100%|██████████| 154/154 [02:19<00:00,  1.10it/s]\n",
      "100%|██████████| 27/27 [00:17<00:00,  1.55it/s]\n"
     ]
    },
    {
     "name": "stdout",
     "output_type": "stream",
     "text": [
      "Epoch: 13 | Train Loss: 3.404401737374145 | Val Loss: 4.877010133531359 | Val Padded_cmAP : 0.8624804773114211\n"
     ]
    },
    {
     "name": "stderr",
     "output_type": "stream",
     "text": [
      "100%|██████████| 154/154 [02:20<00:00,  1.10it/s]\n",
      "100%|██████████| 27/27 [00:17<00:00,  1.53it/s]\n"
     ]
    },
    {
     "name": "stdout",
     "output_type": "stream",
     "text": [
      "Epoch: 14 | Train Loss: 3.258143087486168 | Val Loss: 4.870266278584798 | Val Padded_cmAP : 0.8671734815444794\n"
     ]
    },
    {
     "name": "stderr",
     "output_type": "stream",
     "text": [
      "100%|██████████| 154/154 [02:19<00:00,  1.10it/s]\n",
      "100%|██████████| 27/27 [00:17<00:00,  1.54it/s]\n"
     ]
    },
    {
     "name": "stdout",
     "output_type": "stream",
     "text": [
      "Epoch: 15 | Train Loss: 3.1798865733208594 | Val Loss: 4.870343791113959 | Val Padded_cmAP : 0.8665380793484259\n"
     ]
    },
    {
     "name": "stderr",
     "output_type": "stream",
     "text": [
      "100%|██████████| 154/154 [02:20<00:00,  1.10it/s]\n",
      "100%|██████████| 27/27 [00:17<00:00,  1.51it/s]\n"
     ]
    },
    {
     "name": "stdout",
     "output_type": "stream",
     "text": [
      "Epoch: 16 | Train Loss: 3.1092938463409228 | Val Loss: 4.8642979904457375 | Val Padded_cmAP : 0.8684048217563775\n"
     ]
    },
    {
     "name": "stderr",
     "output_type": "stream",
     "text": [
      "100%|██████████| 154/154 [02:19<00:00,  1.10it/s]\n",
      "100%|██████████| 27/27 [00:18<00:00,  1.50it/s]\n"
     ]
    },
    {
     "name": "stdout",
     "output_type": "stream",
     "text": [
      "Epoch: 17 | Train Loss: 3.035037416916389 | Val Loss: 4.854256011821605 | Val Padded_cmAP : 0.8721880320081518\n"
     ]
    },
    {
     "name": "stderr",
     "output_type": "stream",
     "text": [
      "100%|██████████| 154/154 [02:20<00:00,  1.10it/s]\n",
      "100%|██████████| 27/27 [00:17<00:00,  1.52it/s]\n"
     ]
    },
    {
     "name": "stdout",
     "output_type": "stream",
     "text": [
      "Epoch: 18 | Train Loss: 2.9646867265949 | Val Loss: 4.85140394281458 | Val Padded_cmAP : 0.8715097663196898\n"
     ]
    },
    {
     "name": "stderr",
     "output_type": "stream",
     "text": [
      "100%|██████████| 154/154 [02:20<00:00,  1.09it/s]\n",
      "100%|██████████| 27/27 [00:17<00:00,  1.53it/s]\n"
     ]
    },
    {
     "name": "stdout",
     "output_type": "stream",
     "text": [
      "Epoch: 19 | Train Loss: 2.8783219712121144 | Val Loss: 4.841293281979031 | Val Padded_cmAP : 0.8780573880705744\n"
     ]
    },
    {
     "name": "stderr",
     "output_type": "stream",
     "text": [
      "100%|██████████| 154/154 [02:19<00:00,  1.10it/s]\n",
      "100%|██████████| 27/27 [00:17<00:00,  1.54it/s]\n"
     ]
    },
    {
     "name": "stdout",
     "output_type": "stream",
     "text": [
      "Epoch: 20 | Train Loss: 2.827650804024238 | Val Loss: 4.842332151201036 | Val Padded_cmAP : 0.8796727044591662\n"
     ]
    },
    {
     "name": "stderr",
     "output_type": "stream",
     "text": [
      "100%|██████████| 154/154 [02:20<00:00,  1.10it/s]\n",
      "100%|██████████| 27/27 [00:18<00:00,  1.48it/s]\n"
     ]
    },
    {
     "name": "stdout",
     "output_type": "stream",
     "text": [
      "Epoch: 21 | Train Loss: 2.745982383752798 | Val Loss: 4.8382514141224044 | Val Padded_cmAP : 0.8798272664347627\n"
     ]
    },
    {
     "name": "stderr",
     "output_type": "stream",
     "text": [
      "100%|██████████| 154/154 [02:20<00:00,  1.10it/s]\n",
      "100%|██████████| 27/27 [00:17<00:00,  1.52it/s]\n"
     ]
    },
    {
     "name": "stdout",
     "output_type": "stream",
     "text": [
      "Epoch: 22 | Train Loss: 2.7182778104559167 | Val Loss: 4.831684253833912 | Val Padded_cmAP : 0.8832629284945535\n"
     ]
    },
    {
     "name": "stderr",
     "output_type": "stream",
     "text": [
      "100%|██████████| 154/154 [02:20<00:00,  1.10it/s]\n",
      "100%|██████████| 27/27 [00:17<00:00,  1.54it/s]\n"
     ]
    },
    {
     "name": "stdout",
     "output_type": "stream",
     "text": [
      "Epoch: 23 | Train Loss: 2.656319635254996 | Val Loss: 4.832378352129901 | Val Padded_cmAP : 0.8799751915066429\n"
     ]
    },
    {
     "name": "stderr",
     "output_type": "stream",
     "text": [
      "100%|██████████| 154/154 [02:19<00:00,  1.10it/s]\n",
      "100%|██████████| 27/27 [00:17<00:00,  1.54it/s]\n"
     ]
    },
    {
     "name": "stdout",
     "output_type": "stream",
     "text": [
      "Epoch: 24 | Train Loss: 2.6105765708081132 | Val Loss: 4.8274189807750565 | Val Padded_cmAP : 0.8827848671314156\n"
     ]
    },
    {
     "name": "stderr",
     "output_type": "stream",
     "text": [
      "100%|██████████| 154/154 [02:20<00:00,  1.10it/s]\n",
      "100%|██████████| 27/27 [00:17<00:00,  1.50it/s]\n"
     ]
    },
    {
     "name": "stdout",
     "output_type": "stream",
     "text": [
      "Epoch: 25 | Train Loss: 2.572510675950484 | Val Loss: 4.823637715092412 | Val Padded_cmAP : 0.8840390391024243\n"
     ]
    },
    {
     "name": "stderr",
     "output_type": "stream",
     "text": [
      "100%|██████████| 154/154 [02:20<00:00,  1.10it/s]\n",
      "100%|██████████| 27/27 [00:17<00:00,  1.52it/s]\n"
     ]
    },
    {
     "name": "stdout",
     "output_type": "stream",
     "text": [
      "Epoch: 26 | Train Loss: 2.55259442484224 | Val Loss: 4.822559462653266 | Val Padded_cmAP : 0.884487392722052\n"
     ]
    },
    {
     "name": "stderr",
     "output_type": "stream",
     "text": [
      "100%|██████████| 154/154 [02:20<00:00,  1.10it/s]\n",
      "100%|██████████| 27/27 [00:18<00:00,  1.48it/s]\n"
     ]
    },
    {
     "name": "stdout",
     "output_type": "stream",
     "text": [
      "Epoch: 27 | Train Loss: 2.495760487271594 | Val Loss: 4.817251805905943 | Val Padded_cmAP : 0.8868356925787647\n"
     ]
    },
    {
     "name": "stderr",
     "output_type": "stream",
     "text": [
      "100%|██████████| 154/154 [02:20<00:00,  1.10it/s]\n",
      "100%|██████████| 27/27 [00:17<00:00,  1.55it/s]\n"
     ]
    },
    {
     "name": "stdout",
     "output_type": "stream",
     "text": [
      "Epoch: 28 | Train Loss: 2.4631141315806997 | Val Loss: 4.818178547753228 | Val Padded_cmAP : 0.886282109091967\n"
     ]
    },
    {
     "name": "stderr",
     "output_type": "stream",
     "text": [
      "100%|██████████| 154/154 [02:19<00:00,  1.10it/s]\n",
      "100%|██████████| 27/27 [00:18<00:00,  1.44it/s]\n"
     ]
    },
    {
     "name": "stdout",
     "output_type": "stream",
     "text": [
      "Epoch: 29 | Train Loss: 2.4410485462708906 | Val Loss: 4.815273337894016 | Val Padded_cmAP : 0.8876326341159543\n"
     ]
    },
    {
     "name": "stderr",
     "output_type": "stream",
     "text": [
      "100%|██████████| 154/154 [02:19<00:00,  1.10it/s]\n",
      "100%|██████████| 27/27 [00:17<00:00,  1.53it/s]\n"
     ]
    },
    {
     "name": "stdout",
     "output_type": "stream",
     "text": [
      "Epoch: 30 | Train Loss: 2.427981870515006 | Val Loss: 4.814336246914333 | Val Padded_cmAP : 0.8885111724234398\n",
      "# Loading best model\n",
      "# Infering OOF\n"
     ]
    },
    {
     "name": "stderr",
     "output_type": "stream",
     "text": [
      "100%|██████████| 27/27 [00:08<00:00,  3.11it/s]\n",
      "/opt/conda/lib/python3.7/site-packages/pandas/core/frame.py:3678: PerformanceWarning: DataFrame is highly fragmented.  This is usually the result of calling `frame.insert` many times, which has poor performance.  Consider joining all columns at once using pd.concat(axis=1) instead.  To get a de-fragmented frame, use `newframe = frame.copy()`\n",
      "  self[col] = igetitem(value, i)\n",
      "/opt/conda/lib/python3.7/site-packages/pandas/core/indexing.py:1667: SettingWithCopyWarning: \n",
      "A value is trying to be set on a copy of a slice from a DataFrame.\n",
      "Try using .loc[row_indexer,col_indexer] = value instead\n",
      "\n",
      "See the caveats in the documentation: https://pandas.pydata.org/pandas-docs/stable/user_guide/indexing.html#returning-a-view-versus-a-copy\n",
      "  self.obj[key] = value\n"
     ]
    },
    {
     "name": "stdout",
     "output_type": "stream",
     "text": [
      "\n",
      ">>> FOLD 3 Padded_cmAP = 0.889\n",
      "# WandB\n"
     ]
    },
    {
     "name": "stderr",
     "output_type": "stream",
     "text": [
      "wandb : 100%|██████████| 710/710 [00:34<00:00, 20.66it/s]\n"
     ]
    },
    {
     "data": {
      "text/html": [
       "Waiting for W&B process to finish... <strong style=\"color:green\">(success).</strong>"
      ],
      "text/plain": [
       "<IPython.core.display.HTML object>"
      ]
     },
     "metadata": {},
     "output_type": "display_data"
    },
    {
     "data": {
      "application/vnd.jupyter.widget-view+json": {
       "model_id": "",
       "version_major": 2,
       "version_minor": 0
      },
      "text/plain": [
       "VBox(children=(Label(value='2143.225 MB of 2143.225 MB uploaded (0.000 MB deduped)\\r'), FloatProgress(value=1.…"
      ]
     },
     "metadata": {},
     "output_type": "display_data"
    },
    {
     "data": {
      "text/html": [
       "<style>\n",
       "    table.wandb td:nth-child(1) { padding: 0 10px; text-align: left ; width: auto;} td:nth-child(2) {text-align: left ; width: 100%}\n",
       "    .wandb-row { display: flex; flex-direction: row; flex-wrap: wrap; justify-content: flex-start; width: 100% }\n",
       "    .wandb-col { display: flex; flex-direction: column; flex-basis: 100%; flex: 1; padding: 10px; }\n",
       "    </style>\n",
       "<div class=\"wandb-row\"><div class=\"wandb-col\"><h3>Run history:</h3><br/><table class=\"wandb\"><tr><td>cmAP</td><td>▁</td></tr><tr><td>epoch</td><td>▁▁▁▂▂▂▂▃▃▃▃▄▄▄▄▅▅▅▅▆▆▆▆▇▇▇▇████</td></tr><tr><td>loss</td><td>██▇▆▅▄▅▄▄▃▃▄▃▃▂▃▂▂▂▂▁▂▂▂▂▂▂▁▁▁▁▁▁▁▂▁▁▁▁▁</td></tr><tr><td>lr</td><td>▁▂▄▅▇██████▇▇▇▆▆▆▅▅▅▄▄▄▃▃▃▂▂▂▁</td></tr><tr><td>num_train</td><td>▁</td></tr><tr><td>num_valid</td><td>▁</td></tr><tr><td>train_loss</td><td>█▇▆▅▄▄▃▃▃▂▂▂▂▂▂▂▂▂▁▁▁▁▁▁▁▁▁▁▁▁</td></tr><tr><td>valid_loss</td><td>█▆▅▄▃▃▂▂▂▂▂▂▂▂▂▁▁▁▁▁▁▁▁▁▁▁▁▁▁▁</td></tr><tr><td>valid_padded_cmAP</td><td>▁▃▅▆▆▇▇▇▇▇▇▇██████████████████</td></tr></table><br/></div><div class=\"wandb-col\"><h3>Run summary:</h3><br/><table class=\"wandb\"><tr><td>cmAP</td><td>0.88851</td></tr><tr><td>epoch</td><td>30</td></tr><tr><td>loss</td><td>2.46605</td></tr><tr><td>lr</td><td>0.0001</td></tr><tr><td>num_train</td><td>19629</td></tr><tr><td>num_valid</td><td>3381</td></tr><tr><td>train_loss</td><td>2.42798</td></tr><tr><td>valid_loss</td><td>4.81434</td></tr><tr><td>valid_padded_cmAP</td><td>0.88851</td></tr></table><br/></div></div>"
      ],
      "text/plain": [
       "<IPython.core.display.HTML object>"
      ]
     },
     "metadata": {},
     "output_type": "display_data"
    },
    {
     "data": {
      "text/html": [
       "Synced <strong style=\"color:#cdcd00\">fold-2|dim-313x224|model-tf_efficientnet_b1_ns|2023-04-07 18:40:45</strong>: <a href=\"https://wandb.ai/hirokin1999/birdclef-2023-public/runs/1cgkk6m3\" target=\"_blank\">https://wandb.ai/hirokin1999/birdclef-2023-public/runs/1cgkk6m3</a><br/>Synced 5 W&B file(s), 1 media file(s), 736 artifact file(s) and 1 other file(s)"
      ],
      "text/plain": [
       "<IPython.core.display.HTML object>"
      ]
     },
     "metadata": {},
     "output_type": "display_data"
    },
    {
     "data": {
      "text/html": [
       "Find logs at: <code>./wandb/run-20230407_122315-1cgkk6m3/logs</code>"
      ],
      "text/plain": [
       "<IPython.core.display.HTML object>"
      ]
     },
     "metadata": {},
     "output_type": "display_data"
    },
    {
     "data": {
      "text/html": [
       "wandb version 0.14.1 is available!  To upgrade, please run:\n",
       " $ pip install wandb --upgrade"
      ],
      "text/plain": [
       "<IPython.core.display.HTML object>"
      ]
     },
     "metadata": {},
     "output_type": "display_data"
    },
    {
     "data": {
      "text/html": [
       "Tracking run with wandb version 0.12.21"
      ],
      "text/plain": [
       "<IPython.core.display.HTML object>"
      ]
     },
     "metadata": {},
     "output_type": "display_data"
    },
    {
     "data": {
      "text/html": [
       "Run data is saved locally in <code>/kaggle/working/adacos_20230407/wandb/run-20230407_134413-27a3ckqu</code>"
      ],
      "text/plain": [
       "<IPython.core.display.HTML object>"
      ]
     },
     "metadata": {},
     "output_type": "display_data"
    },
    {
     "data": {
      "text/html": [
       "Syncing run <strong><a href=\"https://wandb.ai/hirokin1999/birdclef-2023-public/runs/27a3ckqu\" target=\"_blank\">fold-3|dim-313x224|model-tf_efficientnet_b1_ns|2023-04-07 18:40:45</a></strong> to <a href=\"https://wandb.ai/hirokin1999/birdclef-2023-public\" target=\"_blank\">Weights & Biases</a> (<a href=\"https://wandb.me/run\" target=\"_blank\">docs</a>)<br/>"
      ],
      "text/plain": [
       "<IPython.core.display.HTML object>"
      ]
     },
     "metadata": {},
     "output_type": "display_data"
    },
    {
     "name": "stdout",
     "output_type": "stream",
     "text": [
      "#########################\n",
      "#### Training\n",
      "#### Fold: 4 | Image Size: (224, 313) | Model: tf_efficientnet_b1_ns | Batch Size: 128 | Scheduler: cos\n",
      "#### Num Train: 19,623 | Num Valid: 3,381\n"
     ]
    },
    {
     "name": "stderr",
     "output_type": "stream",
     "text": [
      "100%|██████████| 154/154 [02:17<00:00,  1.12it/s]\n",
      "100%|██████████| 27/27 [00:17<00:00,  1.52it/s]\n"
     ]
    },
    {
     "name": "stdout",
     "output_type": "stream",
     "text": [
      "Epoch: 1 | Train Loss: 9.111012768435788 | Val Loss: 5.5382517885278775 | Val Padded_cmAP : 0.48798530750038516\n"
     ]
    },
    {
     "name": "stderr",
     "output_type": "stream",
     "text": [
      "100%|██████████| 154/154 [02:19<00:00,  1.10it/s]\n",
      "100%|██████████| 27/27 [00:17<00:00,  1.55it/s]\n"
     ]
    },
    {
     "name": "stdout",
     "output_type": "stream",
     "text": [
      "Epoch: 2 | Train Loss: 8.505148132126052 | Val Loss: 5.372775501675076 | Val Padded_cmAP : 0.6015503665603429\n"
     ]
    },
    {
     "name": "stderr",
     "output_type": "stream",
     "text": [
      "100%|██████████| 154/154 [02:19<00:00,  1.10it/s]\n",
      "100%|██████████| 27/27 [00:17<00:00,  1.52it/s]\n"
     ]
    },
    {
     "name": "stdout",
     "output_type": "stream",
     "text": [
      "Epoch: 3 | Train Loss: 7.3144017163809245 | Val Loss: 5.179658854449237 | Val Padded_cmAP : 0.7153608816313254\n"
     ]
    },
    {
     "name": "stderr",
     "output_type": "stream",
     "text": [
      "100%|██████████| 154/154 [02:19<00:00,  1.10it/s]\n",
      "100%|██████████| 27/27 [00:17<00:00,  1.55it/s]\n"
     ]
    },
    {
     "name": "stdout",
     "output_type": "stream",
     "text": [
      "Epoch: 4 | Train Loss: 6.259747638330831 | Val Loss: 5.062506958290383 | Val Padded_cmAP : 0.7703151314548532\n"
     ]
    },
    {
     "name": "stderr",
     "output_type": "stream",
     "text": [
      "100%|██████████| 154/154 [02:19<00:00,  1.10it/s]\n",
      "100%|██████████| 27/27 [00:18<00:00,  1.49it/s]\n"
     ]
    },
    {
     "name": "stdout",
     "output_type": "stream",
     "text": [
      "Epoch: 5 | Train Loss: 5.534741531718861 | Val Loss: 5.01871163756759 | Val Padded_cmAP : 0.7947541780655017\n"
     ]
    },
    {
     "name": "stderr",
     "output_type": "stream",
     "text": [
      "100%|██████████| 154/154 [02:19<00:00,  1.10it/s]\n",
      "100%|██████████| 27/27 [00:18<00:00,  1.48it/s]\n"
     ]
    },
    {
     "name": "stdout",
     "output_type": "stream",
     "text": [
      "Epoch: 6 | Train Loss: 5.027001653398786 | Val Loss: 4.981138282352024 | Val Padded_cmAP : 0.808756455634105\n"
     ]
    },
    {
     "name": "stderr",
     "output_type": "stream",
     "text": [
      "100%|██████████| 154/154 [02:19<00:00,  1.10it/s]\n",
      "100%|██████████| 27/27 [00:17<00:00,  1.51it/s]\n"
     ]
    },
    {
     "name": "stdout",
     "output_type": "stream",
     "text": [
      "Epoch: 7 | Train Loss: 4.575991853491052 | Val Loss: 4.948785093095568 | Val Padded_cmAP : 0.8280035155664183\n"
     ]
    },
    {
     "name": "stderr",
     "output_type": "stream",
     "text": [
      "100%|██████████| 154/154 [02:19<00:00,  1.10it/s]\n",
      "100%|██████████| 27/27 [00:17<00:00,  1.50it/s]\n"
     ]
    },
    {
     "name": "stdout",
     "output_type": "stream",
     "text": [
      "Epoch: 8 | Train Loss: 4.258650151166049 | Val Loss: 4.930264066766809 | Val Padded_cmAP : 0.8361066515581294\n"
     ]
    },
    {
     "name": "stderr",
     "output_type": "stream",
     "text": [
      "100%|██████████| 154/154 [02:19<00:00,  1.10it/s]\n",
      "100%|██████████| 27/27 [00:18<00:00,  1.50it/s]\n"
     ]
    },
    {
     "name": "stdout",
     "output_type": "stream",
     "text": [
      "Epoch: 9 | Train Loss: 3.984039060481183 | Val Loss: 4.919130395959924 | Val Padded_cmAP : 0.8421668365647043\n"
     ]
    },
    {
     "name": "stderr",
     "output_type": "stream",
     "text": [
      "100%|██████████| 154/154 [02:20<00:00,  1.09it/s]\n",
      "100%|██████████| 27/27 [00:17<00:00,  1.54it/s]\n"
     ]
    },
    {
     "name": "stdout",
     "output_type": "stream",
     "text": [
      "Epoch: 10 | Train Loss: 3.816125663844022 | Val Loss: 4.90358070090965 | Val Padded_cmAP : 0.852612940223475\n"
     ]
    },
    {
     "name": "stderr",
     "output_type": "stream",
     "text": [
      "100%|██████████| 154/154 [02:20<00:00,  1.10it/s]\n",
      "100%|██████████| 27/27 [00:17<00:00,  1.50it/s]\n"
     ]
    },
    {
     "name": "stdout",
     "output_type": "stream",
     "text": [
      "Epoch: 11 | Train Loss: 3.676850247692752 | Val Loss: 4.889689869350857 | Val Padded_cmAP : 0.8570060500860116\n"
     ]
    },
    {
     "name": "stderr",
     "output_type": "stream",
     "text": [
      "100%|██████████| 154/154 [02:19<00:00,  1.10it/s]\n",
      "100%|██████████| 27/27 [00:17<00:00,  1.55it/s]\n"
     ]
    },
    {
     "name": "stdout",
     "output_type": "stream",
     "text": [
      "Epoch: 12 | Train Loss: 3.4974343745739427 | Val Loss: 4.883757573586923 | Val Padded_cmAP : 0.8599870298674476\n"
     ]
    },
    {
     "name": "stderr",
     "output_type": "stream",
     "text": [
      "100%|██████████| 154/154 [02:19<00:00,  1.10it/s]\n",
      "100%|██████████| 27/27 [00:17<00:00,  1.51it/s]\n"
     ]
    },
    {
     "name": "stdout",
     "output_type": "stream",
     "text": [
      "Epoch: 13 | Train Loss: 3.38117520220868 | Val Loss: 4.879662725660536 | Val Padded_cmAP : 0.8597697029540892\n"
     ]
    },
    {
     "name": "stderr",
     "output_type": "stream",
     "text": [
      "100%|██████████| 154/154 [02:19<00:00,  1.10it/s]\n",
      "100%|██████████| 27/27 [00:17<00:00,  1.50it/s]\n"
     ]
    },
    {
     "name": "stdout",
     "output_type": "stream",
     "text": [
      "Epoch: 14 | Train Loss: 3.269722955567496 | Val Loss: 4.868332191749856 | Val Padded_cmAP : 0.8647940316106979\n"
     ]
    },
    {
     "name": "stderr",
     "output_type": "stream",
     "text": [
      "100%|██████████| 154/154 [02:20<00:00,  1.10it/s]\n",
      "100%|██████████| 27/27 [00:18<00:00,  1.49it/s]\n"
     ]
    },
    {
     "name": "stdout",
     "output_type": "stream",
     "text": [
      "Epoch: 15 | Train Loss: 3.178245646612985 | Val Loss: 4.870732660646792 | Val Padded_cmAP : 0.8604665002231807\n"
     ]
    },
    {
     "name": "stderr",
     "output_type": "stream",
     "text": [
      "100%|██████████| 154/154 [02:20<00:00,  1.10it/s]\n",
      "100%|██████████| 27/27 [00:17<00:00,  1.55it/s]\n"
     ]
    },
    {
     "name": "stdout",
     "output_type": "stream",
     "text": [
      "Epoch: 16 | Train Loss: 3.097741137851368 | Val Loss: 4.8572506198176635 | Val Padded_cmAP : 0.8701448781708303\n"
     ]
    },
    {
     "name": "stderr",
     "output_type": "stream",
     "text": [
      "100%|██████████| 154/154 [02:19<00:00,  1.10it/s]\n",
      "100%|██████████| 27/27 [00:17<00:00,  1.52it/s]\n"
     ]
    },
    {
     "name": "stdout",
     "output_type": "stream",
     "text": [
      "Epoch: 17 | Train Loss: 3.0141506504702877 | Val Loss: 4.8533966452987105 | Val Padded_cmAP : 0.8717978590935082\n"
     ]
    },
    {
     "name": "stderr",
     "output_type": "stream",
     "text": [
      "100%|██████████| 154/154 [02:19<00:00,  1.10it/s]\n",
      "100%|██████████| 27/27 [00:17<00:00,  1.54it/s]\n"
     ]
    },
    {
     "name": "stdout",
     "output_type": "stream",
     "text": [
      "Epoch: 18 | Train Loss: 2.945202881639654 | Val Loss: 4.850729359520806 | Val Padded_cmAP : 0.8731743204531531\n"
     ]
    },
    {
     "name": "stderr",
     "output_type": "stream",
     "text": [
      "100%|██████████| 154/154 [02:19<00:00,  1.10it/s]\n",
      "100%|██████████| 27/27 [00:17<00:00,  1.52it/s]\n"
     ]
    },
    {
     "name": "stdout",
     "output_type": "stream",
     "text": [
      "Epoch: 19 | Train Loss: 2.858122458705654 | Val Loss: 4.848439834736012 | Val Padded_cmAP : 0.872446093720236\n"
     ]
    },
    {
     "name": "stderr",
     "output_type": "stream",
     "text": [
      "100%|██████████| 154/154 [02:19<00:00,  1.10it/s]\n",
      "100%|██████████| 27/27 [00:17<00:00,  1.54it/s]\n"
     ]
    },
    {
     "name": "stdout",
     "output_type": "stream",
     "text": [
      "Epoch: 20 | Train Loss: 2.8275690419333324 | Val Loss: 4.842377503712972 | Val Padded_cmAP : 0.8762094310398116\n"
     ]
    },
    {
     "name": "stderr",
     "output_type": "stream",
     "text": [
      "100%|██████████| 154/154 [02:19<00:00,  1.10it/s]\n",
      "100%|██████████| 27/27 [00:18<00:00,  1.49it/s]\n"
     ]
    },
    {
     "name": "stdout",
     "output_type": "stream",
     "text": [
      "Epoch: 21 | Train Loss: 2.7608128615788052 | Val Loss: 4.838817490471734 | Val Padded_cmAP : 0.8748798632769316\n"
     ]
    },
    {
     "name": "stderr",
     "output_type": "stream",
     "text": [
      "100%|██████████| 154/154 [02:20<00:00,  1.10it/s]\n",
      "100%|██████████| 27/27 [00:18<00:00,  1.49it/s]\n"
     ]
    },
    {
     "name": "stdout",
     "output_type": "stream",
     "text": [
      "Epoch: 22 | Train Loss: 2.7135499266835 | Val Loss: 4.835584976055004 | Val Padded_cmAP : 0.8789935224880191\n"
     ]
    },
    {
     "name": "stderr",
     "output_type": "stream",
     "text": [
      "100%|██████████| 154/154 [02:19<00:00,  1.10it/s]\n",
      "100%|██████████| 27/27 [00:17<00:00,  1.54it/s]\n"
     ]
    },
    {
     "name": "stdout",
     "output_type": "stream",
     "text": [
      "Epoch: 23 | Train Loss: 2.6527787864982306 | Val Loss: 4.831574669590703 | Val Padded_cmAP : 0.8819764698902832\n"
     ]
    },
    {
     "name": "stderr",
     "output_type": "stream",
     "text": [
      "100%|██████████| 154/154 [02:20<00:00,  1.10it/s]\n",
      "100%|██████████| 27/27 [00:17<00:00,  1.53it/s]\n"
     ]
    },
    {
     "name": "stdout",
     "output_type": "stream",
     "text": [
      "Epoch: 24 | Train Loss: 2.6400600609841285 | Val Loss: 4.8268021124380605 | Val Padded_cmAP : 0.8808858178450135\n"
     ]
    },
    {
     "name": "stderr",
     "output_type": "stream",
     "text": [
      "100%|██████████| 154/154 [02:19<00:00,  1.10it/s]\n",
      "100%|██████████| 27/27 [00:18<00:00,  1.48it/s]\n"
     ]
    },
    {
     "name": "stdout",
     "output_type": "stream",
     "text": [
      "Epoch: 25 | Train Loss: 2.5849842483347114 | Val Loss: 4.825057471240008 | Val Padded_cmAP : 0.8838721052547849\n"
     ]
    },
    {
     "name": "stderr",
     "output_type": "stream",
     "text": [
      "100%|██████████| 154/154 [02:19<00:00,  1.10it/s]\n",
      "100%|██████████| 27/27 [00:17<00:00,  1.50it/s]\n"
     ]
    },
    {
     "name": "stdout",
     "output_type": "stream",
     "text": [
      "Epoch: 26 | Train Loss: 2.5639583290397345 | Val Loss: 4.822649991070783 | Val Padded_cmAP : 0.88277841574176\n"
     ]
    },
    {
     "name": "stderr",
     "output_type": "stream",
     "text": [
      "100%|██████████| 154/154 [02:19<00:00,  1.10it/s]\n",
      "100%|██████████| 27/27 [00:17<00:00,  1.51it/s]\n"
     ]
    },
    {
     "name": "stdout",
     "output_type": "stream",
     "text": [
      "Epoch: 27 | Train Loss: 2.4970714364733015 | Val Loss: 4.822574262265806 | Val Padded_cmAP : 0.8834863013618202\n"
     ]
    },
    {
     "name": "stderr",
     "output_type": "stream",
     "text": [
      "100%|██████████| 154/154 [02:19<00:00,  1.10it/s]\n",
      "100%|██████████| 27/27 [00:17<00:00,  1.51it/s]\n"
     ]
    },
    {
     "name": "stdout",
     "output_type": "stream",
     "text": [
      "Epoch: 28 | Train Loss: 2.4729475046133067 | Val Loss: 4.817787894496211 | Val Padded_cmAP : 0.8851159920293349\n"
     ]
    },
    {
     "name": "stderr",
     "output_type": "stream",
     "text": [
      "100%|██████████| 154/154 [02:19<00:00,  1.10it/s]\n",
      "100%|██████████| 27/27 [00:17<00:00,  1.53it/s]\n"
     ]
    },
    {
     "name": "stdout",
     "output_type": "stream",
     "text": [
      "Epoch: 29 | Train Loss: 2.444729489165467 | Val Loss: 4.816750844319661 | Val Padded_cmAP : 0.8846656928269598\n"
     ]
    },
    {
     "name": "stderr",
     "output_type": "stream",
     "text": [
      "100%|██████████| 154/154 [02:19<00:00,  1.10it/s]\n",
      "100%|██████████| 27/27 [00:18<00:00,  1.48it/s]\n"
     ]
    },
    {
     "name": "stdout",
     "output_type": "stream",
     "text": [
      "Epoch: 30 | Train Loss: 2.4332876360261597 | Val Loss: 4.815889217235424 | Val Padded_cmAP : 0.8841612068349531\n",
      "# Loading best model\n",
      "# Infering OOF\n"
     ]
    },
    {
     "name": "stderr",
     "output_type": "stream",
     "text": [
      "100%|██████████| 27/27 [00:08<00:00,  3.08it/s]\n",
      "/opt/conda/lib/python3.7/site-packages/pandas/core/frame.py:3678: PerformanceWarning: DataFrame is highly fragmented.  This is usually the result of calling `frame.insert` many times, which has poor performance.  Consider joining all columns at once using pd.concat(axis=1) instead.  To get a de-fragmented frame, use `newframe = frame.copy()`\n",
      "  self[col] = igetitem(value, i)\n",
      "/opt/conda/lib/python3.7/site-packages/pandas/core/indexing.py:1667: SettingWithCopyWarning: \n",
      "A value is trying to be set on a copy of a slice from a DataFrame.\n",
      "Try using .loc[row_indexer,col_indexer] = value instead\n",
      "\n",
      "See the caveats in the documentation: https://pandas.pydata.org/pandas-docs/stable/user_guide/indexing.html#returning-a-view-versus-a-copy\n",
      "  self.obj[key] = value\n"
     ]
    },
    {
     "name": "stdout",
     "output_type": "stream",
     "text": [
      "\n",
      ">>> FOLD 4 Padded_cmAP = 0.885\n",
      "# WandB\n"
     ]
    },
    {
     "name": "stderr",
     "output_type": "stream",
     "text": [
      "wandb : 100%|██████████| 717/717 [00:35<00:00, 20.03it/s]\n"
     ]
    },
    {
     "data": {
      "text/html": [
       "Waiting for W&B process to finish... <strong style=\"color:green\">(success).</strong>"
      ],
      "text/plain": [
       "<IPython.core.display.HTML object>"
      ]
     },
     "metadata": {},
     "output_type": "display_data"
    },
    {
     "data": {
      "application/vnd.jupyter.widget-view+json": {
       "model_id": "",
       "version_major": 2,
       "version_minor": 0
      },
      "text/plain": [
       "VBox(children=(Label(value='2050.027 MB of 2050.027 MB uploaded (0.000 MB deduped)\\r'), FloatProgress(value=1.…"
      ]
     },
     "metadata": {},
     "output_type": "display_data"
    },
    {
     "data": {
      "text/html": [
       "<style>\n",
       "    table.wandb td:nth-child(1) { padding: 0 10px; text-align: left ; width: auto;} td:nth-child(2) {text-align: left ; width: 100%}\n",
       "    .wandb-row { display: flex; flex-direction: row; flex-wrap: wrap; justify-content: flex-start; width: 100% }\n",
       "    .wandb-col { display: flex; flex-direction: column; flex-basis: 100%; flex: 1; padding: 10px; }\n",
       "    </style>\n",
       "<div class=\"wandb-row\"><div class=\"wandb-col\"><h3>Run history:</h3><br/><table class=\"wandb\"><tr><td>cmAP</td><td>▁</td></tr><tr><td>epoch</td><td>▁▁▁▂▂▂▂▃▃▃▃▄▄▄▄▅▅▅▅▆▆▆▆▇▇▇▇████</td></tr><tr><td>loss</td><td>██▇▆▆▅▄▄▃▃▃▃▃▂▂▂▂▂▂▂▂▂▂▂▂▂▂▁▁▂▁▁▂▂▂▁▁▁▁▁</td></tr><tr><td>lr</td><td>▁▂▄▅▇██████▇▇▇▆▆▆▅▅▅▄▄▄▃▃▃▂▂▂▁</td></tr><tr><td>num_train</td><td>▁</td></tr><tr><td>num_valid</td><td>▁</td></tr><tr><td>train_loss</td><td>█▇▆▅▄▄▃▃▃▂▂▂▂▂▂▂▂▂▁▁▁▁▁▁▁▁▁▁▁▁</td></tr><tr><td>valid_loss</td><td>█▆▅▃▃▃▂▂▂▂▂▂▂▂▂▁▁▁▁▁▁▁▁▁▁▁▁▁▁▁</td></tr><tr><td>valid_padded_cmAP</td><td>▁▃▅▆▆▇▇▇▇▇████████████████████</td></tr></table><br/></div><div class=\"wandb-col\"><h3>Run summary:</h3><br/><table class=\"wandb\"><tr><td>cmAP</td><td>0.88512</td></tr><tr><td>epoch</td><td>28</td></tr><tr><td>loss</td><td>2.73379</td></tr><tr><td>lr</td><td>0.0001</td></tr><tr><td>num_train</td><td>19623</td></tr><tr><td>num_valid</td><td>3381</td></tr><tr><td>train_loss</td><td>2.43329</td></tr><tr><td>valid_loss</td><td>4.81589</td></tr><tr><td>valid_padded_cmAP</td><td>0.88416</td></tr></table><br/></div></div>"
      ],
      "text/plain": [
       "<IPython.core.display.HTML object>"
      ]
     },
     "metadata": {},
     "output_type": "display_data"
    },
    {
     "data": {
      "text/html": [
       "Synced <strong style=\"color:#cdcd00\">fold-3|dim-313x224|model-tf_efficientnet_b1_ns|2023-04-07 18:40:45</strong>: <a href=\"https://wandb.ai/hirokin1999/birdclef-2023-public/runs/27a3ckqu\" target=\"_blank\">https://wandb.ai/hirokin1999/birdclef-2023-public/runs/27a3ckqu</a><br/>Synced 5 W&B file(s), 1 media file(s), 739 artifact file(s) and 1 other file(s)"
      ],
      "text/plain": [
       "<IPython.core.display.HTML object>"
      ]
     },
     "metadata": {},
     "output_type": "display_data"
    },
    {
     "data": {
      "text/html": [
       "Find logs at: <code>./wandb/run-20230407_134413-27a3ckqu/logs</code>"
      ],
      "text/plain": [
       "<IPython.core.display.HTML object>"
      ]
     },
     "metadata": {},
     "output_type": "display_data"
    },
    {
     "data": {
      "text/html": [
       "wandb version 0.14.1 is available!  To upgrade, please run:\n",
       " $ pip install wandb --upgrade"
      ],
      "text/plain": [
       "<IPython.core.display.HTML object>"
      ]
     },
     "metadata": {},
     "output_type": "display_data"
    },
    {
     "data": {
      "text/html": [
       "Tracking run with wandb version 0.12.21"
      ],
      "text/plain": [
       "<IPython.core.display.HTML object>"
      ]
     },
     "metadata": {},
     "output_type": "display_data"
    },
    {
     "data": {
      "text/html": [
       "Run data is saved locally in <code>/kaggle/working/adacos_20230407/wandb/run-20230407_150459-34ffxfue</code>"
      ],
      "text/plain": [
       "<IPython.core.display.HTML object>"
      ]
     },
     "metadata": {},
     "output_type": "display_data"
    },
    {
     "data": {
      "text/html": [
       "Syncing run <strong><a href=\"https://wandb.ai/hirokin1999/birdclef-2023-public/runs/34ffxfue\" target=\"_blank\">fold-4|dim-313x224|model-tf_efficientnet_b1_ns|2023-04-07 18:40:45</a></strong> to <a href=\"https://wandb.ai/hirokin1999/birdclef-2023-public\" target=\"_blank\">Weights & Biases</a> (<a href=\"https://wandb.me/run\" target=\"_blank\">docs</a>)<br/>"
      ],
      "text/plain": [
       "<IPython.core.display.HTML object>"
      ]
     },
     "metadata": {},
     "output_type": "display_data"
    },
    {
     "name": "stdout",
     "output_type": "stream",
     "text": [
      "#########################\n",
      "#### Training\n",
      "#### Fold: 5 | Image Size: (224, 313) | Model: tf_efficientnet_b1_ns | Batch Size: 128 | Scheduler: cos\n",
      "#### Num Train: 19,624 | Num Valid: 3,380\n"
     ]
    },
    {
     "name": "stderr",
     "output_type": "stream",
     "text": [
      "100%|██████████| 154/154 [02:18<00:00,  1.12it/s]\n",
      "100%|██████████| 27/27 [00:17<00:00,  1.51it/s]\n"
     ]
    },
    {
     "name": "stdout",
     "output_type": "stream",
     "text": [
      "Epoch: 1 | Train Loss: 9.119730101003276 | Val Loss: 5.537536020632143 | Val Padded_cmAP : 0.4855867533420742\n"
     ]
    },
    {
     "name": "stderr",
     "output_type": "stream",
     "text": [
      "100%|██████████| 154/154 [02:19<00:00,  1.11it/s]\n",
      "100%|██████████| 27/27 [00:17<00:00,  1.53it/s]\n"
     ]
    },
    {
     "name": "stdout",
     "output_type": "stream",
     "text": [
      "Epoch: 2 | Train Loss: 8.51383442383308 | Val Loss: 5.3737585456283 | Val Padded_cmAP : 0.5975764916991271\n"
     ]
    },
    {
     "name": "stderr",
     "output_type": "stream",
     "text": [
      "100%|██████████| 154/154 [02:19<00:00,  1.10it/s]\n",
      "100%|██████████| 27/27 [00:17<00:00,  1.51it/s]\n"
     ]
    },
    {
     "name": "stdout",
     "output_type": "stream",
     "text": [
      "Epoch: 3 | Train Loss: 7.290193412211035 | Val Loss: 5.17286600889983 | Val Padded_cmAP : 0.7251892553300398\n"
     ]
    },
    {
     "name": "stderr",
     "output_type": "stream",
     "text": [
      "100%|██████████| 154/154 [02:20<00:00,  1.10it/s]\n",
      "100%|██████████| 27/27 [00:17<00:00,  1.57it/s]\n"
     ]
    },
    {
     "name": "stdout",
     "output_type": "stream",
     "text": [
      "Epoch: 4 | Train Loss: 6.2567351762350505 | Val Loss: 5.0617563812821 | Val Padded_cmAP : 0.7705932522111297\n"
     ]
    },
    {
     "name": "stderr",
     "output_type": "stream",
     "text": [
      "100%|██████████| 154/154 [02:19<00:00,  1.10it/s]\n",
      "100%|██████████| 27/27 [00:17<00:00,  1.52it/s]\n"
     ]
    },
    {
     "name": "stdout",
     "output_type": "stream",
     "text": [
      "Epoch: 5 | Train Loss: 5.515856009025078 | Val Loss: 5.006311487268518 | Val Padded_cmAP : 0.8008952565559462\n"
     ]
    },
    {
     "name": "stderr",
     "output_type": "stream",
     "text": [
      "100%|██████████| 154/154 [02:20<00:00,  1.10it/s]\n",
      "100%|██████████| 27/27 [00:18<00:00,  1.49it/s]\n"
     ]
    },
    {
     "name": "stdout",
     "output_type": "stream",
     "text": [
      "Epoch: 6 | Train Loss: 4.997385223190506 | Val Loss: 4.9764092056839555 | Val Padded_cmAP : 0.8152578284008745\n"
     ]
    },
    {
     "name": "stderr",
     "output_type": "stream",
     "text": [
      "100%|██████████| 154/154 [02:19<00:00,  1.10it/s]\n",
      "100%|██████████| 27/27 [00:18<00:00,  1.50it/s]\n"
     ]
    },
    {
     "name": "stdout",
     "output_type": "stream",
     "text": [
      "Epoch: 7 | Train Loss: 4.569042134594608 | Val Loss: 4.940138269353796 | Val Padded_cmAP : 0.8355566851256228\n"
     ]
    },
    {
     "name": "stderr",
     "output_type": "stream",
     "text": [
      "100%|██████████| 154/154 [02:19<00:00,  1.10it/s]\n",
      "100%|██████████| 27/27 [00:17<00:00,  1.54it/s]\n"
     ]
    },
    {
     "name": "stdout",
     "output_type": "stream",
     "text": [
      "Epoch: 8 | Train Loss: 4.262032926856698 | Val Loss: 4.919280793931749 | Val Padded_cmAP : 0.8429901497592237\n"
     ]
    },
    {
     "name": "stderr",
     "output_type": "stream",
     "text": [
      "100%|██████████| 154/154 [02:19<00:00,  1.10it/s]\n",
      "100%|██████████| 27/27 [00:17<00:00,  1.54it/s]\n"
     ]
    },
    {
     "name": "stdout",
     "output_type": "stream",
     "text": [
      "Epoch: 9 | Train Loss: 4.007830079499778 | Val Loss: 4.920446855050546 | Val Padded_cmAP : 0.8454701792865865\n"
     ]
    },
    {
     "name": "stderr",
     "output_type": "stream",
     "text": [
      "100%|██████████| 154/154 [02:20<00:00,  1.10it/s]\n",
      "100%|██████████| 27/27 [00:17<00:00,  1.54it/s]\n"
     ]
    },
    {
     "name": "stdout",
     "output_type": "stream",
     "text": [
      "Epoch: 10 | Train Loss: 3.8375524019266103 | Val Loss: 4.9079473283555775 | Val Padded_cmAP : 0.8542236344596654\n"
     ]
    },
    {
     "name": "stderr",
     "output_type": "stream",
     "text": [
      "100%|██████████| 154/154 [02:20<00:00,  1.10it/s]\n",
      "100%|██████████| 27/27 [00:17<00:00,  1.53it/s]\n"
     ]
    },
    {
     "name": "stdout",
     "output_type": "stream",
     "text": [
      "Epoch: 11 | Train Loss: 3.6540998901639665 | Val Loss: 4.892683682618318 | Val Padded_cmAP : 0.8630966670353978\n"
     ]
    },
    {
     "name": "stderr",
     "output_type": "stream",
     "text": [
      "100%|██████████| 154/154 [02:19<00:00,  1.10it/s]\n",
      "100%|██████████| 27/27 [00:17<00:00,  1.55it/s]\n"
     ]
    },
    {
     "name": "stdout",
     "output_type": "stream",
     "text": [
      "Epoch: 12 | Train Loss: 3.517343748699535 | Val Loss: 4.886670677750199 | Val Padded_cmAP : 0.8590228414559533\n"
     ]
    },
    {
     "name": "stderr",
     "output_type": "stream",
     "text": [
      "100%|██████████| 154/154 [02:19<00:00,  1.10it/s]\n",
      "100%|██████████| 27/27 [00:17<00:00,  1.53it/s]\n"
     ]
    },
    {
     "name": "stdout",
     "output_type": "stream",
     "text": [
      "Epoch: 13 | Train Loss: 3.395132247503702 | Val Loss: 4.8803586606626155 | Val Padded_cmAP : 0.8652234960599002\n"
     ]
    },
    {
     "name": "stderr",
     "output_type": "stream",
     "text": [
      "100%|██████████| 154/154 [02:19<00:00,  1.10it/s]\n",
      "100%|██████████| 27/27 [00:17<00:00,  1.55it/s]\n"
     ]
    },
    {
     "name": "stdout",
     "output_type": "stream",
     "text": [
      "Epoch: 14 | Train Loss: 3.290217277291533 | Val Loss: 4.867943622447826 | Val Padded_cmAP : 0.8685541617066257\n"
     ]
    },
    {
     "name": "stderr",
     "output_type": "stream",
     "text": [
      "100%|██████████| 154/154 [02:19<00:00,  1.11it/s]\n",
      "100%|██████████| 27/27 [00:17<00:00,  1.55it/s]\n"
     ]
    },
    {
     "name": "stdout",
     "output_type": "stream",
     "text": [
      "Epoch: 15 | Train Loss: 3.2026626939897413 | Val Loss: 4.865009784698486 | Val Padded_cmAP : 0.8681627790988778\n"
     ]
    },
    {
     "name": "stderr",
     "output_type": "stream",
     "text": [
      "100%|██████████| 154/154 [02:19<00:00,  1.10it/s]\n",
      "100%|██████████| 27/27 [00:17<00:00,  1.55it/s]\n"
     ]
    },
    {
     "name": "stdout",
     "output_type": "stream",
     "text": [
      "Epoch: 16 | Train Loss: 3.0957286001799944 | Val Loss: 4.85437356101142 | Val Padded_cmAP : 0.8742250730204117\n"
     ]
    },
    {
     "name": "stderr",
     "output_type": "stream",
     "text": [
      "100%|██████████| 154/154 [02:19<00:00,  1.10it/s]\n",
      "100%|██████████| 27/27 [00:18<00:00,  1.43it/s]\n"
     ]
    },
    {
     "name": "stdout",
     "output_type": "stream",
     "text": [
      "Epoch: 17 | Train Loss: 3.003447653411271 | Val Loss: 4.848781779960349 | Val Padded_cmAP : 0.8743834329900745\n"
     ]
    },
    {
     "name": "stderr",
     "output_type": "stream",
     "text": [
      "100%|██████████| 154/154 [02:19<00:00,  1.10it/s]\n",
      "100%|██████████| 27/27 [00:17<00:00,  1.51it/s]\n"
     ]
    },
    {
     "name": "stdout",
     "output_type": "stream",
     "text": [
      "Epoch: 18 | Train Loss: 2.9338038385688483 | Val Loss: 4.845566131450512 | Val Padded_cmAP : 0.8762183717248548\n"
     ]
    },
    {
     "name": "stderr",
     "output_type": "stream",
     "text": [
      "100%|██████████| 154/154 [02:20<00:00,  1.10it/s]\n",
      "100%|██████████| 27/27 [00:17<00:00,  1.50it/s]\n"
     ]
    },
    {
     "name": "stdout",
     "output_type": "stream",
     "text": [
      "Epoch: 19 | Train Loss: 2.893468282439492 | Val Loss: 4.83601822676482 | Val Padded_cmAP : 0.8794713861384158\n"
     ]
    },
    {
     "name": "stderr",
     "output_type": "stream",
     "text": [
      "100%|██████████| 154/154 [02:19<00:00,  1.10it/s]\n",
      "100%|██████████| 27/27 [00:17<00:00,  1.54it/s]\n"
     ]
    },
    {
     "name": "stdout",
     "output_type": "stream",
     "text": [
      "Epoch: 20 | Train Loss: 2.8112948916175147 | Val Loss: 4.840370036937572 | Val Padded_cmAP : 0.8791363213665356\n"
     ]
    },
    {
     "name": "stderr",
     "output_type": "stream",
     "text": [
      "100%|██████████| 154/154 [02:19<00:00,  1.10it/s]\n",
      "100%|██████████| 27/27 [00:17<00:00,  1.55it/s]\n"
     ]
    },
    {
     "name": "stdout",
     "output_type": "stream",
     "text": [
      "Epoch: 21 | Train Loss: 2.7349279406782867 | Val Loss: 4.833374129401313 | Val Padded_cmAP : 0.8820147742439561\n"
     ]
    },
    {
     "name": "stderr",
     "output_type": "stream",
     "text": [
      "100%|██████████| 154/154 [02:19<00:00,  1.10it/s]\n",
      "100%|██████████| 27/27 [00:17<00:00,  1.54it/s]\n"
     ]
    },
    {
     "name": "stdout",
     "output_type": "stream",
     "text": [
      "Epoch: 22 | Train Loss: 2.6826137134007046 | Val Loss: 4.824500896312572 | Val Padded_cmAP : 0.8850226845256663\n"
     ]
    },
    {
     "name": "stderr",
     "output_type": "stream",
     "text": [
      "100%|██████████| 154/154 [02:19<00:00,  1.10it/s]\n",
      "100%|██████████| 27/27 [00:17<00:00,  1.53it/s]\n"
     ]
    },
    {
     "name": "stdout",
     "output_type": "stream",
     "text": [
      "Epoch: 23 | Train Loss: 2.6113596612756904 | Val Loss: 4.827422760151051 | Val Padded_cmAP : 0.8830272932333247\n"
     ]
    },
    {
     "name": "stderr",
     "output_type": "stream",
     "text": [
      "100%|██████████| 154/154 [02:19<00:00,  1.10it/s]\n",
      "100%|██████████| 27/27 [00:18<00:00,  1.49it/s]\n"
     ]
    },
    {
     "name": "stdout",
     "output_type": "stream",
     "text": [
      "Epoch: 25 | Train Loss: 2.5424648383995154 | Val Loss: 4.8197638900191695 | Val Padded_cmAP : 0.8892044017875765\n"
     ]
    },
    {
     "name": "stderr",
     "output_type": "stream",
     "text": [
      "100%|██████████| 154/154 [02:20<00:00,  1.10it/s]\n",
      "100%|██████████| 27/27 [00:17<00:00,  1.52it/s]\n"
     ]
    },
    {
     "name": "stdout",
     "output_type": "stream",
     "text": [
      "Epoch: 26 | Train Loss: 2.506370422127959 | Val Loss: 4.817181004418267 | Val Padded_cmAP : 0.8881029746273738\n"
     ]
    },
    {
     "name": "stderr",
     "output_type": "stream",
     "text": [
      "100%|██████████| 154/154 [02:19<00:00,  1.10it/s]\n",
      "100%|██████████| 27/27 [00:17<00:00,  1.53it/s]\n"
     ]
    },
    {
     "name": "stdout",
     "output_type": "stream",
     "text": [
      "Epoch: 27 | Train Loss: 2.477715408647215 | Val Loss: 4.815540949503581 | Val Padded_cmAP : 0.8882715243953764\n"
     ]
    },
    {
     "name": "stderr",
     "output_type": "stream",
     "text": [
      "100%|██████████| 154/154 [02:19<00:00,  1.10it/s]\n",
      "100%|██████████| 27/27 [00:17<00:00,  1.55it/s]\n"
     ]
    },
    {
     "name": "stdout",
     "output_type": "stream",
     "text": [
      "Epoch: 28 | Train Loss: 2.4744347395834985 | Val Loss: 4.812629982277199 | Val Padded_cmAP : 0.8892358974383922\n"
     ]
    },
    {
     "name": "stderr",
     "output_type": "stream",
     "text": [
      "100%|██████████| 154/154 [02:20<00:00,  1.10it/s]\n",
      "100%|██████████| 27/27 [00:17<00:00,  1.51it/s]\n"
     ]
    },
    {
     "name": "stdout",
     "output_type": "stream",
     "text": [
      "Epoch: 29 | Train Loss: 2.441990048854382 | Val Loss: 4.814302691706905 | Val Padded_cmAP : 0.8898054698844415\n"
     ]
    },
    {
     "name": "stderr",
     "output_type": "stream",
     "text": [
      "100%|██████████| 154/154 [02:20<00:00,  1.10it/s]\n",
      "100%|██████████| 27/27 [00:17<00:00,  1.53it/s]\n"
     ]
    },
    {
     "name": "stdout",
     "output_type": "stream",
     "text": [
      "Epoch: 30 | Train Loss: 2.418612519641975 | Val Loss: 4.809920734829372 | Val Padded_cmAP : 0.8916320647151066\n",
      "# Loading best model\n",
      "# Infering OOF\n"
     ]
    },
    {
     "name": "stderr",
     "output_type": "stream",
     "text": [
      "100%|██████████| 27/27 [00:08<00:00,  3.06it/s]\n",
      "/opt/conda/lib/python3.7/site-packages/pandas/core/frame.py:3678: PerformanceWarning: DataFrame is highly fragmented.  This is usually the result of calling `frame.insert` many times, which has poor performance.  Consider joining all columns at once using pd.concat(axis=1) instead.  To get a de-fragmented frame, use `newframe = frame.copy()`\n",
      "  self[col] = igetitem(value, i)\n",
      "/opt/conda/lib/python3.7/site-packages/pandas/core/indexing.py:1667: SettingWithCopyWarning: \n",
      "A value is trying to be set on a copy of a slice from a DataFrame.\n",
      "Try using .loc[row_indexer,col_indexer] = value instead\n",
      "\n",
      "See the caveats in the documentation: https://pandas.pydata.org/pandas-docs/stable/user_guide/indexing.html#returning-a-view-versus-a-copy\n",
      "  self.obj[key] = value\n"
     ]
    },
    {
     "name": "stdout",
     "output_type": "stream",
     "text": [
      "\n",
      ">>> FOLD 5 Padded_cmAP = 0.892\n",
      "# WandB\n"
     ]
    },
    {
     "name": "stderr",
     "output_type": "stream",
     "text": [
      "wandb : 100%|██████████| 703/703 [00:34<00:00, 20.11it/s]\n"
     ]
    },
    {
     "data": {
      "text/html": [
       "Waiting for W&B process to finish... <strong style=\"color:green\">(success).</strong>"
      ],
      "text/plain": [
       "<IPython.core.display.HTML object>"
      ]
     },
     "metadata": {},
     "output_type": "display_data"
    },
    {
     "data": {
      "application/vnd.jupyter.widget-view+json": {
       "model_id": "",
       "version_major": 2,
       "version_minor": 0
      },
      "text/plain": [
       "VBox(children=(Label(value='2077.645 MB of 2077.645 MB uploaded (0.000 MB deduped)\\r'), FloatProgress(value=1.…"
      ]
     },
     "metadata": {},
     "output_type": "display_data"
    },
    {
     "data": {
      "text/html": [
       "<style>\n",
       "    table.wandb td:nth-child(1) { padding: 0 10px; text-align: left ; width: auto;} td:nth-child(2) {text-align: left ; width: 100%}\n",
       "    .wandb-row { display: flex; flex-direction: row; flex-wrap: wrap; justify-content: flex-start; width: 100% }\n",
       "    .wandb-col { display: flex; flex-direction: column; flex-basis: 100%; flex: 1; padding: 10px; }\n",
       "    </style>\n",
       "<div class=\"wandb-row\"><div class=\"wandb-col\"><h3>Run history:</h3><br/><table class=\"wandb\"><tr><td>cmAP</td><td>▁</td></tr><tr><td>epoch</td><td>▁▁▁▂▂▂▂▃▃▃▃▄▄▄▄▅▅▅▅▆▆▆▆▇▇▇▇████</td></tr><tr><td>loss</td><td>██▇▆▅▄▄▄▃▃▃▃▂▃▃▃▂▂▂▂▂▂▂▂▂▂▂▂▂▂▂▁▁▁▁▁▁▁▁▁</td></tr><tr><td>lr</td><td>▁▂▄▅▇██████▇▇▇▆▆▆▅▅▅▄▄▄▃▃▃▂▂▂▁</td></tr><tr><td>num_train</td><td>▁</td></tr><tr><td>num_valid</td><td>▁</td></tr><tr><td>train_loss</td><td>█▇▆▅▄▄▃▃▃▂▂▂▂▂▂▂▂▂▁▁▁▁▁▁▁▁▁▁▁▁</td></tr><tr><td>valid_loss</td><td>█▆▄▃▃▃▂▂▂▂▂▂▂▂▂▁▁▁▁▁▁▁▁▁▁▁▁▁▁▁</td></tr><tr><td>valid_padded_cmAP</td><td>▁▃▅▆▆▇▇▇▇▇█▇██████████████████</td></tr></table><br/></div><div class=\"wandb-col\"><h3>Run summary:</h3><br/><table class=\"wandb\"><tr><td>cmAP</td><td>0.89163</td></tr><tr><td>epoch</td><td>30</td></tr><tr><td>loss</td><td>2.54463</td></tr><tr><td>lr</td><td>0.0001</td></tr><tr><td>num_train</td><td>19624</td></tr><tr><td>num_valid</td><td>3380</td></tr><tr><td>train_loss</td><td>2.41861</td></tr><tr><td>valid_loss</td><td>4.80992</td></tr><tr><td>valid_padded_cmAP</td><td>0.89163</td></tr></table><br/></div></div>"
      ],
      "text/plain": [
       "<IPython.core.display.HTML object>"
      ]
     },
     "metadata": {},
     "output_type": "display_data"
    },
    {
     "data": {
      "text/html": [
       "Synced <strong style=\"color:#cdcd00\">fold-4|dim-313x224|model-tf_efficientnet_b1_ns|2023-04-07 18:40:45</strong>: <a href=\"https://wandb.ai/hirokin1999/birdclef-2023-public/runs/34ffxfue\" target=\"_blank\">https://wandb.ai/hirokin1999/birdclef-2023-public/runs/34ffxfue</a><br/>Synced 5 W&B file(s), 1 media file(s), 727 artifact file(s) and 1 other file(s)"
      ],
      "text/plain": [
       "<IPython.core.display.HTML object>"
      ]
     },
     "metadata": {},
     "output_type": "display_data"
    },
    {
     "data": {
      "text/html": [
       "Find logs at: <code>./wandb/run-20230407_150459-34ffxfue/logs</code>"
      ],
      "text/plain": [
       "<IPython.core.display.HTML object>"
      ]
     },
     "metadata": {},
     "output_type": "display_data"
    }
   ],
   "source": [
    "oof_pred = []; oof_true = []; oof_val = []; oof_ids = []; oof_folds = [] \n",
    "\n",
    "num_classes = CFG.num_classes\n",
    "df = df.copy()\n",
    "for fold in range(CFG.num_fold):\n",
    "    # Check if the fold is selected\n",
    "    if fold not in CFG.selected_folds:\n",
    "        continue\n",
    "    \n",
    "    # Initialize Weights and Biases\n",
    "    if CFG.wandb:\n",
    "        run = wandb_init(fold)\n",
    "    \n",
    "    # Compute batch size and number of samples to drop\n",
    "    infer_bs = CFG.valid_bs\n",
    "    drop_remainder = CFG.drop_remainder\n",
    "    \n",
    "    # Split dataset with cv filter\n",
    "    if CFG.cv_filter:\n",
    "        df = com.filter_data(df, thr=5)\n",
    "        train_df = df.query(\"fold!=@fold | ~cv\").reset_index(drop=True)\n",
    "        valid_df = df.query(\"fold==@fold & cv\").reset_index(drop=True)\n",
    "    else:\n",
    "        train_df = df.query(\"fold!=@fold\").reset_index(drop=True)\n",
    "        valid_df = df.query(\"fold==@fold\").reset_index(drop=True)\n",
    "    \n",
    "    # Upsample train data\n",
    "    train_df = com.upsample_data(train_df, thr=CFG.upsample_thr)\n",
    "#     train_df = downsample_data(train_df, thr=500)\n",
    "\n",
    "    # Get file paths and labels\n",
    "    train_paths = train_df.filepath.values; train_labels = train_df.target.values\n",
    "    valid_paths = valid_df.filepath.values; valid_labels = valid_df.target.values\n",
    "\n",
    "    # Shuffle the file paths and labels\n",
    "    index = np.arange(len(train_paths))\n",
    "    np.random.shuffle(index)\n",
    "    train_paths  = train_paths[index]\n",
    "    train_labels = train_labels[index]\n",
    "\n",
    "    # wav\n",
    "    train_ftype = list(map(lambda x: '.wav' in x, train_paths))\n",
    "    valid_ftype = list(map(lambda x: '.wav' in x, valid_paths))\n",
    "\n",
    "    # Compute the number of training and validation samples\n",
    "    num_train = len(train_paths); num_valid = len(valid_paths)\n",
    "        \n",
    "    # Log the number of training and validation samples if Weights and Biases is being used\n",
    "    if CFG.wandb:\n",
    "        wandb.log({'num_train':num_train,\n",
    "                   'num_valid':num_valid})\n",
    "        \n",
    "    # Build the training and validation datasets\n",
    "    # For debugging\n",
    "    if CFG.debug:\n",
    "        min_samples = CFG.batch_size\n",
    "        train_ds = prep.BirdDataset(train_df.iloc[:min_samples], is_train=True)\n",
    "        valid_ds = prep.BirdDataset(valid_df.iloc[:min_samples], is_train=False)\n",
    "    else:\n",
    "        train_ds = prep.BirdDataset(train_df, is_train=True)\n",
    "        valid_ds = prep.BirdDataset(valid_df, is_train=False)\n",
    "    # dataloader\n",
    "    train_dataloader, val_dataloader = modeler.make_dataloder(train_ds, valid_ds)\n",
    "    \n",
    "    # Clear the session and build the model\n",
    "    model = BirdCLEF23Net(num_classes=CFG.num_classes)\n",
    "    # Load birdclef pretrained weights\n",
    "    if CFG.pretrain == True:\n",
    "        model.load_state_dict(torch.load(CFG.pretrained_model_path), strict=False)\n",
    "    model.to(device)\n",
    "    \n",
    "    print('#' * 25)\n",
    "    print('#### Training')\n",
    "    print('#### Fold: %i | Image Size: (%i, %i) | Model: %s | Batch Size: %i | Scheduler: %s' %\n",
    "        (fold + 1, *CFG.img_size, CFG.model_name, CFG.batch_size, CFG.scheduler))\n",
    "    print('#### Num Train: {:,} | Num Valid: {:,}'.format(len(train_paths), len(valid_paths)))\n",
    "\n",
    "    optimizer = com.get_optimizer(model)\n",
    "    # TODO com.get_scheduler\n",
    "    scheduler = CosineLRScheduler(optimizer, t_initial=CFG.epochs, lr_min=CFG.lr_min, \n",
    "                                  warmup_t=CFG.warmup_t, warmup_lr_init=CFG.warmup_lr_init, warmup_prefix=True)\n",
    "    criterion = com.get_criterion()\n",
    "\n",
    "    best_score = -1\n",
    "    best_epoch = -1\n",
    "\n",
    "    for epoch in range(2 if CFG.debug else CFG.epochs):\n",
    "        # Training\n",
    "        model.train()\n",
    "        epoch_loss = 0\n",
    "        for inputs, sample_info in tqdm(train_dataloader):\n",
    "            inputs, targets = inputs.to(device), sample_info['target'].to(device)\n",
    "            targets = F.one_hot(targets, num_classes=CFG.num_classes).float()\n",
    "            optimizer.zero_grad()\n",
    "            outputs, mix_targets = model(inputs, targets)\n",
    "            loss = criterion(outputs, mix_targets)\n",
    "            loss.backward()\n",
    "            optimizer.step()\n",
    "            epoch_loss += loss.item()\n",
    "            # wandb logger (Train loss)\n",
    "            run.log({'loss': loss.item()})\n",
    "        scheduler.step(epoch+1)\n",
    "\n",
    "        # Validation\n",
    "        model.eval()\n",
    "        val_loss = 0\n",
    "        val_preds = []\n",
    "        val_true = []\n",
    "        with torch.no_grad():\n",
    "            for inputs, sample_info in tqdm(val_dataloader):\n",
    "                inputs, targets = inputs.to(device), sample_info['target'].to(device)\n",
    "                targets = F.one_hot(targets, num_classes=CFG.num_classes).float()\n",
    "                outputs = model(inputs)\n",
    "                loss = criterion(outputs, targets)\n",
    "                outputs = torch.softmax(outputs, dim=1)\n",
    "                #outputs = torch.softmax(outputs, dim=1)\n",
    "                val_loss += loss.item()\n",
    "                val_preds.append(outputs.detach().cpu().numpy())\n",
    "                val_true.append(targets.detach().cpu().numpy())\n",
    "\n",
    "        val_preds = np.vstack(val_preds)\n",
    "        val_true = np.vstack(val_true)\n",
    "        # Metrics\n",
    "        val_score = com.padded_cmap(val_true, val_preds)\n",
    "        # Checkpoint\n",
    "        if val_score > best_score:\n",
    "            best_score = val_score\n",
    "            best_epoch = epoch + 1\n",
    "            torch.save(model.state_dict(), f'fold-{fold}.pth')\n",
    "            art = wandb.Artifact(\"birdclef-2023\", type=\"model\")\n",
    "            art.add_file(f'fold-{fold}.pth')\n",
    "            run.log_artifact(art)\n",
    "\n",
    "        print(f'Epoch: {epoch + 1} | Train Loss: {epoch_loss / len(train_dataloader)} | '\n",
    "            f'Val Loss: {val_loss / len(val_dataloader)} | Val Padded_cmAP : {val_score}')\n",
    "        \n",
    "        # wandb logger\n",
    "        lr = scheduler.get_epoch_values(epoch)[0]\n",
    "        run.log({'train_loss': epoch_loss / len(train_dataloader),\n",
    "                 'lr': lr,\n",
    "                 'epoch': epoch+1,\n",
    "                 'valid_loss': val_loss / len(val_dataloader),\n",
    "                 'valid_padded_cmAP': val_score,})\n",
    "        \n",
    "        \n",
    "    # Load best checkpoint\n",
    "    print('# Loading best model')\n",
    "    model.load_state_dict(torch.load(f'fold-{fold}.pth'))\n",
    "\n",
    "    # Predict on the validation data for oof result\n",
    "    print('# Infering OOF')\n",
    "    model.eval()\n",
    "    oof_pred_ = []\n",
    "    with torch.no_grad():\n",
    "        for inputs, sample_info in tqdm(val_dataloader):\n",
    "            inputs, targets = inputs.to(device), sample_info['target'].to(device)\n",
    "            outputs = model(inputs)\n",
    "            outputs = torch.softmax(outputs, dim=1)\n",
    "            oof_pred_.append(outputs.detach().cpu().numpy())\n",
    "\n",
    "    oof_pred_ = np.concatenate(oof_pred_, axis=0)\n",
    "    # oof_pred : 5\n",
    "    oof_pred.append(oof_pred_)\n",
    "\n",
    "    # Get ids and targets\n",
    "    oof_true.append(valid_labels)\n",
    "    oof_folds.append(np.ones_like(oof_true[-1], dtype='int8') * fold)\n",
    "    oof_ids.append(valid_paths)\n",
    "\n",
    "    # Save valid data prediction\n",
    "    y_true = np.array(oof_true[-1])\n",
    "    y_pred = np.argmax(oof_pred[-1], axis=-1)\n",
    "    \n",
    "    valid_df['pred'] = y_pred\n",
    "    valid_df['miss'] = y_true != y_pred\n",
    "    valid_df[CFG.class_names] = oof_pred[-1].tolist()\n",
    "    # Log the metrics\n",
    "    scores = {}\n",
    "    cmAP = com.padded_cmap(com.one_hot_encode(y_true), oof_pred[-1])\n",
    "    oof_val.append(best_score)\n",
    "    print('\\n>>> FOLD %i Padded_cmAP = %.3f' % (fold+1, cmAP))\n",
    "    scores.update({'epoch': best_epoch,\n",
    "                   'cmAP': cmAP,})\n",
    "    # wandb logger \n",
    "    run.log(scores)\n",
    "    # Show training plot\n",
    "    # if CFG.training_plot:\n",
    "    #     plot_history(history)\n",
    "    # Log metrics, media to wandb\n",
    "    if CFG.wandb:\n",
    "        print('# WandB')\n",
    "        log_wandb(valid_df)\n",
    "        wandb.run.finish()\n",
    "        #display(ipd.IFrame(run.url, width=1080, height=720))"
   ]
  },
  {
   "cell_type": "markdown",
   "metadata": {},
   "source": [
    "# Performance"
   ]
  },
  {
   "cell_type": "code",
   "execution_count": 11,
   "metadata": {},
   "outputs": [],
   "source": [
    "def get_id(row):\n",
    "    row['filename'] = row['filepath'].split('/',5)[-1]\n",
    "    return row"
   ]
  },
  {
   "cell_type": "code",
   "execution_count": 12,
   "metadata": {},
   "outputs": [
    {
     "name": "stdout",
     "output_type": "stream",
     "text": [
      ">>> Overall cmAP:  0.7851803610412134\n"
     ]
    }
   ],
   "source": [
    "from sklearn.metrics import average_precision_score\n",
    "\n",
    "# OOF Data\n",
    "y_pred = np.concatenate(oof_pred)\n",
    "y_true = np.concatenate(oof_true)\n",
    "ids = np.concatenate(oof_ids)\n",
    "folds = np.concatenate(oof_folds)\n",
    "\n",
    "# Overall cmAP\n",
    "cmAP = com.padded_cmap(com.one_hot_encode(y_true), y_pred)\n",
    "\n",
    "# Overall AUC in PR curve\n",
    "# y_true_one_hot = torch.nn.functional.one_hot(torch.tensor(y_true))\n",
    "# y_pred_tensor = torch.tensor(y_pred)\n",
    "#auc = average_precision_score(y_true_one_hot.numpy(), y_pred_tensor.numpy(), average='macro')\n",
    "\n",
    "print('>>> Overall cmAP: ', cmAP)\n",
    "#print('>>> Overall AUC(PR): ', auc)"
   ]
  },
  {
   "cell_type": "markdown",
   "metadata": {},
   "source": [
    "## save oof"
   ]
  },
  {
   "cell_type": "code",
   "execution_count": 13,
   "metadata": {},
   "outputs": [],
   "source": [
    "# # Save OOF data to disk\n",
    "# columns = ['filepath', 'fold', 'true', 'pred', *CFG.class_names]\n",
    "# df_oof = pd.DataFrame(np.concatenate([ids[:,None], folds, y_true,\n",
    "#                                       np.argmax(y_pred,axis=1)[:,None], y_pred], axis=1), columns=columns)\n",
    "# df_oof['class_name'] = df_oof.true.map(CFG.label2name)\n",
    "# df_oof['miss'] = df_oof.true!=df_oof.pred\n",
    "# tqdm.pandas(desc='id ')\n",
    "# df_oof = df_oof.progress_apply(get_id,axis=1)\n",
    "# df_oof.to_csv('oof.csv',index=False)\n",
    "# display(df_oof.head(2))"
   ]
  },
  {
   "cell_type": "markdown",
   "metadata": {},
   "source": [
    "# Error Analysis"
   ]
  },
  {
   "cell_type": "code",
   "execution_count": 14,
   "metadata": {},
   "outputs": [],
   "source": [
    "# print('Miss Total:')\n",
    "# display(df_oof.query(\"miss==True\").shape[0])\n",
    "\n",
    "# print()\n",
    "# print('Miss Distribution Top10:')\n",
    "# display(df_oof.query(\"miss==True\").class_name.value_counts()[:10])"
   ]
  }
 ],
 "metadata": {
  "kernelspec": {
   "display_name": "Python 3 (ipykernel)",
   "language": "python",
   "name": "python3"
  },
  "language_info": {
   "codemirror_mode": {
    "name": "ipython",
    "version": 3
   },
   "file_extension": ".py",
   "mimetype": "text/x-python",
   "name": "python",
   "nbconvert_exporter": "python",
   "pygments_lexer": "ipython3",
   "version": "3.7.12"
  },
  "vscode": {
   "interpreter": {
    "hash": "d4d1e4263499bec80672ea0156c357c1ee493ec2b1c70f0acce89fc37c4a6abe"
   }
  }
 },
 "nbformat": 4,
 "nbformat_minor": 4
}
